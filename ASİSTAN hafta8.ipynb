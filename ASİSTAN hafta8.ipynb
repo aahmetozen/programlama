{
 "cells": [
  {
   "cell_type": "code",
   "execution_count": 11,
   "id": "7317d443",
   "metadata": {},
   "outputs": [
    {
     "name": "stdout",
     "output_type": "stream",
     "text": [
      "[1, 2, 3, 4, 'a', 'b', 'c']\n"
     ]
    }
   ],
   "source": [
    "list1=[1,2,3,4,'a','b','c']\n",
    "print(list1)"
   ]
  },
  {
   "cell_type": "code",
   "execution_count": 19,
   "id": "1f740c9c",
   "metadata": {},
   "outputs": [
    {
     "data": {
      "text/plain": [
       "'c'"
      ]
     },
     "execution_count": 19,
     "metadata": {},
     "output_type": "execute_result"
    }
   ],
   "source": [
    "list1[2:5]\n",
    "list1[::-1]\n",
    "list1[-1]"
   ]
  },
  {
   "cell_type": "code",
   "execution_count": 20,
   "id": "7b5d226c",
   "metadata": {},
   "outputs": [
    {
     "name": "stdout",
     "output_type": "stream",
     "text": [
      "[1, 2, 3, 4, 'a', 'b', 'c', 1, 2, 3, 4, 'a', 'b', 'c', 1, 2, 3, 4, 'a', 'b', 'c', 1, 2, 3, 4, 'a', 'b', 'c', 1, 2, 3, 4, 'a', 'b', 'c']\n"
     ]
    }
   ],
   "source": [
    "list1= list1 *5\n",
    "print(list1)"
   ]
  },
  {
   "cell_type": "code",
   "execution_count": 34,
   "id": "3c56b1d4",
   "metadata": {},
   "outputs": [
    {
     "name": "stdout",
     "output_type": "stream",
     "text": [
      "[1, 2, 3, 4, 'a', 'b', 'c', 1, 2, 3, 4, 'a', 'b', 'c', 1, 2, 3, 4, 'a', 'b', 'c', 1, 2, 3, 4, 'a', 'b', 'c', 1, 2, 3, 4, 'a', 'b', 'c', 'g', 'l', 'ş', 'g', 'l', 'ş', 31, 'g', 'l', 'ş']\n"
     ]
    }
   ],
   "source": [
    "list2=['g','l','ş']\n",
    "list1=list1+list2\n",
    "print(list1)"
   ]
  },
  {
   "cell_type": "code",
   "execution_count": 35,
   "id": "aea00f0a",
   "metadata": {},
   "outputs": [
    {
     "name": "stdout",
     "output_type": "stream",
     "text": [
      "1 2 3 4 a b c 1 2 3 4 a b c 1 2 3 4 a b c 1 2 3 4 a b c 1 2 3 4 a b c g l ş g l ş 31 g l ş "
     ]
    }
   ],
   "source": [
    "for item in list1:\n",
    "    print(item,end=\" \")"
   ]
  },
  {
   "cell_type": "code",
   "execution_count": 36,
   "id": "65db5a86",
   "metadata": {},
   "outputs": [
    {
     "name": "stdout",
     "output_type": "stream",
     "text": [
      "[1, 2, 3, 4, 'a', 'b', 'c', 1, 2, 3, 4, 'a', 'b', 'c', 1, 2, 3, 4, 'a', 'b', 'c', 1, 2, 3, 4, 'a', 'b', 'c', 1, 2, 3, 4, 'a', 'b', 'c', 'g', 'l', 'ş', 'g', 'l', 'ş', 31, 'g', 'l', 'ş', 31]\n"
     ]
    }
   ],
   "source": [
    "list1.append(31)\n",
    "print(list1)"
   ]
  },
  {
   "cell_type": "code",
   "execution_count": 37,
   "id": "42a053f8",
   "metadata": {},
   "outputs": [
    {
     "data": {
      "text/plain": [
       "5"
      ]
     },
     "execution_count": 37,
     "metadata": {},
     "output_type": "execute_result"
    }
   ],
   "source": [
    "list1.count('b')   #parantez içine yazılan ifadenin kaçıncı indexte olduğunu gösterir"
   ]
  },
  {
   "cell_type": "code",
   "execution_count": 38,
   "id": "18fb8c31",
   "metadata": {},
   "outputs": [
    {
     "name": "stdout",
     "output_type": "stream",
     "text": [
      "['g', 'l', 'ş']\n",
      "['g', 'l', 'ş', '1111']\n"
     ]
    }
   ],
   "source": [
    "print(list2)\n",
    "list2.insert(3,\"1111\")\n",
    "print(list2)"
   ]
  },
  {
   "cell_type": "code",
   "execution_count": 39,
   "id": "9f3119bc",
   "metadata": {},
   "outputs": [
    {
     "name": "stdout",
     "output_type": "stream",
     "text": [
      "['g', 'l', 'ş', '1111']\n",
      "['g', 'ş', '1111']\n"
     ]
    }
   ],
   "source": [
    "print(list2)\n",
    "list2.remove('l')\n",
    "print(list2)"
   ]
  },
  {
   "cell_type": "code",
   "execution_count": 44,
   "id": "9592930c",
   "metadata": {},
   "outputs": [
    {
     "data": {
      "text/plain": [
       "['f', 'a', 't', 1, 2, 3]"
      ]
     },
     "execution_count": 44,
     "metadata": {},
     "output_type": "execute_result"
    }
   ],
   "source": [
    "delete_count=0\n",
    "list2=['f','a','t',1,2,3,3,3]\n",
    "for i,item in enumerate(list2):\n",
    "    if item ==3:\n",
    "        del list2[i-delete_count]\n",
    "        delete_count+=1\n",
    "list2        "
   ]
  },
  {
   "cell_type": "code",
   "execution_count": 45,
   "id": "e402f53d",
   "metadata": {},
   "outputs": [
    {
     "name": "stdout",
     "output_type": "stream",
     "text": [
      "[3, 2, 1, 't', 'a', 'f']\n"
     ]
    }
   ],
   "source": [
    "list2.reverse()\n",
    "print(list2)"
   ]
  },
  {
   "cell_type": "code",
   "execution_count": 46,
   "id": "4a34720c",
   "metadata": {},
   "outputs": [
    {
     "name": "stdout",
     "output_type": "stream",
     "text": [
      "[3, 4, 5, 7, 8, 10]\n"
     ]
    }
   ],
   "source": [
    "list3=[10,5,4,8,7,3]\n",
    "list3.sort()\n",
    "print(list3)"
   ]
  },
  {
   "cell_type": "code",
   "execution_count": 47,
   "id": "c891c98b",
   "metadata": {},
   "outputs": [
    {
     "name": "stdout",
     "output_type": "stream",
     "text": [
      "[10, 8, 7, 5, 4, 3]\n"
     ]
    }
   ],
   "source": [
    "list3=[10,5,4,8,7,3]\n",
    "list3.sort(reverse=True)\n",
    "print(list3)"
   ]
  },
  {
   "cell_type": "code",
   "execution_count": 48,
   "id": "eec7606a",
   "metadata": {},
   "outputs": [
    {
     "name": "stdout",
     "output_type": "stream",
     "text": [
      "[3, 4, 5, 7, 8, 10]\n",
      "[10, 5, 4, 8, 7, 3]\n"
     ]
    }
   ],
   "source": [
    "list3=[10,5,4,8,7,3]\n",
    "print(sorted(list3))\n",
    "print(list3)"
   ]
  },
  {
   "cell_type": "code",
   "execution_count": 51,
   "id": "7363bd03",
   "metadata": {},
   "outputs": [
    {
     "data": {
      "text/plain": [
       "['a',\n",
       " 'b',\n",
       " 'c',\n",
       " 1,\n",
       " 2,\n",
       " 3,\n",
       " 'a',\n",
       " 'b',\n",
       " 'c',\n",
       " 1,\n",
       " 2,\n",
       " 3,\n",
       " 'a',\n",
       " 'b',\n",
       " 'c',\n",
       " 1,\n",
       " 2,\n",
       " 3,\n",
       " 'a',\n",
       " 'b',\n",
       " 'c',\n",
       " 1,\n",
       " 2,\n",
       " 3,\n",
       " 'a',\n",
       " 'b',\n",
       " 'c',\n",
       " 1,\n",
       " 2,\n",
       " 3]"
      ]
     },
     "execution_count": 51,
     "metadata": {},
     "output_type": "execute_result"
    }
   ],
   "source": [
    "list_dublicate=['a','b','c',1,2,3] *5\n",
    "list_dublicate"
   ]
  },
  {
   "cell_type": "code",
   "execution_count": 58,
   "id": "1d308fda",
   "metadata": {},
   "outputs": [
    {
     "name": "stdout",
     "output_type": "stream",
     "text": [
      "['a', 'b', 'c', 1, 2, 3, 'a', 'b', 'c', 1, 2, 3, 'a', 'b', 'c', 1, 2, 3, 'a', 'b', 'c', 1, 2, 3, 'a', 'b', 'c', 1, 2, 3]\n",
      "['a', 'b', 'c', 1, 2, 3]\n"
     ]
    }
   ],
   "source": [
    "list_dublicate=['a','b','c',1,2,3] *5\n",
    "print(list_dublicate)\n",
    "list_unique= []\n",
    "for item in list_dublicate:\n",
    "    if item not in list_unique:\n",
    "        list_unique.append(item)\n",
    "print(list_unique)        "
   ]
  },
  {
   "cell_type": "code",
   "execution_count": 62,
   "id": "99b9b12c",
   "metadata": {},
   "outputs": [
    {
     "name": "stdout",
     "output_type": "stream",
     "text": [
      "['a', 'b', 'c', 1, 2, 3]\n"
     ]
    }
   ],
   "source": [
    "list_dublicate=['a','b','c',1,2,3] *5\n",
    "list_index=[]\n",
    "for index, item in enumerate(list_dublicate):\n",
    "    if list_dublicate.index(item) < index:\n",
    "        list_index.append(index)\n",
    "        \n",
    "delete_count=0\n",
    "for index in list_index:\n",
    "    del list_dublicate[index-delete_count]\n",
    "    delete_count+=1\n",
    "    \n",
    "print(list_dublicate)    "
   ]
  },
  {
   "cell_type": "code",
   "execution_count": 63,
   "id": "af164961",
   "metadata": {},
   "outputs": [
    {
     "data": {
      "text/plain": [
       "[('a', 1), ('b', 2), ('c', 3)]"
      ]
     },
     "execution_count": 63,
     "metadata": {},
     "output_type": "execute_result"
    }
   ],
   "source": [
    "lista=['a','b','c']\n",
    "list1=[1,2,3,]\n",
    "list(zip(lista,list1))"
   ]
  },
  {
   "cell_type": "code",
   "execution_count": 64,
   "id": "9576d128",
   "metadata": {},
   "outputs": [
    {
     "name": "stdout",
     "output_type": "stream",
     "text": [
      "1 a\n",
      "2 b\n",
      "3 c\n"
     ]
    }
   ],
   "source": [
    "for ch, i in zip(list1,lista):\n",
    "    print(ch,i)"
   ]
  },
  {
   "cell_type": "code",
   "execution_count": 66,
   "id": "dca60bc4",
   "metadata": {},
   "outputs": [
    {
     "name": "stdout",
     "output_type": "stream",
     "text": [
      "[3, 5, 5]\n"
     ]
    }
   ],
   "source": [
    "lis1=[1,3,4]\n",
    "list2=[2,3,2]\n",
    "list_sonuc=[]\n",
    "for i,j in zip(list1,list2):\n",
    "    list_sonuc.append(i + j)\n",
    "print(list_sonuc)    \n"
   ]
  },
  {
   "cell_type": "code",
   "execution_count": null,
   "id": "0d0adb1a",
   "metadata": {},
   "outputs": [],
   "source": []
  }
 ],
 "metadata": {
  "kernelspec": {
   "display_name": "Python 3",
   "language": "python",
   "name": "python3"
  },
  "language_info": {
   "codemirror_mode": {
    "name": "ipython",
    "version": 3
   },
   "file_extension": ".py",
   "mimetype": "text/x-python",
   "name": "python",
   "nbconvert_exporter": "python",
   "pygments_lexer": "ipython3",
   "version": "3.8.8"
  }
 },
 "nbformat": 4,
 "nbformat_minor": 5
}
