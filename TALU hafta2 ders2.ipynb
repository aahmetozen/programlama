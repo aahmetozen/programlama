{
 "cells": [
  {
   "cell_type": "code",
   "execution_count": 1,
   "id": "becb1ece",
   "metadata": {},
   "outputs": [],
   "source": [
    "#https://en.wikipedia.org/wiki/Bitwise_operation"
   ]
  },
  {
   "cell_type": "code",
   "execution_count": 2,
   "id": "ab92b0f7",
   "metadata": {},
   "outputs": [
    {
     "name": "stdout",
     "output_type": "stream",
     "text": [
      "birnici sayıyı giriniz=15\n",
      "ikinci sayıyı giriniz=4\n"
     ]
    }
   ],
   "source": [
    "a=input(\"birnici sayıyı giriniz=\")\n",
    "b=input(\"ikinci sayıyı giriniz=\")"
   ]
  },
  {
   "cell_type": "code",
   "execution_count": 3,
   "id": "7dcbed3c",
   "metadata": {},
   "outputs": [
    {
     "name": "stdout",
     "output_type": "stream",
     "text": [
      "19\n"
     ]
    }
   ],
   "source": [
    "print(int(a)+int(b))"
   ]
  },
  {
   "cell_type": "code",
   "execution_count": 5,
   "id": "368c5e2c",
   "metadata": {},
   "outputs": [
    {
     "name": "stdout",
     "output_type": "stream",
     "text": [
      "akımı giriniz=155\n",
      "direnç giriniz=4\n",
      "620\n"
     ]
    }
   ],
   "source": [
    "ı=int(input(\"akımı giriniz=\"))\n",
    "v=int(input(\"direnç giriniz=\"))\n",
    "print(ı*v)"
   ]
  },
  {
   "cell_type": "code",
   "execution_count": 9,
   "id": "870643ec",
   "metadata": {},
   "outputs": [
    {
     "name": "stdout",
     "output_type": "stream",
     "text": [
      "çemberin alanını giriniz=5\n",
      "78.5\n"
     ]
    }
   ],
   "source": [
    "r=(input(\"çemberin alanını giriniz=\"))\n",
    "pi=3.14\n",
    "print(pi*int(r)*int(r))"
   ]
  },
  {
   "cell_type": "code",
   "execution_count": 11,
   "id": "b0fdbb02",
   "metadata": {},
   "outputs": [
    {
     "name": "stdout",
     "output_type": "stream",
     "text": [
      "yüzlük notu griniz=85\n",
      "(\"5'lik karşılığı\", 4.25)\n"
     ]
    }
   ],
   "source": [
    "ogrnot=int(input(\"yüzlük notu griniz=\"))\n",
    "ogrnot=\"5'lik karşılığı\",ogrnot/20\n",
    "print(ogrnot)"
   ]
  },
  {
   "cell_type": "code",
   "execution_count": 16,
   "id": "6efaff2d",
   "metadata": {},
   "outputs": [
    {
     "name": "stdout",
     "output_type": "stream",
     "text": [
      "üç basamaklı bir sayı giriniz=250\n",
      "yüzler= 2    onlar 5      birler= 0\n"
     ]
    }
   ],
   "source": [
    "sayı=int(input(\"üç basamaklı bir sayı giriniz=\"))\n",
    "a=int(sayı/100)\n",
    "b=int(int(sayı-a*100)/10)\n",
    "c=sayı % 10\n",
    "print(\"yüzler=\",a,\"   onlar\",b,\"     birler=\",c,)"
   ]
  },
  {
   "cell_type": "code",
   "execution_count": null,
   "id": "ba8c8dd0",
   "metadata": {},
   "outputs": [],
   "source": []
  }
 ],
 "metadata": {
  "kernelspec": {
   "display_name": "Python 3",
   "language": "python",
   "name": "python3"
  },
  "language_info": {
   "codemirror_mode": {
    "name": "ipython",
    "version": 3
   },
   "file_extension": ".py",
   "mimetype": "text/x-python",
   "name": "python",
   "nbconvert_exporter": "python",
   "pygments_lexer": "ipython3",
   "version": "3.8.8"
  }
 },
 "nbformat": 4,
 "nbformat_minor": 5
}
