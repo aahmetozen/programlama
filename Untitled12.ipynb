{
 "cells": [
  {
   "cell_type": "code",
   "execution_count": 3,
   "id": "93450ae3",
   "metadata": {
    "scrolled": true
   },
   "outputs": [
    {
     "name": "stdout",
     "output_type": "stream",
     "text": [
      "sayı girin4\n",
      "sayı girin5\n",
      "işlem= 20\n"
     ]
    }
   ],
   "source": [
    "c=int(input(\"sayı girin\"))\n",
    "d=int(input(\"sayı girin\"))\n",
    "işlem=c*d \n",
    "print(\"işlem=\",işlem)"
   ]
  },
  {
   "cell_type": "code",
   "execution_count": null,
   "id": "77520627",
   "metadata": {},
   "outputs": [],
   "source": []
  }
 ],
 "metadata": {
  "kernelspec": {
   "display_name": "Python 3",
   "language": "python",
   "name": "python3"
  },
  "language_info": {
   "codemirror_mode": {
    "name": "ipython",
    "version": 3
   },
   "file_extension": ".py",
   "mimetype": "text/x-python",
   "name": "python",
   "nbconvert_exporter": "python",
   "pygments_lexer": "ipython3",
   "version": "3.8.8"
  }
 },
 "nbformat": 4,
 "nbformat_minor": 5
}
