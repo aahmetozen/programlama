{
 "cells": [
  {
   "cell_type": "code",
   "execution_count": 1,
   "id": "bbe5ca22",
   "metadata": {},
   "outputs": [
    {
     "name": "stdout",
     "output_type": "stream",
     "text": [
      "listenin eleman sayısı =  5\n"
     ]
    }
   ],
   "source": [
    "list1= [1,2,6,\"abc\",\"def\"]\n",
    "sayac=0\n",
    "for i in list1:\n",
    "    sayac+=1\n",
    "print(\"listenin eleman sayısı = \",sayac)"
   ]
  },
  {
   "cell_type": "code",
   "execution_count": null,
   "id": "aa42995d",
   "metadata": {},
   "outputs": [],
   "source": []
  }
 ],
 "metadata": {
  "kernelspec": {
   "display_name": "Python 3",
   "language": "python",
   "name": "python3"
  },
  "language_info": {
   "codemirror_mode": {
    "name": "ipython",
    "version": 3
   },
   "file_extension": ".py",
   "mimetype": "text/x-python",
   "name": "python",
   "nbconvert_exporter": "python",
   "pygments_lexer": "ipython3",
   "version": "3.8.8"
  }
 },
 "nbformat": 4,
 "nbformat_minor": 5
}
