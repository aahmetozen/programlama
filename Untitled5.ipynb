{
 "cells": [
  {
   "cell_type": "code",
   "execution_count": 1,
   "id": "1d276a59",
   "metadata": {},
   "outputs": [
    {
     "name": "stdout",
     "output_type": "stream",
     "text": [
      "1.sayıyı giriniz=10\n",
      "2.sayıyı giriniz=20\n"
     ]
    }
   ],
   "source": [
    "a=input(\"1.sayıyı giriniz=\")\n",
    "b=input(\"2.sayıyı giriniz=\")"
   ]
  },
  {
   "cell_type": "code",
   "execution_count": 2,
   "id": "c7e2c6ea",
   "metadata": {},
   "outputs": [
    {
     "name": "stdout",
     "output_type": "stream",
     "text": [
      "30\n"
     ]
    }
   ],
   "source": [
    "print(int(a)+int(b))"
   ]
  },
  {
   "cell_type": "code",
   "execution_count": 8,
   "id": "1edb1a2a",
   "metadata": {},
   "outputs": [
    {
     "name": "stdout",
     "output_type": "stream",
     "text": [
      "değişken değeri 100 dür\n",
      "görüşürüz!\n"
     ]
    }
   ],
   "source": [
    "var=100\n",
    "if (var==100):\n",
    "    print(\"değişken değeri 100 dür\")\n",
    "print(\"görüşürüz!\")"
   ]
  },
  {
   "cell_type": "code",
   "execution_count": 12,
   "id": "c8e8f1a3",
   "metadata": {},
   "outputs": [
    {
     "name": "stdout",
     "output_type": "stream",
     "text": [
      "True\n"
     ]
    }
   ],
   "source": [
    "x=20\n",
    "y=15\n",
    "print(x is not y)"
   ]
  },
  {
   "cell_type": "code",
   "execution_count": 6,
   "id": "786bf427",
   "metadata": {},
   "outputs": [
    {
     "name": "stdout",
     "output_type": "stream",
     "text": [
      "bir sayı giriniz-5\n",
      "negatif\n"
     ]
    }
   ],
   "source": [
    "sayı=int(input(\"bir sayı giriniz\"))\n",
    "if sayı>0:\n",
    "    print(\"pozitif\")\n",
    "elif sayı==0:\n",
    "    print(\"nötr\")\n",
    "else:\n",
    "    print(\"negatif\")"
   ]
  },
  {
   "cell_type": "code",
   "execution_count": 8,
   "id": "009c2c23",
   "metadata": {},
   "outputs": [
    {
     "name": "stdout",
     "output_type": "stream",
     "text": [
      "vize notunu giriniz40\n",
      "final notunu giriniz60\n",
      "kaldı\n"
     ]
    }
   ],
   "source": [
    "vize=int(input(\"vize notunu giriniz\"))\n",
    "final=int(input(\"final notunu giriniz\"))\n",
    "nt=(int(vize*0.4) + int(final*0.6))\n",
    "if nt>60:\n",
    "    print(\"geçti\")\n",
    "else:\n",
    "    print(\"kaldı\")\n"
   ]
  },
  {
   "cell_type": "code",
   "execution_count": null,
   "id": "2769aace",
   "metadata": {},
   "outputs": [],
   "source": []
  }
 ],
 "metadata": {
  "kernelspec": {
   "display_name": "Python 3",
   "language": "python",
   "name": "python3"
  },
  "language_info": {
   "codemirror_mode": {
    "name": "ipython",
    "version": 3
   },
   "file_extension": ".py",
   "mimetype": "text/x-python",
   "name": "python",
   "nbconvert_exporter": "python",
   "pygments_lexer": "ipython3",
   "version": "3.8.8"
  }
 },
 "nbformat": 4,
 "nbformat_minor": 5
}
