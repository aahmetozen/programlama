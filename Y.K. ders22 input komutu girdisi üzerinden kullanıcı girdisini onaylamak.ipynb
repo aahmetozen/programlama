{
 "cells": [
  {
   "cell_type": "markdown",
   "id": "d2d2bb15",
   "metadata": {},
   "source": [
    "# Kullanıcı Girdisini Onaylamak"
   ]
  },
  {
   "cell_type": "code",
   "execution_count": null,
   "id": "ae5c847e",
   "metadata": {},
   "outputs": [],
   "source": [
    "stackowerflow.com phyton kodları için buraya bakabilirsin"
   ]
  },
  {
   "cell_type": "code",
   "execution_count": 3,
   "id": "3e8afe63",
   "metadata": {},
   "outputs": [],
   "source": [
    "def sayı_girdisi_kontrol():\n",
    "    girdi = input(\"bir sayı giriniz:\")\n",
    "    \n",
    "    if girdi.isdigit():\n",
    "        print(\"Tebrikler! sayı tipi değer girdiniz....\")\n",
    "    else:\n",
    "        print(\"üzgünüm! bu bir sayı tipi deişkeni değildir...\")"
   ]
  },
  {
   "cell_type": "code",
   "execution_count": 4,
   "id": "5b6944e1",
   "metadata": {},
   "outputs": [
    {
     "name": "stdout",
     "output_type": "stream",
     "text": [
      "bir sayı giriniz:4\n",
      "Tebrikler! sayı tipi değer girdiniz....\n"
     ]
    }
   ],
   "source": [
    "sayı_girdisi_kontrol()"
   ]
  },
  {
   "cell_type": "code",
   "execution_count": 5,
   "id": "6056186a",
   "metadata": {},
   "outputs": [],
   "source": [
    "def sayı_girdisi_kontrol_döngü():\n",
    "    girdi = input(\"bir sayı giriniz:\")\n",
    "    \n",
    "    while not girdi.isdigit():\n",
    "        print(\"üzgünüm! bu bir sayı tipi deişkeni değildir...\")\n",
    "        girdi = input(\"bir sayı giriniz:\")\n",
    "    else:\n",
    "        print(\"Tebrikler! sayı tipi değer girdiniz....\")\n",
    "        \n",
    "        \n",
    "        "
   ]
  },
  {
   "cell_type": "code",
   "execution_count": 7,
   "id": "ec1a83a6",
   "metadata": {},
   "outputs": [
    {
     "name": "stdout",
     "output_type": "stream",
     "text": [
      "bir sayı giriniz:a\n",
      "üzgünüm! bu bir sayı tipi deişkeni değildir...\n",
      "bir sayı giriniz:b\n",
      "üzgünüm! bu bir sayı tipi deişkeni değildir...\n",
      "bir sayı giriniz:c\n",
      "üzgünüm! bu bir sayı tipi deişkeni değildir...\n",
      "bir sayı giriniz:4\n",
      "Tebrikler! sayı tipi değer girdiniz....\n"
     ]
    }
   ],
   "source": [
    "sayı_girdisi_kontrol_döngü()"
   ]
  },
  {
   "cell_type": "code",
   "execution_count": 18,
   "id": "1f076ae9",
   "metadata": {},
   "outputs": [],
   "source": [
    "def sayı_girdisi_kontrol_döngü():\n",
    "    girdi = input(\"bir sayı giriniz:\")\n",
    "    tekrar=0\n",
    "    \n",
    "    while not girdi.isdigit():\n",
    "        print(\"üzgünüm! bu bir sayı tipi deişkeni değildir...\")\n",
    "        girdi = input(\"bir sayı giriniz:\")\n",
    "        tekrar+=1\n",
    "        if tekrar==4: # 5 kez sayı girme hakkı tanır\n",
    "            break\n",
    "    else:\n",
    "        print(\"Tebrikler! sayı tipi değer girdiniz....\")\n",
    "        "
   ]
  },
  {
   "cell_type": "code",
   "execution_count": 19,
   "id": "59777dea",
   "metadata": {},
   "outputs": [
    {
     "name": "stdout",
     "output_type": "stream",
     "text": [
      "bir sayı giriniz:a\n",
      "üzgünüm! bu bir sayı tipi deişkeni değildir...\n",
      "bir sayı giriniz:s\n",
      "üzgünüm! bu bir sayı tipi deişkeni değildir...\n",
      "bir sayı giriniz:d\n",
      "üzgünüm! bu bir sayı tipi deişkeni değildir...\n",
      "bir sayı giriniz:4\n",
      "Tebrikler! sayı tipi değer girdiniz....\n"
     ]
    }
   ],
   "source": [
    "sayı_girdisi_kontrol_döngü()"
   ]
  },
  {
   "cell_type": "code",
   "execution_count": 20,
   "id": "af9bbabc",
   "metadata": {},
   "outputs": [],
   "source": [
    "def eposta_kontrol():\n",
    "    girdi=input(\"geçerli bir e-posta adresi giriniz\")\n",
    "    \n",
    "    while not(('.'in girdi) and ('@' in girdi)):\n",
    "        print(\"üzgünüm! bu geçerli bir e-posta adresi değildir.\")\n",
    "        girdi=input(\"geçerli bir e-posta adresi giriniz\")\n",
    "     \n",
    "    else:\n",
    "        print(\"tebrikler! E-posta adresinizle başarı bir giriş yaptınız.\")\n",
    "        "
   ]
  },
  {
   "cell_type": "code",
   "execution_count": 23,
   "id": "62ca8a4b",
   "metadata": {},
   "outputs": [
    {
     "name": "stdout",
     "output_type": "stream",
     "text": [
      "geçerli bir e-posta adresi girinizasdlşaskd\n",
      "üzgünüm! bu geçerli bir e-posta adresi değildir.\n",
      "geçerli bir e-posta adresi girinizasdsadas@\n",
      "üzgünüm! bu geçerli bir e-posta adresi değildir.\n",
      "geçerli bir e-posta adresi girinizAHMET55@hotmail.com\n",
      "tebrikler! E-posta adresinizle başarı bir giriş yaptınız.\n"
     ]
    }
   ],
   "source": [
    "eposta_kontrol()"
   ]
  },
  {
   "cell_type": "code",
   "execution_count": null,
   "id": "ba44a554",
   "metadata": {},
   "outputs": [],
   "source": []
  }
 ],
 "metadata": {
  "kernelspec": {
   "display_name": "Python 3",
   "language": "python",
   "name": "python3"
  },
  "language_info": {
   "codemirror_mode": {
    "name": "ipython",
    "version": 3
   },
   "file_extension": ".py",
   "mimetype": "text/x-python",
   "name": "python",
   "nbconvert_exporter": "python",
   "pygments_lexer": "ipython3",
   "version": "3.8.8"
  }
 },
 "nbformat": 4,
 "nbformat_minor": 5
}
