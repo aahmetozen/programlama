{
 "cells": [
  {
   "cell_type": "code",
   "execution_count": 1,
   "id": "5d36b5d9",
   "metadata": {},
   "outputs": [],
   "source": [
    "# soru3 cevabı"
   ]
  },
  {
   "cell_type": "code",
   "execution_count": 8,
   "id": "d04a7536",
   "metadata": {},
   "outputs": [
    {
     "name": "stdout",
     "output_type": "stream",
     "text": [
      "x=5\n",
      "k=10\n",
      "145.38060102513225\n"
     ]
    }
   ],
   "source": [
    "x=int(input(\"x=\"))\n",
    "k=int(input(\"k=\"))\n",
    "\n",
    "def fakt(k):\n",
    "    y=1\n",
    "    for i in range(1,k+1,1):\n",
    "        y=y*i\n",
    "    return y\n",
    "\n",
    "\n",
    "top=0\n",
    "for i in range(1,k+1,1):\n",
    "    pay=(x**i)\n",
    "    payda=fakt(i)\n",
    "    top= top+pay/payda\n",
    "    \n",
    "    \n",
    "print(top)\n",
    "        "
   ]
  },
  {
   "cell_type": "code",
   "execution_count": 9,
   "id": "c4d2780d",
   "metadata": {},
   "outputs": [],
   "source": [
    "# soru4 cevabı listeli olan"
   ]
  },
  {
   "cell_type": "code",
   "execution_count": 12,
   "id": "3f82af8c",
   "metadata": {},
   "outputs": [
    {
     "name": "stdout",
     "output_type": "stream",
     "text": [
      "[1, 2, 3, 4, 5, 6, 7, 8, 9, 10]\n",
      "[10, 1, 2, 3, 4, 5, 6, 7, 8, 9]\n",
      "[9, 10, 1, 2, 3, 4, 5, 6, 7, 8]\n",
      "[8, 9, 10, 1, 2, 3, 4, 5, 6, 7]\n",
      "[7, 8, 9, 10, 1, 2, 3, 4, 5, 6]\n",
      "[6, 7, 8, 9, 10, 1, 2, 3, 4, 5]\n"
     ]
    }
   ],
   "source": [
    "L=[1,2,3,4,5,6,7,8,9,10]\n",
    "print(L)\n",
    "\n",
    "for j in range(5):\n",
    "    a=L[9]\n",
    "\n",
    "    for k in range(8,-1,-1):\n",
    "        L[k+1]=L[k]\n",
    "    L[0]=a\n",
    "\n",
    "    print(L)\n",
    "    \n"
   ]
  },
  {
   "cell_type": "code",
   "execution_count": null,
   "id": "f222aa3e",
   "metadata": {},
   "outputs": [],
   "source": []
  }
 ],
 "metadata": {
  "kernelspec": {
   "display_name": "Python 3",
   "language": "python",
   "name": "python3"
  },
  "language_info": {
   "codemirror_mode": {
    "name": "ipython",
    "version": 3
   },
   "file_extension": ".py",
   "mimetype": "text/x-python",
   "name": "python",
   "nbconvert_exporter": "python",
   "pygments_lexer": "ipython3",
   "version": "3.8.8"
  }
 },
 "nbformat": 4,
 "nbformat_minor": 5
}
