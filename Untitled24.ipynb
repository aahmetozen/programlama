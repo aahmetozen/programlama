{
 "cells": [
  {
   "cell_type": "code",
   "execution_count": 4,
   "id": "49de182f",
   "metadata": {},
   "outputs": [
    {
     "name": "stdout",
     "output_type": "stream",
     "text": [
      "sayı griniz=144\n",
      "    4      4\n",
      "    4      16\n",
      "    1      16\n",
      "16\n",
      "    6      6\n",
      "    1      6\n",
      "6\n"
     ]
    }
   ],
   "source": [
    "n=int(input(\"sayı griniz=\"))\n",
    "while n>9:\n",
    "    carpım=1\n",
    "    while n>0:\n",
    "        sonhane=int(n%10)\n",
    "        carpım=carpım*sonhane\n",
    "        print(\"   \",sonhane,\"    \",carpım)\n",
    "        n=(n-sonhane)/10\n",
    "    print(carpım)\n",
    "    n=carpım\n",
    "        \n",
    "    \n",
    "        \n",
    "        \n",
    "        "
   ]
  },
  {
   "cell_type": "code",
   "execution_count": null,
   "id": "dc1c9fa2",
   "metadata": {},
   "outputs": [],
   "source": []
  }
 ],
 "metadata": {
  "kernelspec": {
   "display_name": "Python 3",
   "language": "python",
   "name": "python3"
  },
  "language_info": {
   "codemirror_mode": {
    "name": "ipython",
    "version": 3
   },
   "file_extension": ".py",
   "mimetype": "text/x-python",
   "name": "python",
   "nbconvert_exporter": "python",
   "pygments_lexer": "ipython3",
   "version": "3.8.8"
  }
 },
 "nbformat": 4,
 "nbformat_minor": 5
}
