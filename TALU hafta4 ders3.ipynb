{
 "cells": [
  {
   "cell_type": "code",
   "execution_count": null,
   "id": "6a29dc53",
   "metadata": {},
   "outputs": [],
   "source": [
    "# f(x)=x^3-x^2+2 fonksiyonunun x(0)=-20 noktasından başlayarak x eksenini kestiği 5 noktayı bulunuz?\n",
    "# BU ÖRNEKTEN HİÇ BİR ŞEY ANLAMADIM"
   ]
  },
  {
   "cell_type": "code",
   "execution_count": 5,
   "id": "6ebfb1a0",
   "metadata": {},
   "outputs": [
    {
     "name": "stdout",
     "output_type": "stream",
     "text": [
      "k= 0     f= 2\n",
      "k= 1     f= 2\n",
      "k= 2     f= 6\n",
      "k= 3     f= 20\n",
      "k= 4     f= 50\n",
      "k= 5     f= 102\n",
      "k= 6     f= 182\n",
      "k= 7     f= 296\n",
      "k= 8     f= 450\n",
      "k= 9     f= 650\n",
      "650\n"
     ]
    }
   ],
   "source": [
    "k=0\n",
    "kn=0\n",
    "x=-20\n",
    "\n",
    "\n",
    "while k<10:\n",
    "    f=k**3-k**2 + 2\n",
    "    ft=3*(k**2) - 2*k +  10**-20\n",
    "    x = x - f/ft \n",
    "    print(\"k=\",k,\"    f=\",f)\n",
    "    k+=1\n",
    "    \n",
    "    \n",
    "    \n",
    "print(f)"
   ]
  },
  {
   "cell_type": "code",
   "execution_count": 6,
   "id": "c5f493e9",
   "metadata": {},
   "outputs": [],
   "source": [
    "# f(x)=x^2-2*x-3 fonksiyonunun x eksenini kestiği nokta sayısını bulan program"
   ]
  },
  {
   "cell_type": "code",
   "execution_count": 11,
   "id": "5405e812",
   "metadata": {},
   "outputs": [
    {
     "name": "stdout",
     "output_type": "stream",
     "text": [
      "f= 117     x= -10\n",
      "f= 96     x= -9\n",
      "f= 77     x= -8\n",
      "f= 60     x= -7\n",
      "f= 45     x= -6\n",
      "f= 32     x= -5\n",
      "f= 21     x= -4\n",
      "f= 12     x= -3\n",
      "f= 5     x= -2\n",
      "f= 0     x= -1\n",
      "f= -3     x= 0\n",
      "f= -4     x= 1\n",
      "f= -3     x= 2\n",
      "f= 0     x= 3\n",
      "f= 5     x= 4\n",
      "f= 12     x= 5\n",
      "f= 21     x= 6\n",
      "f= 32     x= 7\n",
      "f= 45     x= 8\n",
      "f= 60     x= 9\n",
      "f= 77     x= 10\n",
      "x ekseninin  2 noktada kessiyor\n"
     ]
    }
   ],
   "source": [
    "c=0\n",
    "x=-10\n",
    "while x<=10:\n",
    "    f=x**2-2*x-3\n",
    "    print(\"f=\",f,\"    x=\",x)\n",
    "    if f==0:\n",
    "        c+=1\n",
    "    x+=1    \n",
    "print(\"x ekseninin \",c,\"noktada kessiyor\")    "
   ]
  },
  {
   "cell_type": "code",
   "execution_count": null,
   "id": "c55acd76",
   "metadata": {},
   "outputs": [],
   "source": []
  }
 ],
 "metadata": {
  "kernelspec": {
   "display_name": "Python 3",
   "language": "python",
   "name": "python3"
  },
  "language_info": {
   "codemirror_mode": {
    "name": "ipython",
    "version": 3
   },
   "file_extension": ".py",
   "mimetype": "text/x-python",
   "name": "python",
   "nbconvert_exporter": "python",
   "pygments_lexer": "ipython3",
   "version": "3.8.8"
  }
 },
 "nbformat": 4,
 "nbformat_minor": 5
}
