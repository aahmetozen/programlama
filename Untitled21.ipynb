{
 "cells": [
  {
   "cell_type": "code",
   "execution_count": 3,
   "id": "ba8dc60e",
   "metadata": {},
   "outputs": [
    {
     "name": "stdout",
     "output_type": "stream",
     "text": [
      "a: 3 b: 4\n",
      "a: 4 b: 3\n"
     ]
    }
   ],
   "source": [
    "a=3\n",
    "b=4\n",
    "print(\"a:\", a ,\"b:\",b)\n",
    "a, b= b, a\n",
    "print(\"a:\", a ,\"b:\",b)\n"
   ]
  },
  {
   "cell_type": "code",
   "execution_count": 4,
   "id": "069c0146",
   "metadata": {},
   "outputs": [
    {
     "name": "stdout",
     "output_type": "stream",
     "text": [
      "bugün günlerden çarşamba.\n"
     ]
    }
   ],
   "source": [
    "print(\"bugün günlerden çarşamba\", end=\".\\n\")"
   ]
  },
  {
   "cell_type": "code",
   "execution_count": 12,
   "id": "51fca9d1",
   "metadata": {},
   "outputs": [
    {
     "name": "stdout",
     "output_type": "stream",
     "text": [
      "bugün günlerden çarşamba."
     ]
    }
   ],
   "source": [
    "print(\"bugün günlerden çarşamba\", end=\".\")"
   ]
  },
  {
   "cell_type": "code",
   "execution_count": 6,
   "id": "78d64ed2",
   "metadata": {},
   "outputs": [
    {
     "name": "stdout",
     "output_type": "stream",
     "text": [
      "T.C\n"
     ]
    }
   ],
   "source": [
    "print(\"T\", \"C\", sep=\".\")"
   ]
  },
  {
   "cell_type": "code",
   "execution_count": 10,
   "id": "740956e3",
   "metadata": {},
   "outputs": [
    {
     "name": "stdout",
     "output_type": "stream",
     "text": [
      "A.B.C\n"
     ]
    }
   ],
   "source": [
    "print(\"A\", \"B\", \"C\", sep=\".\")"
   ]
  },
  {
   "cell_type": "code",
   "execution_count": 15,
   "id": "2039112e",
   "metadata": {},
   "outputs": [
    {
     "name": "stdout",
     "output_type": "stream",
     "text": [
      "isminiz nedir? ahmet\n",
      "merhaba ahmet!"
     ]
    }
   ],
   "source": [
    "isim=input(\"isminiz nedir? \")\n",
    "print(\"merhaba\", isim, end=\"!\")"
   ]
  },
  {
   "cell_type": "code",
   "execution_count": 19,
   "id": "5b27135d",
   "metadata": {},
   "outputs": [
    {
     "name": "stdout",
     "output_type": "stream",
     "text": [
      "(5+0j)\n"
     ]
    }
   ],
   "source": [
    "print(complex(5))"
   ]
  },
  {
   "cell_type": "code",
   "execution_count": 25,
   "id": "7abaa38c",
   "metadata": {},
   "outputs": [
    {
     "name": "stdout",
     "output_type": "stream",
     "text": [
      "kullanıcı adınızı giriniz=aghkafjhgfaj\n",
      "şifrenizi giriniz=lkfhdlaghadalfaughd\n",
      "kullanıcı adı ve şifrenizin toplam 31 karakterden oluşuyor.\n",
      "kullanıcıadı ile şifrenizin toplam uzunluğu 25 karakteri geçmemeli\n"
     ]
    }
   ],
   "source": [
    "kullanıcıadı=input(\"kullanıcı adınızı giriniz=\")\n",
    "şifre=input(\"şifrenizi giriniz=\")\n",
    "toplamuzunluk= len(kullanıcıadı)+len(şifre)\n",
    "mesaj=\"kullanıcı adı ve şifrenizin toplam {} karakterden oluşuyor.\"\n",
    "print(mesaj.format(toplamuzunluk))\n",
    "if toplamuzunluk>25:\n",
    "    print(\"kullanıcıadı ile şifrenizin toplam uzunluğu 25 karakteri geçmemeli\")\n",
    "else:\n",
    "    print(\"Hoşgeldiniz\")"
   ]
  },
  {
   "cell_type": "code",
   "execution_count": 26,
   "id": "e9a2fdda",
   "metadata": {},
   "outputs": [
    {
     "name": "stdout",
     "output_type": "stream",
     "text": [
      "32\n"
     ]
    }
   ],
   "source": [
    "print(pow(2,5))"
   ]
  },
  {
   "cell_type": "code",
   "execution_count": 28,
   "id": "a8ea5e14",
   "metadata": {},
   "outputs": [
    {
     "name": "stdout",
     "output_type": "stream",
     "text": [
      "bir sayı giriniz:78\n",
      "değerinizi küçültün\n",
      "bir sayı giriniz:56\n",
      "değerinizi küçültün\n",
      "bir sayı giriniz:45\n",
      "sayımız= 45\n"
     ]
    }
   ],
   "source": [
    "while True:\n",
    "    sayı=45\n",
    "    a=int(input(\"bir sayı giriniz:\"))\n",
    "    if not a:\n",
    "        print(\"bu bölüm boş geçilmez\")\n",
    "    elif 100<a<0:\n",
    "        print(\"girdiğiniz sayı 0 ile 100 arasında olmalı\")\n",
    "    elif a>45:\n",
    "        print(\"değerinizi küçültün\")\n",
    "    elif a<45:\n",
    "        print(\"değerinizi büyültün\")\n",
    "    else:\n",
    "        print(\"sayımız=\",sayı)\n",
    "        break"
   ]
  },
  {
   "cell_type": "code",
   "execution_count": 29,
   "id": "c1ad3308",
   "metadata": {},
   "outputs": [
    {
     "name": "stdout",
     "output_type": "stream",
     "text": [
      "Elma\n"
     ]
    }
   ],
   "source": [
    "meyve=\"elma\"\n",
    "print(meyve.replace(\"e\",\"E\"))"
   ]
  },
  {
   "cell_type": "code",
   "execution_count": 39,
   "id": "ad056dc8",
   "metadata": {},
   "outputs": [
    {
     "name": "stdout",
     "output_type": "stream",
     "text": [
      "['a', 'b', 'c', 'd', 'e', 'f', 'k', 'l', 'm', 'n', 'o']\n"
     ]
    }
   ],
   "source": [
    "harfler=\"abcdefklmno\"\n",
    "harf_listesi=list(harfler)\n",
    "print(harf_listesi)"
   ]
  },
  {
   "cell_type": "code",
   "execution_count": 42,
   "id": "f5d574d6",
   "metadata": {},
   "outputs": [
    {
     "name": "stdout",
     "output_type": "stream",
     "text": [
      "notunuzu giriniz:45\n",
      "notunuzu giriniz:55\n",
      "notunuzu giriniz:65\n",
      "notunuzu giriniz:75\n",
      "notunuzu giriniz:35\n",
      "girdiğiniz notlar: [45, 55, 65, 75, 35]\n",
      "not ortalamanız: 55.0\n"
     ]
    }
   ],
   "source": [
    "sayılar=0\n",
    "notlar=[]\n",
    "for i in range(5):\n",
    "    veri=int(input(\"notunuzu giriniz:\"))\n",
    "    sayılar=sayılar+veri\n",
    "    notlar+= [veri]\n",
    "ort=sayılar/5    \n",
    "print(\"girdiğiniz notlar:\",notlar)    \n",
    "print(\"not ortalamanız:\",ort)"
   ]
  },
  {
   "cell_type": "code",
   "execution_count": 43,
   "id": "94329b91",
   "metadata": {},
   "outputs": [
    {
     "name": "stdout",
     "output_type": "stream",
     "text": [
      "0b11\n"
     ]
    }
   ],
   "source": [
    "print(bin(3)) # ondalık---->ikilik"
   ]
  },
  {
   "cell_type": "code",
   "execution_count": 45,
   "id": "4cd0d3db",
   "metadata": {},
   "outputs": [
    {
     "name": "stdout",
     "output_type": "stream",
     "text": [
      "0xf\n"
     ]
    }
   ],
   "source": [
    "print(hex(15)) #ondalık----->onaltılık"
   ]
  },
  {
   "cell_type": "code",
   "execution_count": 46,
   "id": "6f3f27a3",
   "metadata": {},
   "outputs": [
    {
     "name": "stdout",
     "output_type": "stream",
     "text": [
      "0o17\n"
     ]
    }
   ],
   "source": [
    "print(oct(15)) #ondalık----->sekizlik"
   ]
  },
  {
   "cell_type": "code",
   "execution_count": 58,
   "id": "aee1d7f7",
   "metadata": {},
   "outputs": [
    {
     "name": "stdout",
     "output_type": "stream",
     "text": [
      "------------------------------\n",
      "isim:  ahmet\n",
      "soyisim:  özen\n",
      "işletim sistemi:  python\n",
      "şehir:  bil müh\n",
      "------------------------------\n"
     ]
    }
   ],
   "source": [
    "def kayit_oluştur(isim,soyisim,işsis,şehir):\n",
    "    print(\"-\"*30)\n",
    "    print(\"isim: \",isim)\n",
    "    print(\"soyisim: \",soyisim)\n",
    "    print(\"işletim sistemi: \",işsis)\n",
    "    print(\"şehir: \",şehir)\n",
    "    print(\"-\"*30)\n",
    "kayit_oluştur(\"ahmet\",\"özen\",\"python\",\"bil. müh.\")    "
   ]
  },
  {
   "cell_type": "code",
   "execution_count": 63,
   "id": "555d07a1",
   "metadata": {},
   "outputs": [
    {
     "name": "stdout",
     "output_type": "stream",
     "text": [
      "ilk n terim girin:6\n",
      "0 1 1 2 3 5 8 13 "
     ]
    }
   ],
   "source": [
    "n=int(input(\"ilk n terim girin:\"))\n",
    "a=0\n",
    "print(a,end=\" \")\n",
    "b=1\n",
    "print(b,end=\" \")\n",
    "for i in range(n):\n",
    "    c=a+b\n",
    "    print(c,end=\" \")\n",
    "    a=b\n",
    "    b=c\n",
    "    "
   ]
  },
  {
   "cell_type": "code",
   "execution_count": 72,
   "id": "6e0ab3e1",
   "metadata": {},
   "outputs": [
    {
     "name": "stdout",
     "output_type": "stream",
     "text": [
      "ilk n terim girin:5\n",
      "720\n"
     ]
    }
   ],
   "source": [
    "n=int(input(\"ilk n terim girin:\"))\n",
    "deger=1\n",
    "for i in range(1,n+1,1):\n",
    "    deger=deger*(i+1)\n",
    "print(deger)"
   ]
  },
  {
   "cell_type": "code",
   "execution_count": 73,
   "id": "7d353e2b",
   "metadata": {},
   "outputs": [
    {
     "name": "stdout",
     "output_type": "stream",
     "text": [
      "Merhaba arkadaşlar ben fonsiyonla ekrana basılıyorum :)\n"
     ]
    }
   ],
   "source": [
    "def beni_yaz(str):\n",
    "    print(str)\n",
    "beni_yaz(\"Merhaba arkadaşlar ben fonsiyonla ekrana basılıyorum :)\")    "
   ]
  },
  {
   "cell_type": "code",
   "execution_count": 74,
   "id": "139b3430",
   "metadata": {},
   "outputs": [
    {
     "name": "stdout",
     "output_type": "stream",
     "text": [
      "sayı giriniz:45\n",
      "sayı giriniz:55\n",
      "toplam: 100\n"
     ]
    }
   ],
   "source": [
    "def top(p1,p2):\n",
    "    toplam=p1+p1\n",
    "    return toplam\n",
    "p1=int(input(\"sayı giriniz:\"))\n",
    "p2=int(input(\"sayı giriniz:\"))\n",
    "toplam=p1+p2\n",
    "print(\"toplam:\",toplam)"
   ]
  },
  {
   "cell_type": "code",
   "execution_count": 86,
   "id": "457d1628",
   "metadata": {},
   "outputs": [
    {
     "ename": "SyntaxError",
     "evalue": "invalid syntax (<ipython-input-86-a9a3d4d5a4c3>, line 1)",
     "output_type": "error",
     "traceback": [
      "\u001b[1;36m  File \u001b[1;32m\"<ipython-input-86-a9a3d4d5a4c3>\"\u001b[1;36m, line \u001b[1;32m1\u001b[0m\n\u001b[1;33m    def bes_dondur(5):\u001b[0m\n\u001b[1;37m                   ^\u001b[0m\n\u001b[1;31mSyntaxError\u001b[0m\u001b[1;31m:\u001b[0m invalid syntax\n"
     ]
    }
   ],
   "source": [
    "def bes_dondur(sayı=5):\n",
    "    return sayı"
   ]
  },
  {
   "cell_type": "code",
   "execution_count": 87,
   "id": "c86743cc",
   "metadata": {},
   "outputs": [
    {
     "data": {
      "text/plain": [
       "5"
      ]
     },
     "execution_count": 87,
     "metadata": {},
     "output_type": "execute_result"
    }
   ],
   "source": [
    "bes_dondur()"
   ]
  },
  {
   "cell_type": "code",
   "execution_count": 113,
   "id": "129bc083",
   "metadata": {},
   "outputs": [
    {
     "name": "stdout",
     "output_type": "stream",
     "text": [
      "yazı yazınız=inönü üniversitesi bilgisayar mühendisliği\n",
      "i n ö n ü   ü n i v e r s i t e s i   b i l g i s a y a r   m ü h e n d i s l i ğ i ifadeniz toplamda 42 karakter ve 3 boşluk içermektedir\n"
     ]
    }
   ],
   "source": [
    "a=str(input(\"yazı yazınız=\"))\n",
    "b=0\n",
    "c=0\n",
    "for ch in a:\n",
    "    print(ch,end=\" \")\n",
    "    b+=1\n",
    "    if ch==\" \":\n",
    "        c+=1\n",
    "print(\"ifadeniz toplamda {} karakter ve {} boşluk içermektedir\".format(b,c))        "
   ]
  },
  {
   "cell_type": "code",
   "execution_count": 118,
   "id": "a4f3762e",
   "metadata": {},
   "outputs": [
    {
     "name": "stdout",
     "output_type": "stream",
     "text": [
      "asdf123\n",
      "asdf123 ifadesi yazıdır\n"
     ]
    }
   ],
   "source": [
    "val=input()\n",
    "numlist=[1,2,3,4,5,6,7,8,9,0]\n",
    "charlist=['a','A','b','B','c','C','d','D','e','E','f','F','g','G','k','K','l','L','m','M']\n",
    "for ch in val:\n",
    "    if ch in numlist:\n",
    "        print(val,\"ifadesi sayıdır\")\n",
    "        break\n",
    "    elif ch in charlist:\n",
    "        print(val,\"ifadesi yazıdır\")\n",
    "        break\n",
    "    elif ch in numlist and charlist:\n",
    "        print(val,\"ifadesi alfaumaratikdir\")\n",
    "        break\n",
    "    else:\n",
    "        print(\"tespit edilemedi\")\n",
    "        break"
   ]
  },
  {
   "cell_type": "code",
   "execution_count": 120,
   "id": "a7210cf4",
   "metadata": {},
   "outputs": [
    {
     "name": "stdout",
     "output_type": "stream",
     "text": [
      "*****\n"
     ]
    }
   ],
   "source": [
    "print('*'*5)"
   ]
  },
  {
   "cell_type": "code",
   "execution_count": 130,
   "id": "8f4069c9",
   "metadata": {},
   "outputs": [
    {
     "name": "stdout",
     "output_type": "stream",
     "text": [
      "n sayı girin=5\n",
      "0\n",
      "1\n",
      "2\n",
      "3\n",
      "4\n",
      "2.0\n"
     ]
    }
   ],
   "source": [
    "a=0\n",
    "n=int(input(\"n sayı girin=\"))\n",
    "for b in range(n):\n",
    "    print(b)\n",
    "    a=a+b\n",
    "print(a/n)"
   ]
  },
  {
   "cell_type": "code",
   "execution_count": 131,
   "id": "342e57fc",
   "metadata": {},
   "outputs": [
    {
     "name": "stdout",
     "output_type": "stream",
     "text": [
      "n sayı girin=360\n",
      "2\n",
      "2\n",
      "2\n",
      "3\n",
      "3\n",
      "5\n"
     ]
    }
   ],
   "source": [
    "n=int(input(\"n sayı girin=\"))\n",
    "carpan=2\n",
    "while n>1:\n",
    "    if n%carpan==0:\n",
    "        print(carpan)\n",
    "        n=n/carpan\n",
    "    else:\n",
    "        carpan+=1"
   ]
  },
  {
   "cell_type": "code",
   "execution_count": 132,
   "id": "e6d8cdf7",
   "metadata": {},
   "outputs": [
    {
     "name": "stdout",
     "output_type": "stream",
     "text": [
      "bir sayı giriniz = 25\n",
      "1 sayısı harshad\n",
      "2 sayısı harshad\n",
      "3 sayısı harshad\n",
      "4 sayısı harshad\n",
      "5 sayısı harshad\n",
      "6 sayısı harshad\n",
      "7 sayısı harshad\n",
      "8 sayısı harshad\n",
      "9 sayısı harshad\n",
      "10 sayısı harshad\n",
      "12 sayısı harshad\n",
      "18 sayısı harshad\n",
      "20 sayısı harshad\n",
      "21 sayısı harshad\n",
      "24 sayısı harshad\n"
     ]
    }
   ],
   "source": [
    "a = int(input('bir sayı giriniz = '))\n",
    "b = 0\n",
    "\n",
    "for x in range(1,a+1):\n",
    "    b = int(x%10)\n",
    "    c = int((x-b)/10)\n",
    "    d = c+b\n",
    "    if (x%d==0):\n",
    "        top = x\n",
    "        print(top,\"sayısı harshad\")"
   ]
  },
  {
   "cell_type": "code",
   "execution_count": null,
   "id": "aeda5cb0",
   "metadata": {},
   "outputs": [],
   "source": []
  }
 ],
 "metadata": {
  "kernelspec": {
   "display_name": "Python 3",
   "language": "python",
   "name": "python3"
  },
  "language_info": {
   "codemirror_mode": {
    "name": "ipython",
    "version": 3
   },
   "file_extension": ".py",
   "mimetype": "text/x-python",
   "name": "python",
   "nbconvert_exporter": "python",
   "pygments_lexer": "ipython3",
   "version": "3.8.8"
  }
 },
 "nbformat": 4,
 "nbformat_minor": 5
}
