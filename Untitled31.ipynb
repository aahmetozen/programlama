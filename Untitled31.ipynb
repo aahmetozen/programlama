{
 "cells": [
  {
   "cell_type": "code",
   "execution_count": 1,
   "id": "6513b725",
   "metadata": {},
   "outputs": [
    {
     "name": "stdout",
     "output_type": "stream",
     "text": [
      "4950\n"
     ]
    }
   ],
   "source": [
    "top=0\n",
    "for i in range(1,100,1):\n",
    "    top=top+i\n",
    "print(top)    "
   ]
  },
  {
   "cell_type": "code",
   "execution_count": 3,
   "id": "98206624",
   "metadata": {},
   "outputs": [
    {
     "name": "stdout",
     "output_type": "stream",
     "text": [
      "sayı giriniz:25\n",
      "144\n"
     ]
    }
   ],
   "source": [
    "n=int(input(\"sayı giriniz:\"))\n",
    "top=0\n",
    "for i in range(1,n,2):\n",
    "    top=top+i\n",
    "print(top)    "
   ]
  },
  {
   "cell_type": "code",
   "execution_count": 5,
   "id": "9e97f3e8",
   "metadata": {},
   "outputs": [
    {
     "name": "stdout",
     "output_type": "stream",
     "text": [
      "sayı giriniz:25\n",
      "42\n"
     ]
    }
   ],
   "source": [
    "n=int(input(\"sayı giriniz:\"))\n",
    "top=0\n",
    "for i in range(1,n,1):\n",
    "    if i%7==0:\n",
    "        top=top+i\n",
    "    \n",
    "print(top)    "
   ]
  },
  {
   "cell_type": "code",
   "execution_count": 26,
   "id": "b55bf085",
   "metadata": {},
   "outputs": [
    {
     "name": "stdout",
     "output_type": "stream",
     "text": [
      "isminizi giriniz:ahmet\n",
      "temha"
     ]
    }
   ],
   "source": [
    "a=str(input(\"isminizi giriniz:\"))\n",
    "for i in range(len(a)-1,-1,-1):\n",
    "    print(a[i],end=\"\")\n"
   ]
  },
  {
   "cell_type": "code",
   "execution_count": 34,
   "id": "4225ff6d",
   "metadata": {},
   "outputs": [
    {
     "name": "stdout",
     "output_type": "stream",
     "text": [
      "fibonacci ilk n sayısı:5\n",
      "0\n",
      "1\n",
      "1\n",
      "2\n",
      "3\n"
     ]
    }
   ],
   "source": [
    "n=int(input(\"fibonacci ilk n sayısı:\"))\n",
    "a=0\n",
    "b=1\n",
    "print(a)\n",
    "print(b)\n",
    "for i in range(n-2):\n",
    "    c=a+b \n",
    "    a=b\n",
    "    b=c\n",
    "    print(c)"
   ]
  },
  {
   "cell_type": "code",
   "execution_count": 37,
   "id": "a1676e4b",
   "metadata": {},
   "outputs": [
    {
     "name": "stdout",
     "output_type": "stream",
     "text": [
      "kaç adet sayı girmek istiyorsunuz4\n",
      "sayı giriniz1\n",
      "sayı giriniz2\n",
      "sayı giriniz3\n",
      "sayı giriniz4\n",
      "[1, 2, 3, 4]\n",
      "10\n",
      "2.5\n"
     ]
    }
   ],
   "source": [
    "adet=int(input(\"kaç adet sayı girmek istiyorsunuz\"))\n",
    "\n",
    "dizi=[]\n",
    "\n",
    "for i in range(adet):\n",
    "    dizi.append(int(input(\"sayı giriniz\")))\n",
    "print(dizi)    \n",
    "top=0\n",
    "for x in dizi:\n",
    "    top=top+x\n",
    "print(top)\n",
    "\n",
    "for x in dizi:\n",
    "    ort=top/adet\n",
    "print(ort)    "
   ]
  },
  {
   "cell_type": "code",
   "execution_count": 39,
   "id": "d7bdf6b4",
   "metadata": {},
   "outputs": [
    {
     "name": "stdout",
     "output_type": "stream",
     "text": [
      "kaç adet sayı girmek istiyorsunuz4\n",
      "[23, 73, 18, 75]\n"
     ]
    }
   ],
   "source": [
    "import random\n",
    "adet=int(input(\"kaç adet sayı girmek istiyorsunuz\"))\n",
    "\n",
    "dizi=[]\n",
    "\n",
    "for i in range(adet):\n",
    "    dizi.append(random.randint(0,100))\n",
    "print(dizi)    "
   ]
  },
  {
   "cell_type": "code",
   "execution_count": null,
   "id": "7cf8da2c",
   "metadata": {},
   "outputs": [],
   "source": []
  }
 ],
 "metadata": {
  "kernelspec": {
   "display_name": "Python 3",
   "language": "python",
   "name": "python3"
  },
  "language_info": {
   "codemirror_mode": {
    "name": "ipython",
    "version": 3
   },
   "file_extension": ".py",
   "mimetype": "text/x-python",
   "name": "python",
   "nbconvert_exporter": "python",
   "pygments_lexer": "ipython3",
   "version": "3.8.8"
  }
 },
 "nbformat": 4,
 "nbformat_minor": 5
}
