{
 "cells": [
  {
   "cell_type": "code",
   "execution_count": 6,
   "id": "f3d59441",
   "metadata": {},
   "outputs": [
    {
     "name": "stdout",
     "output_type": "stream",
     "text": [
      "5\n"
     ]
    },
    {
     "data": {
      "text/plain": [
       "NoneType"
      ]
     },
     "execution_count": 6,
     "metadata": {},
     "output_type": "execute_result"
    }
   ],
   "source": [
    "def beni_yaz(str):\n",
    "    print(str)\n",
    "type(beni_yaz(5))\n"
   ]
  },
  {
   "cell_type": "code",
   "execution_count": 4,
   "id": "a11a621e",
   "metadata": {},
   "outputs": [
    {
     "name": "stdout",
     "output_type": "stream",
     "text": [
      "isim: ahmet\n",
      "yaş: 20\n"
     ]
    }
   ],
   "source": [
    "def printinfo(isim,yaş):\n",
    "    print(\"isim:\",isim)\n",
    "    print(\"yaş:\",yaş)\n",
    "    return\n",
    "printinfo(yaş=20,isim=\"ahmet\")    "
   ]
  },
  {
   "cell_type": "code",
   "execution_count": 5,
   "id": "980d066f",
   "metadata": {},
   "outputs": [
    {
     "name": "stdout",
     "output_type": "stream",
     "text": [
      "isim: faruk\n",
      "yaş: 50\n",
      "isim: fatih\n",
      "yaş: 35\n"
     ]
    }
   ],
   "source": [
    "def printinfo(isim,yaş=35):\n",
    "    print(\"isim:\",isim)\n",
    "    print(\"yaş:\",yaş)\n",
    "    return\n",
    "printinfo(isim=\"faruk\",yaş=50)\n",
    "printinfo(isim=\"fatih\")"
   ]
  },
  {
   "cell_type": "code",
   "execution_count": 7,
   "id": "6bd89717",
   "metadata": {},
   "outputs": [],
   "source": [
    "def printinfo(arg1,*vartuple):\n",
    "    print(\"çıktı:\")\n",
    "    print(arg1)\n",
    "    \n",
    "    for var in vartuple:\n",
    "        print(var)\n",
    "    return"
   ]
  },
  {
   "cell_type": "code",
   "execution_count": 9,
   "id": "a7c09970",
   "metadata": {},
   "outputs": [
    {
     "name": "stdout",
     "output_type": "stream",
     "text": [
      "çıktı:\n",
      "10\n",
      "çıktı:\n",
      "10\n",
      "20\n",
      "30\n",
      "40\n"
     ]
    }
   ],
   "source": [
    "printinfo(10)\n",
    "printinfo(10,20,30,40)"
   ]
  },
  {
   "cell_type": "code",
   "execution_count": 10,
   "id": "f3bc9e84",
   "metadata": {},
   "outputs": [
    {
     "name": "stdout",
     "output_type": "stream",
     "text": [
      "fonkisyon içi değişmeden önce: [10, 20, 30]\n",
      "fonksiyon içi değiştikten sonra: [10, 20, 50]\n",
      "fonksiyon dışı: [10, 20, 50]\n"
     ]
    }
   ],
   "source": [
    "# global değişken\n",
    "def degis_beni(liste):\n",
    "    print(\"fonkisyon içi değişmeden önce:\",liste)\n",
    "    \n",
    "    liste[2]=50\n",
    "    print(\"fonksiyon içi değiştikten sonra:\",liste)\n",
    "    return\n",
    "\n",
    "liste=[10,20,30]\n",
    "degis_beni(liste)\n",
    "print(\"fonksiyon dışı:\",liste)"
   ]
  },
  {
   "cell_type": "code",
   "execution_count": 11,
   "id": "9576dc17",
   "metadata": {},
   "outputs": [
    {
     "name": "stdout",
     "output_type": "stream",
     "text": [
      "fonkisyon içi değiştikten sonra: [1, 2, 3, 4]\n",
      "fonksiyon dışı: [10, 20, 30, 40]\n"
     ]
    }
   ],
   "source": [
    "#lokal değişken\n",
    "def degis_beni(mylist):\n",
    "    mylist=[1,2,3,4]\n",
    "    print(\"fonkisyon içi değiştikten sonra:\",mylist)\n",
    "    return\n",
    "mylist=[10,20,30,40]\n",
    "degis_beni(mylist)\n",
    "print(\"fonksiyon dışı:\",mylist)"
   ]
  },
  {
   "cell_type": "code",
   "execution_count": 24,
   "id": "f3053d91",
   "metadata": {},
   "outputs": [],
   "source": [
    "def faktoriyel(sayı):\n",
    "    \n",
    "    sonuc=1\n",
    "    for i in range(sayı,1,-1):\n",
    "        sonuc=sonuc*i\n",
    "    return(sonuc)"
   ]
  },
  {
   "cell_type": "code",
   "execution_count": 25,
   "id": "34a426e6",
   "metadata": {},
   "outputs": [
    {
     "name": "stdout",
     "output_type": "stream",
     "text": [
      "0!=1\n",
      "1!=1\n",
      "2!=2\n",
      "3!=6\n",
      "4!=24\n",
      "5!=120\n",
      "6!=720\n",
      "7!=5040\n",
      "8!=40320\n",
      "9!=362880\n"
     ]
    }
   ],
   "source": [
    "for i in range(10):\n",
    "    print(str(i)+\"!=\"+str(faktoriyel(i)))"
   ]
  },
  {
   "cell_type": "code",
   "execution_count": null,
   "id": "ad276571",
   "metadata": {},
   "outputs": [],
   "source": []
  }
 ],
 "metadata": {
  "kernelspec": {
   "display_name": "Python 3",
   "language": "python",
   "name": "python3"
  },
  "language_info": {
   "codemirror_mode": {
    "name": "ipython",
    "version": 3
   },
   "file_extension": ".py",
   "mimetype": "text/x-python",
   "name": "python",
   "nbconvert_exporter": "python",
   "pygments_lexer": "ipython3",
   "version": "3.8.8"
  }
 },
 "nbformat": 4,
 "nbformat_minor": 5
}
