{
 "cells": [
  {
   "cell_type": "code",
   "execution_count": 1,
   "id": "4ba50672",
   "metadata": {},
   "outputs": [],
   "source": [
    "# klavyeden girilen 3 uzunluğu göre üçken oluşturulabilirliğini kontrol eden (üçken eşitsizliği).Üçgenin türünü,alanını,çevresini \n",
    "# yazdıran program"
   ]
  },
  {
   "cell_type": "code",
   "execution_count": 6,
   "id": "613ac01d",
   "metadata": {},
   "outputs": [
    {
     "name": "stdout",
     "output_type": "stream",
     "text": [
      "a=6\n",
      "b=6\n",
      "c=6\n",
      "eşkenar üçken\n"
     ]
    }
   ],
   "source": [
    "a= int(input(\"a=\"))\n",
    "b= int(input(\"b=\"))\n",
    "c= int(input(\"c=\"))\n",
    "if (a<b+c) and (abs(b-c)<a):\n",
    "    #üçken türünü ekrana basıyor\n",
    "    if (a==b) and (b==c):\n",
    "        print(\"eşkenar üçken\")\n",
    "    else:\n",
    "        if (a==b) or (b==c) or (c==a):\n",
    "            print(\"ikizkenar üçken\")\n",
    "        else:\n",
    "            print(\"çeşitkenar üçken\")\n",
    "        çevre= a+b+c\n",
    "        u= çevre/2\n",
    "        alan=(u*(u-a)*(u-b)*(u-c))**(1/2)\n",
    "        print(\"alan:\",alan,\"    çevre:\",çevre)\n",
    "    \n",
    "else:\n",
    "    print(\"üçgen çizilemez\")"
   ]
  },
  {
   "cell_type": "code",
   "execution_count": null,
   "id": "6f1b6f09",
   "metadata": {},
   "outputs": [],
   "source": []
  }
 ],
 "metadata": {
  "kernelspec": {
   "display_name": "Python 3",
   "language": "python",
   "name": "python3"
  },
  "language_info": {
   "codemirror_mode": {
    "name": "ipython",
    "version": 3
   },
   "file_extension": ".py",
   "mimetype": "text/x-python",
   "name": "python",
   "nbconvert_exporter": "python",
   "pygments_lexer": "ipython3",
   "version": "3.8.8"
  }
 },
 "nbformat": 4,
 "nbformat_minor": 5
}
