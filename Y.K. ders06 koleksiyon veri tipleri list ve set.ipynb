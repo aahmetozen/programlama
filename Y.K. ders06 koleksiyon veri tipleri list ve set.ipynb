{
 "cells": [
  {
   "cell_type": "raw",
   "id": "60df3db7",
   "metadata": {},
   "source": [
    "[a  ,  b  ,  c,  d  ,  e  ,  a]\n",
    "0  |  1  |  2  |  3  |  4  |  5 \n",
    "0  |  -5 |  -4 |  -3  | -2  | -1"
   ]
  },
  {
   "cell_type": "code",
   "execution_count": 59,
   "id": "38606b6a",
   "metadata": {},
   "outputs": [
    {
     "name": "stdout",
     "output_type": "stream",
     "text": [
      "['a', 'b', 'c', 'd', 'e', 'a']\n"
     ]
    }
   ],
   "source": [
    "liste = ['a','b','c','d','e','a']\n",
    "print(liste)"
   ]
  },
  {
   "cell_type": "code",
   "execution_count": 60,
   "id": "62277472",
   "metadata": {},
   "outputs": [
    {
     "ename": "TypeError",
     "evalue": "can only concatenate list (not \"str\") to list",
     "output_type": "error",
     "traceback": [
      "\u001b[1;31m---------------------------------------------------------------------------\u001b[0m",
      "\u001b[1;31mTypeError\u001b[0m                                 Traceback (most recent call last)",
      "\u001b[1;32m<ipython-input-60-3e51cfab127d>\u001b[0m in \u001b[0;36m<module>\u001b[1;34m\u001b[0m\n\u001b[1;32m----> 1\u001b[1;33m \u001b[0mliste\u001b[0m \u001b[1;33m=\u001b[0m \u001b[0mliste\u001b[0m \u001b[1;33m+\u001b[0m \u001b[1;34m'f'\u001b[0m\u001b[1;33m\u001b[0m\u001b[1;33m\u001b[0m\u001b[0m\n\u001b[0m",
      "\u001b[1;31mTypeError\u001b[0m: can only concatenate list (not \"str\") to list"
     ]
    }
   ],
   "source": [
    "liste = liste + 'f'"
   ]
  },
  {
   "cell_type": "code",
   "execution_count": 61,
   "id": "0cca319b",
   "metadata": {},
   "outputs": [
    {
     "data": {
      "text/plain": [
       "['a', 'b', 'c', 'd', 'e', 'a', 'f']"
      ]
     },
     "execution_count": 61,
     "metadata": {},
     "output_type": "execute_result"
    }
   ],
   "source": [
    "liste = liste +['f']\n",
    "liste"
   ]
  },
  {
   "cell_type": "code",
   "execution_count": 62,
   "id": "a2cdaeb9",
   "metadata": {},
   "outputs": [
    {
     "data": {
      "text/plain": [
       "['d', 'e']"
      ]
     },
     "execution_count": 62,
     "metadata": {},
     "output_type": "execute_result"
    }
   ],
   "source": [
    "liste[3:5]"
   ]
  },
  {
   "cell_type": "code",
   "execution_count": 63,
   "id": "ae0a2ca2",
   "metadata": {},
   "outputs": [
    {
     "data": {
      "text/plain": [
       "['a', 'b', 'c', 'd', 'e', 'a', 'f', 'g']"
      ]
     },
     "execution_count": 63,
     "metadata": {},
     "output_type": "execute_result"
    }
   ],
   "source": [
    "liste.append('g')\n",
    "liste"
   ]
  },
  {
   "cell_type": "code",
   "execution_count": 64,
   "id": "c91c543c",
   "metadata": {},
   "outputs": [
    {
     "data": {
      "text/plain": [
       "'g'"
      ]
     },
     "execution_count": 64,
     "metadata": {},
     "output_type": "execute_result"
    }
   ],
   "source": [
    "liste.pop()"
   ]
  },
  {
   "cell_type": "code",
   "execution_count": 65,
   "id": "82b1fccb",
   "metadata": {},
   "outputs": [
    {
     "data": {
      "text/plain": [
       "['a', 'b', 'c', 'd', 'e', 'a', 'f']"
      ]
     },
     "execution_count": 65,
     "metadata": {},
     "output_type": "execute_result"
    }
   ],
   "source": [
    "liste"
   ]
  },
  {
   "cell_type": "code",
   "execution_count": 66,
   "id": "40c4b7b9",
   "metadata": {},
   "outputs": [
    {
     "name": "stdout",
     "output_type": "stream",
     "text": [
      "['a', 'b', 'c', 'd', 'e', 'f']\n"
     ]
    }
   ],
   "source": [
    "liste.pop(5)\n",
    "print(liste)"
   ]
  },
  {
   "cell_type": "code",
   "execution_count": 67,
   "id": "f4786069",
   "metadata": {},
   "outputs": [],
   "source": [
    "sayılar = [1345,6846,2356,15353,546,58,753,1,1]\n",
    "sayılar.sort()"
   ]
  },
  {
   "cell_type": "code",
   "execution_count": 68,
   "id": "69785485",
   "metadata": {
    "scrolled": true
   },
   "outputs": [
    {
     "data": {
      "text/plain": [
       "[1, 1, 58, 546, 753, 1345, 2356, 6846, 15353]"
      ]
     },
     "execution_count": 68,
     "metadata": {},
     "output_type": "execute_result"
    }
   ],
   "source": [
    "sayılar"
   ]
  },
  {
   "cell_type": "code",
   "execution_count": 69,
   "id": "4f8e8763",
   "metadata": {},
   "outputs": [
    {
     "name": "stdout",
     "output_type": "stream",
     "text": [
      "[15353, 6846, 2356, 1345, 753, 546, 58, 1, 1]\n"
     ]
    }
   ],
   "source": [
    "sayılar.reverse()\n",
    "print(sayılar)"
   ]
  },
  {
   "cell_type": "code",
   "execution_count": 70,
   "id": "6984ec28",
   "metadata": {},
   "outputs": [
    {
     "data": {
      "text/plain": [
       "{1, 58, 546, 753, 1345, 2356, 6846, 15353}"
      ]
     },
     "execution_count": 70,
     "metadata": {},
     "output_type": "execute_result"
    }
   ],
   "source": [
    "set(sayılar)"
   ]
  }
 ],
 "metadata": {
  "kernelspec": {
   "display_name": "Python 3",
   "language": "python",
   "name": "python3"
  },
  "language_info": {
   "codemirror_mode": {
    "name": "ipython",
    "version": 3
   },
   "file_extension": ".py",
   "mimetype": "text/x-python",
   "name": "python",
   "nbconvert_exporter": "python",
   "pygments_lexer": "ipython3",
   "version": "3.8.8"
  }
 },
 "nbformat": 4,
 "nbformat_minor": 5
}
