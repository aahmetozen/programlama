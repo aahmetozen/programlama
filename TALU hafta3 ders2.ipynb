{
 "cells": [
  {
   "cell_type": "code",
   "execution_count": 4,
   "id": "1c3d8f70",
   "metadata": {},
   "outputs": [
    {
     "name": "stdout",
     "output_type": "stream",
     "text": [
      "0 1 2 3 4 5 6 7 8 9 "
     ]
    }
   ],
   "source": [
    "for x in range(10):\n",
    "    print(x, end=\" \")"
   ]
  },
  {
   "cell_type": "code",
   "execution_count": 4,
   "id": "9c807a8d",
   "metadata": {},
   "outputs": [
    {
     "name": "stdout",
     "output_type": "stream",
     "text": [
      "0 1 2 3 4 5 6 7 8 9 10 "
     ]
    }
   ],
   "source": [
    "x=0\n",
    "while x<=10:\n",
    "    print(x, end=\" \")\n",
    "    x+=1"
   ]
  },
  {
   "cell_type": "code",
   "execution_count": 7,
   "id": "f27ad208",
   "metadata": {},
   "outputs": [
    {
     "name": "stdout",
     "output_type": "stream",
     "text": [
      "element          value\n",
      "0                2\n",
      "1                4\n",
      "2                6\n",
      "3                8\n",
      "4                10\n",
      "5                12\n",
      "6                14\n",
      "7                16\n",
      "8                18\n",
      "9                20\n"
     ]
    }
   ],
   "source": [
    "print(\"element          value\")\n",
    "for x in range(10):\n",
    "    print(x,\"              \" ,2+x*2)"
   ]
  },
  {
   "cell_type": "code",
   "execution_count": null,
   "id": "0e4f43d5",
   "metadata": {},
   "outputs": [],
   "source": [
    "#range(start,stop,step)"
   ]
  },
  {
   "cell_type": "code",
   "execution_count": 11,
   "id": "7956eb05",
   "metadata": {},
   "outputs": [
    {
     "name": "stdout",
     "output_type": "stream",
     "text": [
      "60 65 70 75 80 85 90 95 100 "
     ]
    }
   ],
   "source": [
    "for x in range(60,105,5):\n",
    "    print(x, end=\" \")"
   ]
  },
  {
   "cell_type": "code",
   "execution_count": null,
   "id": "85909b40",
   "metadata": {},
   "outputs": [],
   "source": []
  }
 ],
 "metadata": {
  "kernelspec": {
   "display_name": "Python 3",
   "language": "python",
   "name": "python3"
  },
  "language_info": {
   "codemirror_mode": {
    "name": "ipython",
    "version": 3
   },
   "file_extension": ".py",
   "mimetype": "text/x-python",
   "name": "python",
   "nbconvert_exporter": "python",
   "pygments_lexer": "ipython3",
   "version": "3.8.8"
  }
 },
 "nbformat": 4,
 "nbformat_minor": 5
}
