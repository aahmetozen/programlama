{
 "cells": [
  {
   "cell_type": "markdown",
   "id": "cb26b17a",
   "metadata": {},
   "source": [
    "basit liste harici for döngüleri"
   ]
  },
  {
   "cell_type": "code",
   "execution_count": 2,
   "id": "08527b51",
   "metadata": {},
   "outputs": [
    {
     "name": "stdout",
     "output_type": "stream",
     "text": [
      "1\n",
      "3\n",
      "5\n",
      "7\n"
     ]
    }
   ],
   "source": [
    "tup1 = (1, 3, 5, 7)\n",
    "for sayi in tup1:\n",
    "    print(sayi)\n",
    "    \n"
   ]
  },
  {
   "cell_type": "code",
   "execution_count": 3,
   "id": "050672ba",
   "metadata": {},
   "outputs": [
    {
     "name": "stdout",
     "output_type": "stream",
     "text": [
      "1\n",
      "3\n"
     ]
    }
   ],
   "source": [
    "liste = [[1,2],[3,4]]\n",
    "\n",
    "for x,y in liste:\n",
    "    print(x)\n",
    "    "
   ]
  },
  {
   "cell_type": "code",
   "execution_count": 4,
   "id": "a2a60a64",
   "metadata": {},
   "outputs": [
    {
     "name": "stdout",
     "output_type": "stream",
     "text": [
      "1 2\n",
      "3 4\n"
     ]
    }
   ],
   "source": [
    "liste = [[1,2],[3,4]]\n",
    "\n",
    "forr x,y in liste:\n",
    "    print(x,y)\n",
    "    "
   ]
  },
  {
   "cell_type": "code",
   "execution_count": 5,
   "id": "4c856b16",
   "metadata": {},
   "outputs": [
    {
     "name": "stdout",
     "output_type": "stream",
     "text": [
      "2\n",
      "12\n"
     ]
    }
   ],
   "source": [
    "liste = [[1,2],[3,4]]\n",
    "\n",
    "for x,y in liste:\n",
    "    print(x*y)\n",
    "    "
   ]
  },
  {
   "cell_type": "code",
   "execution_count": 9,
   "id": "03604ec2",
   "metadata": {},
   "outputs": [
    {
     "data": {
      "text/plain": [
       "dict_items([('ad', 'ahmet'), ('soyad', 'özen')])"
      ]
     },
     "execution_count": 9,
     "metadata": {},
     "output_type": "execute_result"
    }
   ],
   "source": [
    "kullanıcı1= {\n",
    "    'ad': 'ahmet',\n",
    "    'soyad': 'özen'\n",
    "}\n",
    "kullanıcı1.items()"
   ]
  },
  {
   "cell_type": "code",
   "execution_count": 11,
   "id": "2740299b",
   "metadata": {},
   "outputs": [
    {
     "name": "stdout",
     "output_type": "stream",
     "text": [
      "key: ad \t value: ahmet\n",
      "key: soyad \t value: özen\n"
     ]
    }
   ],
   "source": [
    "for k , v in kullanıcı1.items():\n",
    "    print(\"key: {} \\t value: {}\".format(k,v))"
   ]
  },
  {
   "cell_type": "code",
   "execution_count": 12,
   "id": "d5fcdc06",
   "metadata": {},
   "outputs": [
    {
     "name": "stdout",
     "output_type": "stream",
     "text": [
      "key: ad\n",
      "key: soyad\n"
     ]
    }
   ],
   "source": [
    "for k in kullanıcı1.keys():\n",
    "    print(\"key: {}\".format(k))"
   ]
  },
  {
   "cell_type": "code",
   "execution_count": 13,
   "id": "856514f7",
   "metadata": {},
   "outputs": [
    {
     "name": "stdout",
     "output_type": "stream",
     "text": [
      "value: ahmet\n",
      "value: özen\n"
     ]
    }
   ],
   "source": [
    "for v in kullanıcı1.values():\n",
    "    print(\"value: {}\".format(v))"
   ]
  },
  {
   "cell_type": "code",
   "execution_count": null,
   "id": "f689b845",
   "metadata": {},
   "outputs": [],
   "source": []
  }
 ],
 "metadata": {
  "kernelspec": {
   "display_name": "Python 3",
   "language": "python",
   "name": "python3"
  },
  "language_info": {
   "codemirror_mode": {
    "name": "ipython",
    "version": 3
   },
   "file_extension": ".py",
   "mimetype": "text/x-python",
   "name": "python",
   "nbconvert_exporter": "python",
   "pygments_lexer": "ipython3",
   "version": "3.8.8"
  }
 },
 "nbformat": 4,
 "nbformat_minor": 5
}
