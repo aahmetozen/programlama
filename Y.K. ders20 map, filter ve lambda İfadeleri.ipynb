{
 "cells": [
  {
   "cell_type": "code",
   "execution_count": 1,
   "id": "b203f0cd",
   "metadata": {},
   "outputs": [],
   "source": [
    "# map,filter ve lambda ifadeleri"
   ]
  },
  {
   "cell_type": "code",
   "execution_count": 2,
   "id": "dab7231b",
   "metadata": {},
   "outputs": [],
   "source": [
    "def karesini_al(x):\n",
    "    return x**2"
   ]
  },
  {
   "cell_type": "code",
   "execution_count": 3,
   "id": "8f4b008d",
   "metadata": {},
   "outputs": [
    {
     "data": {
      "text/plain": [
       "25"
      ]
     },
     "execution_count": 3,
     "metadata": {},
     "output_type": "execute_result"
    }
   ],
   "source": [
    "karesini_al(5)"
   ]
  },
  {
   "cell_type": "code",
   "execution_count": 4,
   "id": "b927a5e3",
   "metadata": {},
   "outputs": [
    {
     "name": "stdout",
     "output_type": "stream",
     "text": [
      "[1, 2, 3, 4, 5]\n",
      "[1, 4, 9, 16, 25]\n"
     ]
    }
   ],
   "source": [
    "#map kullanmadan\n",
    "sayılar = [*range(1,6)]\n",
    "print(sayılar)\n",
    "for index in range(len(sayılar)):\n",
    "    sayılar[index] = karesini_al(sayılar[index])\n",
    "print(sayılar)    "
   ]
  },
  {
   "cell_type": "code",
   "execution_count": 16,
   "id": "23a96e3f",
   "metadata": {},
   "outputs": [
    {
     "data": {
      "text/plain": [
       "[1, 4, 9, 16, 25]"
      ]
     },
     "execution_count": 16,
     "metadata": {},
     "output_type": "execute_result"
    }
   ],
   "source": [
    "sayılar = [*range(1,6)]\n",
    "[*map(karesini_al, sayılar)]"
   ]
  },
  {
   "cell_type": "code",
   "execution_count": 6,
   "id": "074ca584",
   "metadata": {},
   "outputs": [],
   "source": [
    "def çift_sayıları_filtrele(x):\n",
    "    if x%2==0:\n",
    "        return x\n",
    "    #else:\n",
    "    #          retun none"
   ]
  },
  {
   "cell_type": "code",
   "execution_count": 10,
   "id": "5c45f883",
   "metadata": {},
   "outputs": [],
   "source": [
    "çift_sayıları_filtrele(3)"
   ]
  },
  {
   "cell_type": "code",
   "execution_count": 11,
   "id": "0b36e68d",
   "metadata": {},
   "outputs": [
    {
     "data": {
      "text/plain": [
       "[2, 4]"
      ]
     },
     "execution_count": 11,
     "metadata": {},
     "output_type": "execute_result"
    }
   ],
   "source": [
    "sayılar = [*range(1,6)]\n",
    "[*filter(çift_sayıları_filtrele,sayılar)]"
   ]
  },
  {
   "cell_type": "code",
   "execution_count": 14,
   "id": "a36d3266",
   "metadata": {},
   "outputs": [
    {
     "data": {
      "text/plain": [
       "[1, 4, 9, 16, 25]"
      ]
     },
     "execution_count": 14,
     "metadata": {},
     "output_type": "execute_result"
    }
   ],
   "source": [
    "sayilar = [*range(1,6)]\n",
    "list(map(lambda sayi:  sayi**2, sayilar))"
   ]
  },
  {
   "cell_type": "code",
   "execution_count": 15,
   "id": "48e70881",
   "metadata": {},
   "outputs": [
    {
     "data": {
      "text/plain": [
       "[2, 4]"
      ]
     },
     "execution_count": 15,
     "metadata": {},
     "output_type": "execute_result"
    }
   ],
   "source": [
    "sayilar = [*range(1,6)]\n",
    "[*filter(lambda x: x if x%2==0 else None, sayilar)]"
   ]
  },
  {
   "cell_type": "code",
   "execution_count": null,
   "id": "fe506f00",
   "metadata": {},
   "outputs": [],
   "source": []
  }
 ],
 "metadata": {
  "kernelspec": {
   "display_name": "Python 3",
   "language": "python",
   "name": "python3"
  },
  "language_info": {
   "codemirror_mode": {
    "name": "ipython",
    "version": 3
   },
   "file_extension": ".py",
   "mimetype": "text/x-python",
   "name": "python",
   "nbconvert_exporter": "python",
   "pygments_lexer": "ipython3",
   "version": "3.8.8"
  }
 },
 "nbformat": 4,
 "nbformat_minor": 5
}
