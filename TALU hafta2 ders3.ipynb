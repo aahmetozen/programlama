{
 "cells": [
  {
   "cell_type": "code",
   "execution_count": 3,
   "id": "bb480466",
   "metadata": {},
   "outputs": [
    {
     "name": "stdout",
     "output_type": "stream",
     "text": [
      "üç basamaklı bir sayı giriniz=154\n",
      "yüzler= 1    onlar 5      birler= 4\n",
      "451\n"
     ]
    }
   ],
   "source": [
    "sayı=int(input(\"üç basamaklı bir sayı giriniz=\"))\n",
    "a=int(sayı/100)\n",
    "b=int(int(sayı-a*100)/10)\n",
    "c=sayı % 10\n",
    "print(\"yüzler=\",a,\"   onlar\",b,\"     birler=\",c,)\n",
    "print(str(c)+str(b)+str(a))"
   ]
  },
  {
   "cell_type": "code",
   "execution_count": 2,
   "id": "f0cabc17",
   "metadata": {},
   "outputs": [
    {
     "name": "stdout",
     "output_type": "stream",
     "text": [
      "gün sayısını giriniz=365\n",
      "yıl= 1\n",
      "ay= 12\n"
     ]
    }
   ],
   "source": [
    "sayı=int(input(\"gün sayısını giriniz=\"))\n",
    "yıl=sayı//365\n",
    "print(\"yıl=\",yıl)\n",
    "ay=sayı//30\n",
    "print(\"ay=\",ay)"
   ]
  },
  {
   "cell_type": "code",
   "execution_count": 9,
   "id": "dc18d972",
   "metadata": {},
   "outputs": [
    {
     "name": "stdout",
     "output_type": "stream",
     "text": [
      "değişken değeri 100'dür\n",
      "görüşürüz\n"
     ]
    }
   ],
   "source": [
    "var=100\n",
    "if var ==100:\n",
    "    print(\"değişken değeri 100'dür\")\n",
    "print(\"görüşürüz\")    \n",
    "    "
   ]
  },
  {
   "cell_type": "code",
   "execution_count": 11,
   "id": "1bbb0838",
   "metadata": {},
   "outputs": [
    {
     "name": "stdout",
     "output_type": "stream",
     "text": [
      "True\n"
     ]
    }
   ],
   "source": [
    "x=5\n",
    "y=[5,25,'a','100']\n",
    "sonuc=x in y\n",
    "print(sonuc)"
   ]
  },
  {
   "cell_type": "code",
   "execution_count": 12,
   "id": "bb9b982a",
   "metadata": {},
   "outputs": [
    {
     "name": "stdout",
     "output_type": "stream",
     "text": [
      "False\n"
     ]
    }
   ],
   "source": [
    "x=5\n",
    "y=[5,'5',25,'a','100']\n",
    "sonuc=x not in y\n",
    "print(sonuc)"
   ]
  },
  {
   "cell_type": "code",
   "execution_count": 13,
   "id": "a3838ed1",
   "metadata": {},
   "outputs": [
    {
     "name": "stdout",
     "output_type": "stream",
     "text": [
      "sayı giriniz=-5\n",
      "negatif\n"
     ]
    }
   ],
   "source": [
    "sayı=int(input(\"sayı giriniz=\"))\n",
    "if sayı >0:\n",
    "    print(\"pozitif\")\n",
    "if sayı <0:\n",
    "    print(\"negatif\")"
   ]
  },
  {
   "cell_type": "code",
   "execution_count": 14,
   "id": "a53d22b9",
   "metadata": {},
   "outputs": [
    {
     "name": "stdout",
     "output_type": "stream",
     "text": [
      "sayı giriniz=-5\n",
      "negatif\n"
     ]
    }
   ],
   "source": [
    "sayı=int(input(\"sayı giriniz=\"))\n",
    "if sayı >0:\n",
    "    print(\"pozitif\")\n",
    "else:\n",
    "    print(\"negatif\")"
   ]
  },
  {
   "cell_type": "code",
   "execution_count": 16,
   "id": "f97b9ca1",
   "metadata": {},
   "outputs": [
    {
     "name": "stdout",
     "output_type": "stream",
     "text": [
      "sayı giriniz=0\n",
      "sıfır\n"
     ]
    }
   ],
   "source": [
    "sayı=int(input(\"sayı giriniz=\"))\n",
    "if sayı >0:\n",
    "    print(\"pozitif\")    \n",
    "else:\n",
    "    if sayı <0:\n",
    "        print(\"negatif\")\n",
    "    else:\n",
    "        print(\"sıfır\")\n",
    "    "
   ]
  },
  {
   "cell_type": "code",
   "execution_count": 17,
   "id": "6deb0eff",
   "metadata": {},
   "outputs": [
    {
     "name": "stdout",
     "output_type": "stream",
     "text": [
      "sayı giriniz=36\n",
      "sayı 6'ya tam bölünüyor\n"
     ]
    }
   ],
   "source": [
    "sayı=int(input(\"sayı giriniz=\"))\n",
    "kalan=sayı % 6\n",
    "if kalan == 0:\n",
    "    print(\"sayı 6'ya tam bölünüyor\")\n",
    "else:\n",
    "    print(\"sayı 6'nın katı değil\")"
   ]
  },
  {
   "cell_type": "code",
   "execution_count": null,
   "id": "b5707462",
   "metadata": {},
   "outputs": [],
   "source": []
  }
 ],
 "metadata": {
  "kernelspec": {
   "display_name": "Python 3",
   "language": "python",
   "name": "python3"
  },
  "language_info": {
   "codemirror_mode": {
    "name": "ipython",
    "version": 3
   },
   "file_extension": ".py",
   "mimetype": "text/x-python",
   "name": "python",
   "nbconvert_exporter": "python",
   "pygments_lexer": "ipython3",
   "version": "3.8.8"
  }
 },
 "nbformat": 4,
 "nbformat_minor": 5
}
