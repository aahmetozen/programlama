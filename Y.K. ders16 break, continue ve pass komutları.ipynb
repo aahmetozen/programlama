{
 "cells": [
  {
   "cell_type": "markdown",
   "id": "7f02c8bc",
   "metadata": {},
   "source": [
    "# break"
   ]
  },
  {
   "cell_type": "code",
   "execution_count": 4,
   "id": "d49692c9",
   "metadata": {},
   "outputs": [
    {
     "name": "stdout",
     "output_type": "stream",
     "text": [
      "(0, 'a')\n",
      "(1, 'b')\n",
      "(2, 'c')\n",
      "(3, 'd')\n",
      "(4, 'e')\n"
     ]
    }
   ],
   "source": [
    "harfler = ['a','b','c','d','e']\n",
    "for harf in enumerate(harfler):\n",
    "    print(harf)"
   ]
  },
  {
   "cell_type": "code",
   "execution_count": 11,
   "id": "96b44723",
   "metadata": {},
   "outputs": [
    {
     "name": "stdout",
     "output_type": "stream",
     "text": [
      "c harfi 2. indexte\n",
      "c harfi 7. indexte\n",
      "c harfi 12. indexte\n",
      "c harfi 17. indexte\n",
      "c harfi 22. indexte\n",
      "c harfi 27. indexte\n",
      "c harfi 32. indexte\n",
      "c harfi 37. indexte\n",
      "c harfi 42. indexte\n",
      "c harfi 47. indexte\n",
      "c harfi 52. indexte\n",
      "c harfi 57. indexte\n",
      "c harfi 62. indexte\n",
      "c harfi 67. indexte\n",
      "c harfi 72. indexte\n",
      "c harfi 77. indexte\n",
      "c harfi 82. indexte\n",
      "c harfi 87. indexte\n",
      "c harfi 92. indexte\n",
      "c harfi 97. indexte\n",
      "c harfi 102. indexte\n",
      "c harfi 107. indexte\n",
      "c harfi 112. indexte\n",
      "c harfi 117. indexte\n",
      "c harfi 122. indexte\n",
      "c harfi 127. indexte\n",
      "c harfi 132. indexte\n",
      "c harfi 137. indexte\n",
      "c harfi 142. indexte\n",
      "c harfi 147. indexte\n",
      "c harfi 152. indexte\n",
      "c harfi 157. indexte\n",
      "c harfi 162. indexte\n",
      "c harfi 167. indexte\n",
      "c harfi 172. indexte\n",
      "c harfi 177. indexte\n",
      "c harfi 182. indexte\n",
      "c harfi 187. indexte\n",
      "c harfi 192. indexte\n",
      "c harfi 197. indexte\n",
      "c harfi 202. indexte\n",
      "c harfi 207. indexte\n",
      "c harfi 212. indexte\n",
      "c harfi 217. indexte\n",
      "c harfi 222. indexte\n",
      "c harfi 227. indexte\n",
      "c harfi 232. indexte\n",
      "c harfi 237. indexte\n",
      "c harfi 242. indexte\n",
      "c harfi 247. indexte\n",
      "c harfi 252. indexte\n",
      "c harfi 257. indexte\n",
      "c harfi 262. indexte\n",
      "c harfi 267. indexte\n",
      "c harfi 272. indexte\n",
      "c harfi 277. indexte\n",
      "c harfi 282. indexte\n",
      "c harfi 287. indexte\n",
      "c harfi 292. indexte\n",
      "c harfi 297. indexte\n",
      "c harfi 302. indexte\n",
      "c harfi 307. indexte\n",
      "c harfi 312. indexte\n",
      "c harfi 317. indexte\n",
      "c harfi 322. indexte\n",
      "c harfi 327. indexte\n",
      "c harfi 332. indexte\n",
      "c harfi 337. indexte\n",
      "c harfi 342. indexte\n",
      "c harfi 347. indexte\n",
      "c harfi 352. indexte\n",
      "c harfi 357. indexte\n",
      "c harfi 362. indexte\n",
      "c harfi 367. indexte\n",
      "c harfi 372. indexte\n",
      "c harfi 377. indexte\n",
      "c harfi 382. indexte\n",
      "c harfi 387. indexte\n",
      "c harfi 392. indexte\n",
      "c harfi 397. indexte\n",
      "c harfi 402. indexte\n",
      "c harfi 407. indexte\n",
      "c harfi 412. indexte\n",
      "c harfi 417. indexte\n",
      "c harfi 422. indexte\n",
      "c harfi 427. indexte\n",
      "c harfi 432. indexte\n",
      "c harfi 437. indexte\n",
      "c harfi 442. indexte\n",
      "c harfi 447. indexte\n",
      "c harfi 452. indexte\n",
      "c harfi 457. indexte\n",
      "c harfi 462. indexte\n",
      "c harfi 467. indexte\n",
      "c harfi 472. indexte\n",
      "c harfi 477. indexte\n",
      "c harfi 482. indexte\n",
      "c harfi 487. indexte\n",
      "c harfi 492. indexte\n",
      "c harfi 497. indexte\n"
     ]
    }
   ],
   "source": [
    "harfler = ['a','b','c','d','e'] * 100\n",
    "for index, harf in enumerate(harfler):\n",
    "    if harf == 'c':\n",
    "        print('{} harfi {}. indexte'.format(harf, index))\n",
    "       \n",
    "    \n",
    "    "
   ]
  },
  {
   "cell_type": "code",
   "execution_count": 12,
   "id": "5981e57a",
   "metadata": {},
   "outputs": [
    {
     "name": "stdout",
     "output_type": "stream",
     "text": [
      "c harfi 2. indexte\n"
     ]
    }
   ],
   "source": [
    "harfler = ['a','b','c','d','e'] * 100\n",
    "for index, harf in enumerate(harfler):\n",
    "    if harf == 'c':\n",
    "        print('{} harfi {}. indexte'.format(harf, index))\n",
    "        break"
   ]
  },
  {
   "cell_type": "markdown",
   "id": "c2e581d9",
   "metadata": {},
   "source": [
    "# continue"
   ]
  },
  {
   "cell_type": "code",
   "execution_count": 13,
   "id": "26b32367",
   "metadata": {},
   "outputs": [
    {
     "name": "stdout",
     "output_type": "stream",
     "text": [
      "1\n",
      "3\n",
      "5\n"
     ]
    }
   ],
   "source": [
    "for sayi in range(1,6):\n",
    "    if sayi%2==0: #çift sayı sorgulama mantığı\n",
    "        continue\n",
    "    print(sayi)    "
   ]
  },
  {
   "cell_type": "markdown",
   "id": "0cc2f166",
   "metadata": {},
   "source": [
    "# pass"
   ]
  },
  {
   "cell_type": "code",
   "execution_count": 16,
   "id": "b0904ecc",
   "metadata": {},
   "outputs": [
    {
     "name": "stdout",
     "output_type": "stream",
     "text": [
      "1\n",
      "3\n",
      "5\n"
     ]
    }
   ],
   "source": [
    "for sayi in range(1,6):\n",
    "    if sayi%2==0: #çift sayı sorgulama mantığı\n",
    "        pass\n",
    "    else:\n",
    "        print(sayi)    "
   ]
  },
  {
   "cell_type": "code",
   "execution_count": 17,
   "id": "c4b1764b",
   "metadata": {},
   "outputs": [
    {
     "name": "stdout",
     "output_type": "stream",
     "text": [
      "hey\n"
     ]
    }
   ],
   "source": [
    "if sayi <5:\n",
    "    pass\n",
    "else:\n",
    "    print(\"hey\")"
   ]
  },
  {
   "cell_type": "code",
   "execution_count": null,
   "id": "2f2ec9df",
   "metadata": {},
   "outputs": [],
   "source": []
  }
 ],
 "metadata": {
  "kernelspec": {
   "display_name": "Python 3",
   "language": "python",
   "name": "python3"
  },
  "language_info": {
   "codemirror_mode": {
    "name": "ipython",
    "version": 3
   },
   "file_extension": ".py",
   "mimetype": "text/x-python",
   "name": "python",
   "nbconvert_exporter": "python",
   "pygments_lexer": "ipython3",
   "version": "3.8.8"
  }
 },
 "nbformat": 4,
 "nbformat_minor": 5
}
