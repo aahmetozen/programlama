{
 "cells": [
  {
   "cell_type": "code",
   "execution_count": 1,
   "id": "4a90679f",
   "metadata": {},
   "outputs": [],
   "source": [
    "#sınav kağıt üzerinden yüz yüze 4 soru sorulacak"
   ]
  },
  {
   "cell_type": "code",
   "execution_count": 3,
   "id": "4ab267c2",
   "metadata": {},
   "outputs": [
    {
     "name": "stdout",
     "output_type": "stream",
     "text": [
      "sayı girin=1111\n",
      "15\n"
     ]
    }
   ],
   "source": [
    "n=int(input(\"sayı girin=\"))\n",
    "top=0\n",
    "basamak=0\n",
    "while n>0:\n",
    "    sonhane=int(n%10)\n",
    "    n=(n-sonhane)/10\n",
    "    top+=sonhane*(2**basamak)\n",
    "    basamak+=1\n",
    "print(top)    "
   ]
  },
  {
   "cell_type": "code",
   "execution_count": 4,
   "id": "1e5cfc7c",
   "metadata": {},
   "outputs": [],
   "source": [
    "# 20m den bırakılan topun her seferinde %10 daha az yükseldiğini düşünelim 0.5m sıçrayana kadar aldığı yolu hesaplayınız?"
   ]
  },
  {
   "cell_type": "code",
   "execution_count": 6,
   "id": "9964cf4f",
   "metadata": {},
   "outputs": [
    {
     "name": "stdout",
     "output_type": "stream",
     "text": [
      "0    20\n",
      "20    18.0\n",
      "56.0    16.2\n",
      "88.4    14.58\n",
      "117.56    13.122\n",
      "143.804    11.809800000000001\n",
      "167.4236    10.628820000000001\n",
      "188.68124    9.565938000000001\n",
      "207.813116    8.6093442\n",
      "225.0318044    7.748409780000001\n",
      "240.52862396    6.973568802000001\n",
      "254.475761564    6.276211921800001\n",
      "267.0281854076    5.64859072962\n",
      "278.32536686684    5.083731656658\n",
      "288.492830180156    4.5753584909922\n",
      "297.64354716214035    4.11782264189298\n",
      "305.8791924459263    3.706040377703682\n",
      "313.2912732013337    3.3354363399333136\n",
      "319.96214588120034    3.0018927059399823\n",
      "325.9659312930803    2.701703435345984\n",
      "331.3693381637723    2.4315330918113855\n",
      "336.23240434739506    2.188379782630247\n",
      "340.60916391265556    1.9695418043672224\n",
      "344.54824752139    1.7725876239305\n",
      "348.093422769251    1.5953288615374501\n",
      "351.28408049232587    1.435795975383705\n",
      "354.1556724430933    1.2922163778453346\n",
      "356.74010519878397    1.1629947400608012\n",
      "359.0660946789056    1.046695266054721\n",
      "361.159485211015    0.9420257394492489\n",
      "363.0435366899135    0.847823165504324\n",
      "364.73918302092216    0.7630408489538917\n",
      "366.26526471882994    0.6867367640585025\n",
      "367.63873824694696    0.6180630876526523\n",
      "368.87486442225224    0.5562567788873871\n",
      "369.987377980027    0.5006311009986484\n",
      "370.9886401820243    0.4505679908987836\n"
     ]
    }
   ],
   "source": [
    "h=20\n",
    "yol=0\n",
    "print(yol,\"  \",h)\n",
    "yol=yol+h\n",
    "h=h*0.9\n",
    "print(yol,\"  \",h)\n",
    "while h>0.5:\n",
    "    yol=yol+2*h #yukarı çık aşşağı in\n",
    "    h=h*0.9\n",
    "    print(yol,\"  \",h)"
   ]
  },
  {
   "cell_type": "code",
   "execution_count": null,
   "id": "1cccfc61",
   "metadata": {},
   "outputs": [],
   "source": [
    "h=20\n",
    "yol=0\n",
    "print(yol,\"  \",h)\n",
    "yol=yol+h\n",
    "h=h*0.9\n",
    "while h>0.5:\n",
    "    yol=yol+2*h\n",
    "    h"
   ]
  }
 ],
 "metadata": {
  "kernelspec": {
   "display_name": "Python 3",
   "language": "python",
   "name": "python3"
  },
  "language_info": {
   "codemirror_mode": {
    "name": "ipython",
    "version": 3
   },
   "file_extension": ".py",
   "mimetype": "text/x-python",
   "name": "python",
   "nbconvert_exporter": "python",
   "pygments_lexer": "ipython3",
   "version": "3.8.8"
  }
 },
 "nbformat": 4,
 "nbformat_minor": 5
}
