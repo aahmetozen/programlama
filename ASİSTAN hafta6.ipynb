{
 "cells": [
  {
   "cell_type": "code",
   "execution_count": 4,
   "id": "27f1d47b",
   "metadata": {},
   "outputs": [
    {
     "name": "stdout",
     "output_type": "stream",
     "text": [
      "sayı değerini giriniz15\n",
      "3 sayısı asal sayıdır\n",
      "5 sayısı asal sayıdır\n",
      "7 sayısı asal sayıdır\n",
      "9 sayısı asal sayıdır\n",
      "11 sayısı asal sayıdır\n",
      "13 sayısı asal sayıdır\n"
     ]
    }
   ],
   "source": [
    "number=int(input(\"sayı değerini giriniz\"))\n",
    "if number >1:\n",
    "    for i in range(2,number):\n",
    "        if i%2==1:\n",
    "            print(\"{} sayısı asal sayıdır\".format(i))"
   ]
  },
  {
   "cell_type": "code",
   "execution_count": 5,
   "id": "3fd362ab",
   "metadata": {},
   "outputs": [],
   "source": [
    "# armstrong numarası\n",
    "# örnek 153 = 1*1*1 + 5*5*5 + 3*3*3"
   ]
  },
  {
   "cell_type": "code",
   "execution_count": 10,
   "id": "0fb21406",
   "metadata": {},
   "outputs": [
    {
     "name": "stdout",
     "output_type": "stream",
     "text": [
      "sayı değerini giriniz153\n",
      "armstrong sayı\n"
     ]
    }
   ],
   "source": [
    "num=input(\"sayı değerini giriniz\")\n",
    "toplam=0\n",
    "for i in range(len(num)):\n",
    "    toplam=toplam + int(num[i])**3\n",
    "if int(num) == toplam:\n",
    "    print(\"armstrong sayı\")\n",
    "else:\n",
    "    print(\"armstrong sayı değil\")"
   ]
  },
  {
   "cell_type": "code",
   "execution_count": 11,
   "id": "680312be",
   "metadata": {},
   "outputs": [
    {
     "name": "stdout",
     "output_type": "stream",
     "text": [
      "0b11000011100\n",
      "0o3034\n",
      "0x61c\n"
     ]
    }
   ],
   "source": [
    "dec=1564\n",
    "print(bin(dec))\n",
    "print(oct(dec))\n",
    "print(hex(dec))"
   ]
  },
  {
   "cell_type": "raw",
   "id": "88c2cb9f",
   "metadata": {},
   "source": [
    "ANAGRAM SAYILAR (aynı harflerden oluşan farklı kelimeler)\n",
    "\n",
    "sızlanma-anlamsız\n",
    "balistik-sabitlik\n",
    "kalander-kardelen"
   ]
  },
  {
   "cell_type": "code",
   "execution_count": 13,
   "id": "286e6ee9",
   "metadata": {},
   "outputs": [
    {
     "name": "stdout",
     "output_type": "stream",
     "text": [
      "kelime1:ahmet\n",
      "kelime2:temha\n",
      "['a', 'e', 'h', 'm', 't']\n",
      "['a', 'e', 'h', 'm', 't']\n",
      "anangram kelimeler\n"
     ]
    }
   ],
   "source": [
    "str1=input(\"kelime1:\")\n",
    "str2=input(\"kelime2:\")\n",
    "str1=str1.lower()\n",
    "str2=str2.lower()\n",
    "\n",
    "if len(str1) == len(str2):\n",
    "    str1=sorted(str1)\n",
    "    str2=sorted(str2)\n",
    "    print(str1)\n",
    "    print(str2)\n",
    "    if str1 == str2:\n",
    "        print(\"anangram kelimeler\")\n",
    "    else:/\n",
    "        print(\"anagram değil\")"
   ]
  },
  {
   "cell_type": "code",
   "execution_count": 18,
   "id": "11c8dbab",
   "metadata": {},
   "outputs": [
    {
     "name": "stdout",
     "output_type": "stream",
     "text": [
      "merhabanasılsınız\n"
     ]
    }
   ],
   "source": [
    "noktalama_ışaretlerı=''',.!^+%&/?*@'''\n",
    "cumle1=\"merhaba.!!,nasılsınız*?.\"\n",
    "yenı_cumle=\"\"\n",
    "for ch in cumle1:\n",
    "    if ch not in noktalama_ışaretlerı:\n",
    "        yenı_cumle+=ch\n",
    "print(yenı_cumle)        "
   ]
  },
  {
   "cell_type": "code",
   "execution_count": 19,
   "id": "c0bbef0a",
   "metadata": {},
   "outputs": [
    {
     "name": "stdout",
     "output_type": "stream",
     "text": [
      "[1, 2, 3, 4, 5, 6, 7, 8, 9, 0]\n"
     ]
    }
   ],
   "source": [
    "l1=[1,2,3,4,5]\n",
    "l2=[6,7,8,9,0]\n",
    "\n",
    "for l in l2:\n",
    "    l1.append(l)\n",
    "print(l1)    "
   ]
  },
  {
   "cell_type": "code",
   "execution_count": 20,
   "id": "45f395a3",
   "metadata": {},
   "outputs": [
    {
     "name": "stdout",
     "output_type": "stream",
     "text": [
      "[1, 2, 3, 4, 5, 6, 7, 8, 9, 0]\n"
     ]
    }
   ],
   "source": [
    "l1=[1,2,3,4,5]\n",
    "l2=[6,7,8,9,0]\n",
    "\n",
    "l3=l1+l2\n",
    "print(l3)"
   ]
  },
  {
   "cell_type": "code",
   "execution_count": null,
   "id": "6ab9aba9",
   "metadata": {},
   "outputs": [],
   "source": []
  }
 ],
 "metadata": {
  "kernelspec": {
   "display_name": "Python 3",
   "language": "python",
   "name": "python3"
  },
  "language_info": {
   "codemirror_mode": {
    "name": "ipython",
    "version": 3
   },
   "file_extension": ".py",
   "mimetype": "text/x-python",
   "name": "python",
   "nbconvert_exporter": "python",
   "pygments_lexer": "ipython3",
   "version": "3.8.8"
  }
 },
 "nbformat": 4,
 "nbformat_minor": 5
}
