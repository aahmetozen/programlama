{
 "cells": [
  {
   "cell_type": "code",
   "execution_count": 1,
   "id": "298283de",
   "metadata": {},
   "outputs": [],
   "source": [
    "#mobilhanem.com  "
   ]
  },
  {
   "cell_type": "raw",
   "id": "8dfc6585",
   "metadata": {},
   "source": [
    "Neden Python?\n",
    "Aslında bu soruya cevap vermeden önce kendimize bir kaç soru soralım o zaman bu soruya cevap verebileceğimizi göreceksiniz.\n",
    "\n",
    "Python Nedir?\n",
    "Tek bir cümle ile anlatırsak Python çok çeşitli alanlarda kullanılan dinamik , yüksek seviyeli, ve nesne yönelimli bir  programlama dilidir.\n",
    "\n",
    "Python’nu  diğer dillerden ayıran özellikleri ve avantajları nelerdir?\n",
    "Öncelikle Python öğrenilmesi çok kolay olan katı kuralları olmayan basit söz dizimi ile öğrenilmesi eğlenceli bir programlama dilidir. Ayrıca bu dilin yorumlanabilir olması pek çok alanda ideal bir dil kılıyor. Hepsinin ötesinde Python açık kaynaklı bir programlama dilidir. İstediğiniz şekilde ücretsiz kullanma hakkına sahipsiniz.\n",
    "\n",
    "Python nerelerde kullanılır ve Python ile neler yapabilirim?\n",
    "Web Uygulamaları Geliştirme (Django ve Flask)\n",
    "\n",
    "Mobil Uygulama  (Kivy)\n",
    "\n",
    "Arayüz Geliştirme (PyQt, PyGTK, Tkinter, wxPython)\n",
    "\n",
    "Oyun Programlama (PyGame)\n",
    "\n",
    "Ağ ve Soket Programlama (Twisted)\n",
    "\n",
    "Örümcek Türü Yazılımlar (Scrapy, Requests, Beatifulsoup)\n",
    "\n",
    "Veri Madenciliği ve Büyük Veri (Numpy ,SciPy, Matplotlib, Pandas vb.)\n",
    "\n",
    "Makine Öğrenimi ve Yapay Zeka Uygulamalarında (Scikit-Learn, Keras, TensorFlow, Caffe)"
   ]
  },
  {
   "cell_type": "code",
   "execution_count": 2,
   "id": "4aae4722",
   "metadata": {},
   "outputs": [
    {
     "name": "stdout",
     "output_type": "stream",
     "text": [
      "11\n"
     ]
    }
   ],
   "source": [
    "a=5\n",
    "b=6\n",
    "print(a+b)"
   ]
  },
  {
   "cell_type": "code",
   "execution_count": 3,
   "id": "8a14b076",
   "metadata": {},
   "outputs": [
    {
     "data": {
      "text/plain": [
       "False"
      ]
     },
     "execution_count": 3,
     "metadata": {},
     "output_type": "execute_result"
    }
   ],
   "source": [
    "a==b"
   ]
  },
  {
   "cell_type": "code",
   "execution_count": 4,
   "id": "ca9d90ab",
   "metadata": {},
   "outputs": [
    {
     "name": "stdout",
     "output_type": "stream",
     "text": [
      "3\n",
      "6\n",
      "9\n"
     ]
    }
   ],
   "source": [
    "a=3\n",
    "b=6\n",
    "print(a)\n",
    "print(b)\n",
    "\n",
    "a+=b\n",
    "print(a)"
   ]
  },
  {
   "cell_type": "code",
   "execution_count": null,
   "id": "cce28c4e",
   "metadata": {},
   "outputs": [],
   "source": [
    "#mantıksal ifadeler (and,or,not)"
   ]
  }
 ],
 "metadata": {
  "kernelspec": {
   "display_name": "Python 3",
   "language": "python",
   "name": "python3"
  },
  "language_info": {
   "codemirror_mode": {
    "name": "ipython",
    "version": 3
   },
   "file_extension": ".py",
   "mimetype": "text/x-python",
   "name": "python",
   "nbconvert_exporter": "python",
   "pygments_lexer": "ipython3",
   "version": "3.8.8"
  }
 },
 "nbformat": 4,
 "nbformat_minor": 5
}
