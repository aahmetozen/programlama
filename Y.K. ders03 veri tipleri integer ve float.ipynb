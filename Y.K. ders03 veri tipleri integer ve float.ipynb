{
 "cells": [
  {
   "cell_type": "code",
   "execution_count": 2,
   "id": "cd8c9b54",
   "metadata": {},
   "outputs": [
    {
     "name": "stdout",
     "output_type": "stream",
     "text": [
      "hello world\n"
     ]
    }
   ],
   "source": [
    "print(\"hello world\")"
   ]
  },
  {
   "cell_type": "markdown",
   "id": "f20185b4",
   "metadata": {},
   "source": [
    "ders 3 veri tipleri sayı tipleri ve float"
   ]
  },
  {
   "cell_type": "raw",
   "id": "25c07e18",
   "metadata": {},
   "source": [
    " tip   kısaltma        örnek\n",
    "\n",
    "integer  int            3 , 10\n",
    "Float    float          1.5 , 2.7 , 7.0\n",
    "string   str            \"slm\", \"a\"\n",
    "boolean  bool           true , false\n",
    "list     list           [1 , 2 ,true ,a, false]\n",
    "set      set            {1, 2, true, false} ----------> set birden fazla tekrar eden ifadeyi tek sefer yazar\n",
    "dictionary dict         {isim:mesut , yaş:23}\n",
    "tuple     tup           (1 , 2 , true) ---------> tuple listeden farklı olarak değiştirilemiyor\n",
    "\n",
    "\n",
    "\n"
   ]
  },
  {
   "cell_type": "code",
   "execution_count": 5,
   "id": "d68bf583",
   "metadata": {},
   "outputs": [],
   "source": [
    "metin = \"int =tam sayılar float= kesirli sayılar\""
   ]
  },
  {
   "cell_type": "code",
   "execution_count": 7,
   "id": "aa2a1fe0",
   "metadata": {},
   "outputs": [
    {
     "name": "stdout",
     "output_type": "stream",
     "text": [
      "5\n"
     ]
    }
   ],
   "source": [
    "print(5)"
   ]
  },
  {
   "cell_type": "code",
   "execution_count": 9,
   "id": "34ba3d67",
   "metadata": {},
   "outputs": [
    {
     "data": {
      "text/plain": [
       "5"
      ]
     },
     "execution_count": 9,
     "metadata": {},
     "output_type": "execute_result"
    }
   ],
   "source": [
    "5"
   ]
  },
  {
   "cell_type": "code",
   "execution_count": 11,
   "id": "5408530b",
   "metadata": {},
   "outputs": [
    {
     "data": {
      "text/plain": [
       "7"
      ]
     },
     "execution_count": 11,
     "metadata": {},
     "output_type": "execute_result"
    }
   ],
   "source": [
    "3+4"
   ]
  },
  {
   "cell_type": "code",
   "execution_count": 13,
   "id": "20aef84a",
   "metadata": {},
   "outputs": [
    {
     "data": {
      "text/plain": [
       "int"
      ]
     },
     "execution_count": 13,
     "metadata": {},
     "output_type": "execute_result"
    }
   ],
   "source": [
    "type(3)"
   ]
  },
  {
   "cell_type": "code",
   "execution_count": 15,
   "id": "34a3f151",
   "metadata": {},
   "outputs": [
    {
     "data": {
      "text/plain": [
       "float"
      ]
     },
     "execution_count": 15,
     "metadata": {},
     "output_type": "execute_result"
    }
   ],
   "source": [
    "type(3.5)"
   ]
  },
  {
   "cell_type": "code",
   "execution_count": 17,
   "id": "3afb0680",
   "metadata": {},
   "outputs": [
    {
     "data": {
      "text/plain": [
       "12"
      ]
     },
     "execution_count": 17,
     "metadata": {},
     "output_type": "execute_result"
    }
   ],
   "source": [
    "3*4"
   ]
  },
  {
   "cell_type": "code",
   "execution_count": 19,
   "id": "f3f4cecd",
   "metadata": {},
   "outputs": [
    {
     "data": {
      "text/plain": [
       "11"
      ]
     },
     "execution_count": 19,
     "metadata": {},
     "output_type": "execute_result"
    }
   ],
   "source": [
    "15-4"
   ]
  },
  {
   "cell_type": "code",
   "execution_count": 21,
   "id": "c5577197",
   "metadata": {},
   "outputs": [
    {
     "name": "stdout",
     "output_type": "stream",
     "text": [
      "12\n",
      "7\n"
     ]
    }
   ],
   "source": [
    "print(3*4)\n",
    "print(3+4)"
   ]
  },
  {
   "cell_type": "code",
   "execution_count": 23,
   "id": "1ab9c282",
   "metadata": {},
   "outputs": [
    {
     "data": {
      "text/plain": [
       "12"
      ]
     },
     "execution_count": 23,
     "metadata": {},
     "output_type": "execute_result"
    }
   ],
   "source": [
    "3+4\n",
    "3*4"
   ]
  },
  {
   "cell_type": "code",
   "execution_count": 25,
   "id": "c13f809f",
   "metadata": {},
   "outputs": [
    {
     "data": {
      "text/plain": [
       "14"
      ]
     },
     "execution_count": 25,
     "metadata": {},
     "output_type": "execute_result"
    }
   ],
   "source": [
    "3*4+2"
   ]
  },
  {
   "cell_type": "code",
   "execution_count": 27,
   "id": "a7ad0a1d",
   "metadata": {},
   "outputs": [
    {
     "data": {
      "text/plain": [
       "6.820000000000001"
      ]
     },
     "execution_count": 27,
     "metadata": {},
     "output_type": "execute_result"
    }
   ],
   "source": [
    "3.1*2.2"
   ]
  },
  {
   "cell_type": "code",
   "execution_count": 28,
   "id": "ecc7d2bb",
   "metadata": {},
   "outputs": [
    {
     "data": {
      "text/plain": [
       "15.5"
      ]
     },
     "execution_count": 28,
     "metadata": {},
     "output_type": "execute_result"
    }
   ],
   "source": [
    "3.1*5"
   ]
  }
 ],
 "metadata": {
  "kernelspec": {
   "display_name": "Python 3",
   "language": "python",
   "name": "python3"
  },
  "language_info": {
   "codemirror_mode": {
    "name": "ipython",
    "version": 3
   },
   "file_extension": ".py",
   "mimetype": "text/x-python",
   "name": "python",
   "nbconvert_exporter": "python",
   "pygments_lexer": "ipython3",
   "version": "3.8.8"
  }
 },
 "nbformat": 4,
 "nbformat_minor": 5
}
