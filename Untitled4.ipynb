{
 "cells": [
  {
   "cell_type": "code",
   "execution_count": null,
   "id": "68e2b6d5",
   "metadata": {},
   "outputs": [],
   "source": [
    "a=5\n",
    "b=6\n",
    "a=b\n",
    "print(a+b)"
   ]
  },
  {
   "cell_type": "code",
   "execution_count": null,
   "id": "1018ec03",
   "metadata": {},
   "outputs": [],
   "source": [
    "5+6"
   ]
  },
  {
   "cell_type": "code",
   "execution_count": null,
   "id": "9f3db71c",
   "metadata": {},
   "outputs": [],
   "source": [
    "#komut satırı yapma \n",
    "#komut satırı"
   ]
  },
  {
   "cell_type": "code",
   "execution_count": null,
   "id": "3f14a546",
   "metadata": {},
   "outputs": [],
   "source": [
    "a=3\n",
    "b=6\n",
    "print(a)\n",
    "print(b)\n",
    "#a = a + b\n",
    "a+=b\n",
    "print(a)"
   ]
  },
  {
   "cell_type": "markdown",
   "id": "46daad09",
   "metadata": {},
   "source": [
    "bilgisayarda işlemler ikili tabanda çalışır"
   ]
  },
  {
   "cell_type": "raw",
   "id": "60e30e2d",
   "metadata": {},
   "source": [
    "a=7\n",
    "b=4\n",
    "sonuç 4 çünkü\n",
    "iklik tabanda 7----> 0000 0111\n",
    "              4----> 0000 1000 dır ve bağlacında ise sonuç;\n",
    "                     0000 1000 olur."
   ]
  },
  {
   "cell_type": "raw",
   "id": "0185e105",
   "metadata": {},
   "source": [
    "ve(and,&) ,veya(or,|) ,değil(not,~) bu operatörler sadece sayılarda çalışır"
   ]
  },
  {
   "cell_type": "code",
   "execution_count": null,
   "id": "b6538f30",
   "metadata": {},
   "outputs": [],
   "source": [
    "a=input(\"sayıyı giriniz=\")\n",
    "b=input(\"sayıyı giriniz=\")"
   ]
  },
  {
   "cell_type": "code",
   "execution_count": null,
   "id": "730bab2f",
   "metadata": {},
   "outputs": [],
   "source": []
  },
  {
   "cell_type": "code",
   "execution_count": null,
   "id": "a3a58f3d",
   "metadata": {},
   "outputs": [],
   "source": []
  },
  {
   "cell_type": "code",
   "execution_count": null,
   "id": "c1ddceed",
   "metadata": {},
   "outputs": [],
   "source": []
  },
  {
   "cell_type": "code",
   "execution_count": null,
   "id": "73108238",
   "metadata": {},
   "outputs": [],
   "source": []
  },
  {
   "cell_type": "code",
   "execution_count": null,
   "id": "6285387e",
   "metadata": {},
   "outputs": [],
   "source": []
  },
  {
   "cell_type": "code",
   "execution_count": null,
   "id": "2fb71070",
   "metadata": {},
   "outputs": [],
   "source": [
    "das"
   ]
  }
 ],
 "metadata": {
  "kernelspec": {
   "display_name": "Python 3",
   "language": "python",
   "name": "python3"
  },
  "language_info": {
   "codemirror_mode": {
    "name": "ipython",
    "version": 3
   },
   "file_extension": ".py",
   "mimetype": "text/x-python",
   "name": "python",
   "nbconvert_exporter": "python",
   "pygments_lexer": "ipython3",
   "version": "3.8.8"
  }
 },
 "nbformat": 4,
 "nbformat_minor": 5
}
