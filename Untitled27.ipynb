{
 "cells": [
  {
   "cell_type": "code",
   "execution_count": 12,
   "id": "28abdfa4",
   "metadata": {},
   "outputs": [
    {
     "name": "stdout",
     "output_type": "stream",
     "text": [
      "sayı giriniz=4\n",
      "sayı giriniz=5\n",
      "sayı giriniz=6\n",
      "seçtiğimiz sayılar=4,5,6,  ortlama=5.0\n"
     ]
    }
   ],
   "source": [
    "a=int(input(\"sayı giriniz=\"))\n",
    "b=int(input(\"sayı giriniz=\"))\n",
    "c=int(input(\"sayı giriniz=\"))\n",
    "f=(a+b+c)/3\n",
    "print(\"seçtiğimiz sayılar={0},{1},{2},  ortlama={3}\".format((a),(b),(c),(f)))"
   ]
  },
  {
   "cell_type": "code",
   "execution_count": null,
   "id": "f7152be9",
   "metadata": {},
   "outputs": [],
   "source": []
  }
 ],
 "metadata": {
  "kernelspec": {
   "display_name": "Python 3",
   "language": "python",
   "name": "python3"
  },
  "language_info": {
   "codemirror_mode": {
    "name": "ipython",
    "version": 3
   },
   "file_extension": ".py",
   "mimetype": "text/x-python",
   "name": "python",
   "nbconvert_exporter": "python",
   "pygments_lexer": "ipython3",
   "version": "3.8.8"
  }
 },
 "nbformat": 4,
 "nbformat_minor": 5
}
