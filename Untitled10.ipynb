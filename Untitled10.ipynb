{
 "cells": [
  {
   "cell_type": "code",
   "execution_count": 1,
   "id": "b2e328b1",
   "metadata": {},
   "outputs": [
    {
     "name": "stdout",
     "output_type": "stream",
     "text": [
      "fibonaccinin ilk n terimi için n=8\n",
      "0 1 1 2 3 5 8 13 21 "
     ]
    }
   ],
   "source": [
    "n = int(input(\"fibonaccinin ilk n terimi için n=\"))\n",
    "\n",
    "# F(n) = F(n-1) + F(n-2)\n",
    "# n=6\n",
    "\n",
    "# 0 1 2 3 4 5 6 7\n",
    "# 0 1 1 2 3 5 8 13 ..\n",
    "\n",
    "A = 0\n",
    "print(A, end=\" \")\n",
    "B = 1\n",
    "print(B, end=\" \")\n",
    "for i in range(n-1):\n",
    "    F= A + B\n",
    "    print(F, end=\" \")\n",
    "    A = B\n",
    "    B = F"
   ]
  },
  {
   "cell_type": "raw",
   "id": "7c7ab420",
   "metadata": {},
   "source": [
    "girilen 10 adet sayı içerisinden pozitif negatif ve sıfır kaçar adet tekrarlandığını bulan kod"
   ]
  },
  {
   "cell_type": "code",
   "execution_count": null,
   "id": "2847353a",
   "metadata": {},
   "outputs": [
    {
     "name": "stdout",
     "output_type": "stream",
     "text": [
      "sayi giriniz=13\n",
      "sayi giriniz=45\n",
      "sayi giriniz=5\n",
      "sayi giriniz=0\n",
      "sayi giriniz=0\n",
      "sayi giriniz=-5\n",
      "sayi giriniz=-8\n"
     ]
    }
   ],
   "source": [
    "p=0\n",
    "n=0\n",
    "s=0\n",
    "for i in range(10):\n",
    "    sayi =int(input(\"sayi giriniz=\"))\n",
    "\n",
    "    if sayi > 0:\n",
    "        p = p + 1\n",
    "    else:\n",
    "        if sayi < 0:\n",
    "            n = n + 1\n",
    "        else:\n",
    "            s = s + 1\n",
    "print(\"p=\",p)\n",
    "print(\"n=\",n)   \n",
    "print(\"s=\",s)   \n",
    "        \n",
    "    "
   ]
  },
  {
   "cell_type": "code",
   "execution_count": null,
   "id": "59a9299d",
   "metadata": {},
   "outputs": [],
   "source": []
  }
 ],
 "metadata": {
  "kernelspec": {
   "display_name": "Python 3",
   "language": "python",
   "name": "python3"
  },
  "language_info": {
   "codemirror_mode": {
    "name": "ipython",
    "version": 3
   },
   "file_extension": ".py",
   "mimetype": "text/x-python",
   "name": "python",
   "nbconvert_exporter": "python",
   "pygments_lexer": "ipython3",
   "version": "3.8.8"
  }
 },
 "nbformat": 4,
 "nbformat_minor": 5
}
