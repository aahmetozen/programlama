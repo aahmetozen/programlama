{
 "cells": [
  {
   "cell_type": "markdown",
   "id": "ed047dce",
   "metadata": {},
   "source": [
    "programlama dersi\n",
    "problemler"
   ]
  },
  {
   "cell_type": "code",
   "execution_count": 2,
   "id": "0e4b509b",
   "metadata": {},
   "outputs": [
    {
     "name": "stdout",
     "output_type": "stream",
     "text": [
      "işci maaşını giriniz=1000\n",
      "çocuk sayısını giriniz3\n",
      "işcinin yeni maaşı= 1150.0\n"
     ]
    }
   ],
   "source": [
    "işcinineskimaaşı=int(input(\"işci maaşını giriniz=\"))\n",
    "çocuksayısı=int(input(\"çocuk sayısını giriniz\"))\n",
    "işcininyenimaaşı= işcinineskimaaşı\n",
    "if (çocuksayısı==1):\n",
    "    işcininyenimaaşı= işcinineskimaaşı * 1.05\n",
    "else:\n",
    "    if (çocuksayısı==2):\n",
    "        işcininyenimaaşı= işcinineskimaaşı * 1.10\n",
    "    else:\n",
    "        if (çocuksayısı ==3):\n",
    "            işcininyenimaaşı= işcinineskimaaşı * 1.15\n",
    "        \n",
    "print(\"işcinin yeni maaşı=\",işcininyenimaaşı)"
   ]
  },
  {
   "cell_type": "code",
   "execution_count": 4,
   "id": "937fe963",
   "metadata": {},
   "outputs": [
    {
     "name": "stdout",
     "output_type": "stream",
     "text": [
      "0 1 2 3 4 5 6 7 8 9 "
     ]
    }
   ],
   "source": [
    "#for , if , print , input\n",
    "\n",
    "for x in range(10):\n",
    "    print(x,end=\" \")"
   ]
  },
  {
   "cell_type": "code",
   "execution_count": 8,
   "id": "5099aba6",
   "metadata": {},
   "outputs": [
    {
     "name": "stdout",
     "output_type": "stream",
     "text": [
      "0 1 2 3 4 5 6 7 8 9 "
     ]
    }
   ],
   "source": [
    "x = 0\n",
    "while x<10:\n",
    "    print(x,end=\" \")\n",
    "    x = x + 1"
   ]
  },
  {
   "cell_type": "code",
   "execution_count": 13,
   "id": "a1356959",
   "metadata": {},
   "outputs": [
    {
     "name": "stdout",
     "output_type": "stream",
     "text": [
      "element        value\n",
      "0               2\n",
      "1               4\n",
      "2               6\n",
      "3               8\n",
      "4               10\n",
      "5               12\n",
      "6               14\n",
      "7               16\n",
      "8               18\n",
      "9               20\n"
     ]
    }
   ],
   "source": [
    "print(\"element        value\")\n",
    "\n",
    "for x in range(10):\n",
    "    print(x,\"             \",2+x*2)"
   ]
  },
  {
   "cell_type": "code",
   "execution_count": 2,
   "id": "1e171692",
   "metadata": {},
   "outputs": [
    {
     "name": "stdout",
     "output_type": "stream",
     "text": [
      "60 65 70 75 80 85 90 95 100 "
     ]
    }
   ],
   "source": [
    "x = 60\n",
    "while x<=100:\n",
    "    print(x, end=\" \")\n",
    "    x = x + 5"
   ]
  },
  {
   "cell_type": "code",
   "execution_count": null,
   "id": "df5496ba",
   "metadata": {},
   "outputs": [],
   "source": []
  }
 ],
 "metadata": {
  "kernelspec": {
   "display_name": "Python 3",
   "language": "python",
   "name": "python3"
  },
  "language_info": {
   "codemirror_mode": {
    "name": "ipython",
    "version": 3
   },
   "file_extension": ".py",
   "mimetype": "text/x-python",
   "name": "python",
   "nbconvert_exporter": "python",
   "pygments_lexer": "ipython3",
   "version": "3.8.8"
  }
 },
 "nbformat": 4,
 "nbformat_minor": 5
}
