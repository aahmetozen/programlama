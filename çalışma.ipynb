{
 "cells": [
  {
   "cell_type": "code",
   "execution_count": 7,
   "id": "46b8d137",
   "metadata": {},
   "outputs": [
    {
     "name": "stdout",
     "output_type": "stream",
     "text": [
      "kat bilgisi giriniz=6\n",
      "ücret 15tl\n"
     ]
    }
   ],
   "source": [
    "kat=int(input(\"kat bilgisi giriniz=\"))\n",
    "if kat<=2:\n",
    "    print(\"ücret 5tl\")\n",
    "elif kat<=4:\n",
    "    print(\"ücret 10tl\")\n",
    "elif kat<=6:\n",
    "    print(\"ücret 15tl\")\n",
    "elif kat<=12:\n",
    "    print(\"ücret 20tl\")\n",
    "else:\n",
    "    print(\"ücret 30tl\")\n",
    "    \n",
    "    "
   ]
  },
  {
   "cell_type": "code",
   "execution_count": 9,
   "id": "e7e2fc3f",
   "metadata": {},
   "outputs": [
    {
     "name": "stdout",
     "output_type": "stream",
     "text": [
      "1.sayıyı giriniz15\n",
      "2.sayıyı giriniz15\n",
      "0\n"
     ]
    }
   ],
   "source": [
    "a=int(input(\"1.sayıyı giriniz\"))\n",
    "b=int(input(\"2.sayıyı giriniz\"))\n",
    "sonuç=a-b\n",
    "print(sonuç)"
   ]
  },
  {
   "cell_type": "code",
   "execution_count": 12,
   "id": "357a4951",
   "metadata": {},
   "outputs": [
    {
     "name": "stdout",
     "output_type": "stream",
     "text": [
      "1.sayıyı giriniz30\n",
      "2.sayıyı giriniz60\n",
      "45.0\n"
     ]
    }
   ],
   "source": [
    "a=int(input(\"1.sayıyı giriniz\"))\n",
    "b=int(input(\"2.sayıyı giriniz\"))\n",
    "ort=(a+b)/2\n",
    "print(ort)"
   ]
  },
  {
   "cell_type": "code",
   "execution_count": 13,
   "id": "8ad16582",
   "metadata": {},
   "outputs": [
    {
     "name": "stdout",
     "output_type": "stream",
     "text": [
      "fahrenhayt=150\n",
      "65.55555555555556\n"
     ]
    }
   ],
   "source": [
    "f=int(input(\"fahrenhayt=\"))\n",
    "c=(f-32)*(5/9)\n",
    "print(c)"
   ]
  },
  {
   "cell_type": "code",
   "execution_count": 22,
   "id": "877d2149",
   "metadata": {},
   "outputs": [
    {
     "name": "stdout",
     "output_type": "stream",
     "text": [
      "alış veriş tutarı75\n",
      "60.0\n"
     ]
    }
   ],
   "source": [
    "a=int(input(\"alış veriş tutarı\"))\n",
    "if a<50:\n",
    "    a=a-(a*10)/100\n",
    "    print(a)\n",
    "elif a<100:\n",
    "    a=a-(a*20)/100\n",
    "    print(a)\n",
    "elif a>=100:\n",
    "    a=a-(a*30)/100\n",
    "    print(a)"
   ]
  },
  {
   "cell_type": "code",
   "execution_count": 27,
   "id": "ec33d383",
   "metadata": {},
   "outputs": [
    {
     "name": "stdout",
     "output_type": "stream",
     "text": [
      "bir değer giriniz=15\n",
      "50\n"
     ]
    }
   ],
   "source": [
    "x=int(input(\"bir değer giriniz=\"))\n",
    "if x>0:\n",
    "    x=3*x+5\n",
    "    print(x)\n",
    "elif x==0:\n",
    "    x=(x+5)*5\n",
    "    print(x)\n",
    "elif x<0:\n",
    "    x=(x+15)*2\n",
    "    print(x)"
   ]
  },
  {
   "cell_type": "code",
   "execution_count": null,
   "id": "d88be396",
   "metadata": {},
   "outputs": [],
   "source": []
  },
  {
   "cell_type": "code",
   "execution_count": null,
   "id": "9eee1fab",
   "metadata": {},
   "outputs": [],
   "source": []
  }
 ],
 "metadata": {
  "kernelspec": {
   "display_name": "Python 3",
   "language": "python",
   "name": "python3"
  },
  "language_info": {
   "codemirror_mode": {
    "name": "ipython",
    "version": 3
   },
   "file_extension": ".py",
   "mimetype": "text/x-python",
   "name": "python",
   "nbconvert_exporter": "python",
   "pygments_lexer": "ipython3",
   "version": "3.8.8"
  }
 },
 "nbformat": 4,
 "nbformat_minor": 5
}
