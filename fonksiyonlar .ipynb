{
 "cells": [
  {
   "cell_type": "code",
   "execution_count": 1,
   "id": "c21293e4",
   "metadata": {},
   "outputs": [
    {
     "data": {
      "text/plain": [
       "'\\nbir fonksiyon tanımında mutlaka gerekli olan elmanlar şunlardır:\\n1_ def anahtar kelimesi\\n2_ geçerli bir fonksiyon adı\\n3_ parantezler\\n4_ iki nokta(:)\\n5_ fonksiyon gövdesi\\n\\n'"
      ]
     },
     "execution_count": 1,
     "metadata": {},
     "output_type": "execute_result"
    }
   ],
   "source": [
    "\"\"\"\n",
    "bir fonksiyon tanımında mutlaka gerekli olan elmanlar şunlardır:\n",
    "1_ def anahtar kelimesi\n",
    "2_ geçerli bir fonksiyon adı\n",
    "3_ parantezler\n",
    "4_ iki nokta(:)\n",
    "5_ fonksiyon gövdesi\n",
    "\n",
    "\"\"\""
   ]
  },
  {
   "cell_type": "code",
   "execution_count": 7,
   "id": "7287fb26",
   "metadata": {},
   "outputs": [],
   "source": [
    "def günaydın_yazdır():\n",
    "    print(\"günaydın!\")"
   ]
  },
  {
   "cell_type": "code",
   "execution_count": 8,
   "id": "2c5bb5a8",
   "metadata": {},
   "outputs": [
    {
     "name": "stdout",
     "output_type": "stream",
     "text": [
      "günaydın!\n"
     ]
    }
   ],
   "source": [
    "günaydın_yazdır()"
   ]
  },
  {
   "cell_type": "code",
   "execution_count": 9,
   "id": "9c75f1df",
   "metadata": {},
   "outputs": [],
   "source": [
    "def günaydın_yazdır(str1,str2):\n",
    "    print(str1,str2)"
   ]
  },
  {
   "cell_type": "code",
   "execution_count": 12,
   "id": "b9cf1002",
   "metadata": {},
   "outputs": [
    {
     "name": "stdout",
     "output_type": "stream",
     "text": [
      "günaydın sana da günaydın\n"
     ]
    }
   ],
   "source": [
    "günaydın_yazdır(str1=\"günaydın\",str2=\"sana da günaydın\")"
   ]
  },
  {
   "cell_type": "code",
   "execution_count": 13,
   "id": "5a0ab417",
   "metadata": {},
   "outputs": [],
   "source": [
    "def kimnerde(ad,kent=\"samsun\"):\n",
    "    print(\"adı=\",ad)\n",
    "    print(\"yaşadığı şehir=\",kent)\n",
    "    print(\"-\"*30)"
   ]
  },
  {
   "cell_type": "code",
   "execution_count": 16,
   "id": "c298dffc",
   "metadata": {},
   "outputs": [
    {
     "name": "stdout",
     "output_type": "stream",
     "text": [
      "adı= ahmet\n",
      "yaşadığı şehir= samsun\n",
      "------------------------------\n",
      "adı= mitat\n",
      "yaşadığı şehir= antalya\n",
      "------------------------------\n",
      "adı= faruk\n",
      "yaşadığı şehir= sivas\n",
      "------------------------------\n"
     ]
    }
   ],
   "source": [
    "kimnerde(\"ahmet\")\n",
    "kimnerde(\"mitat\",\"antalya\")\n",
    "kimnerde(\"faruk\",\"sivas\")"
   ]
  },
  {
   "cell_type": "code",
   "execution_count": 24,
   "id": "df90c02c",
   "metadata": {},
   "outputs": [],
   "source": [
    "def multistr(*arg):\n",
    "    print(\"ifadeler=\",arg)\n",
    "    print(\"-\"*30)"
   ]
  },
  {
   "cell_type": "code",
   "execution_count": 26,
   "id": "d2f4a4a9",
   "metadata": {},
   "outputs": [
    {
     "name": "stdout",
     "output_type": "stream",
     "text": [
      "ifadeler= ('sdasdasd', 'dasdasd')\n",
      "------------------------------\n",
      "ifadeler= ('sdasda', 'dasda')\n",
      "------------------------------\n"
     ]
    }
   ],
   "source": [
    "multistr(\"sdasdasd\",\"dasdasd\")\n",
    "multistr(\"sdasda\",\"dasda\")"
   ]
  },
  {
   "cell_type": "code",
   "execution_count": null,
   "id": "5276f965",
   "metadata": {},
   "outputs": [],
   "source": []
  }
 ],
 "metadata": {
  "kernelspec": {
   "display_name": "Python 3",
   "language": "python",
   "name": "python3"
  },
  "language_info": {
   "codemirror_mode": {
    "name": "ipython",
    "version": 3
   },
   "file_extension": ".py",
   "mimetype": "text/x-python",
   "name": "python",
   "nbconvert_exporter": "python",
   "pygments_lexer": "ipython3",
   "version": "3.8.8"
  }
 },
 "nbformat": 4,
 "nbformat_minor": 5
}
