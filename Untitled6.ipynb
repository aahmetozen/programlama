{
 "cells": [
  {
   "cell_type": "code",
   "execution_count": 1,
   "id": "7f58fba5",
   "metadata": {},
   "outputs": [],
   "source": [
    "import random"
   ]
  },
  {
   "cell_type": "code",
   "execution_count": 124,
   "id": "3ac175f2",
   "metadata": {},
   "outputs": [
    {
     "data": {
      "text/plain": [
       "0.41929786968115124"
      ]
     },
     "execution_count": 124,
     "metadata": {},
     "output_type": "execute_result"
    }
   ],
   "source": [
    "random.random()\n",
    "#rastgele sayılar oluşturur."
   ]
  },
  {
   "cell_type": "code",
   "execution_count": 137,
   "id": "38167baa",
   "metadata": {},
   "outputs": [
    {
     "data": {
      "text/plain": [
       "76"
      ]
     },
     "execution_count": 137,
     "metadata": {},
     "output_type": "execute_result"
    }
   ],
   "source": [
    "random.randint(1,100)"
   ]
  },
  {
   "cell_type": "code",
   "execution_count": 192,
   "id": "39bdb32b",
   "metadata": {},
   "outputs": [
    {
     "data": {
      "text/plain": [
       "820"
      ]
     },
     "execution_count": 192,
     "metadata": {},
     "output_type": "execute_result"
    }
   ],
   "source": [
    "random.randrange(10,1000,10)"
   ]
  },
  {
   "cell_type": "code",
   "execution_count": 193,
   "id": "488b08b0",
   "metadata": {},
   "outputs": [
    {
     "data": {
      "text/plain": [
       "3"
      ]
     },
     "execution_count": 193,
     "metadata": {},
     "output_type": "execute_result"
    }
   ],
   "source": [
    "random.choice([1,2,3,4,])"
   ]
  },
  {
   "cell_type": "code",
   "execution_count": 195,
   "id": "40239bf8",
   "metadata": {},
   "outputs": [
    {
     "data": {
      "text/plain": [
       "[10, 5, 25, 20, 40, 35]"
      ]
     },
     "execution_count": 195,
     "metadata": {},
     "output_type": "execute_result"
    }
   ],
   "source": [
    "numbers=[10,20,25,5,35,40]\n",
    "random.shuffle(numbers)\n",
    "numbers"
   ]
  },
  {
   "cell_type": "markdown",
   "id": "88b4139d",
   "metadata": {},
   "source": [
    "matematiksel işlemler"
   ]
  },
  {
   "cell_type": "code",
   "execution_count": 203,
   "id": "26a19121",
   "metadata": {},
   "outputs": [
    {
     "data": {
      "text/plain": [
       "32"
      ]
     },
     "execution_count": 203,
     "metadata": {},
     "output_type": "execute_result"
    }
   ],
   "source": [
    "a=11\n",
    "b=21\n",
    "c=11\n",
    "a+b"
   ]
  },
  {
   "cell_type": "code",
   "execution_count": 197,
   "id": "705ccdf6",
   "metadata": {},
   "outputs": [
    {
     "data": {
      "text/plain": [
       "-10"
      ]
     },
     "execution_count": 197,
     "metadata": {},
     "output_type": "execute_result"
    }
   ],
   "source": [
    "a-b"
   ]
  },
  {
   "cell_type": "code",
   "execution_count": 198,
   "id": "2ce25ade",
   "metadata": {},
   "outputs": [
    {
     "data": {
      "text/plain": [
       "231"
      ]
     },
     "execution_count": 198,
     "metadata": {},
     "output_type": "execute_result"
    }
   ],
   "source": [
    "a*b"
   ]
  },
  {
   "cell_type": "code",
   "execution_count": 199,
   "id": "15f1f98c",
   "metadata": {},
   "outputs": [
    {
     "data": {
      "text/plain": [
       "1"
      ]
     },
     "execution_count": 199,
     "metadata": {},
     "output_type": "execute_result"
    }
   ],
   "source": [
    "b//a"
   ]
  },
  {
   "cell_type": "markdown",
   "id": "f2565348",
   "metadata": {},
   "source": [
    "mantıksal işlemler"
   ]
  },
  {
   "cell_type": "code",
   "execution_count": 200,
   "id": "170b1af5",
   "metadata": {},
   "outputs": [
    {
     "data": {
      "text/plain": [
       "False"
      ]
     },
     "execution_count": 200,
     "metadata": {},
     "output_type": "execute_result"
    }
   ],
   "source": [
    "a == b"
   ]
  },
  {
   "cell_type": "code",
   "execution_count": 205,
   "id": "9ece9c7d",
   "metadata": {},
   "outputs": [
    {
     "data": {
      "text/plain": [
       "True"
      ]
     },
     "execution_count": 205,
     "metadata": {},
     "output_type": "execute_result"
    }
   ],
   "source": [
    "a==c"
   ]
  },
  {
   "cell_type": "code",
   "execution_count": 206,
   "id": "7ba15f46",
   "metadata": {},
   "outputs": [
    {
     "data": {
      "text/plain": [
       "True"
      ]
     },
     "execution_count": 206,
     "metadata": {},
     "output_type": "execute_result"
    }
   ],
   "source": [
    "a>=c"
   ]
  },
  {
   "cell_type": "code",
   "execution_count": 207,
   "id": "1668f4a7",
   "metadata": {},
   "outputs": [
    {
     "data": {
      "text/plain": [
       "False"
      ]
     },
     "execution_count": 207,
     "metadata": {},
     "output_type": "execute_result"
    }
   ],
   "source": [
    "a>c"
   ]
  },
  {
   "cell_type": "markdown",
   "id": "7a14bc41",
   "metadata": {},
   "source": [
    "atama işlemleri"
   ]
  },
  {
   "cell_type": "code",
   "execution_count": 215,
   "id": "44673a63",
   "metadata": {},
   "outputs": [],
   "source": [
    "a=13\n",
    "b=23\n",
    "c=9"
   ]
  },
  {
   "cell_type": "code",
   "execution_count": 216,
   "id": "a0f68d8f",
   "metadata": {},
   "outputs": [
    {
     "name": "stdout",
     "output_type": "stream",
     "text": [
      "22\n"
     ]
    }
   ],
   "source": [
    "c=c+a\n",
    "print(c)"
   ]
  },
  {
   "cell_type": "code",
   "execution_count": 217,
   "id": "12f6bb6f",
   "metadata": {},
   "outputs": [],
   "source": [
    "c= c-a\n",
    "c -= a\n"
   ]
  },
  {
   "cell_type": "markdown",
   "id": "18c537c8",
   "metadata": {},
   "source": [
    "mantıksal operatörler"
   ]
  },
  {
   "cell_type": "code",
   "execution_count": 218,
   "id": "bf436903",
   "metadata": {},
   "outputs": [
    {
     "ename": "SyntaxError",
     "evalue": "invalid syntax (<ipython-input-218-b8d9521ada80>, line 1)",
     "output_type": "error",
     "traceback": [
      "\u001b[1;36m  File \u001b[1;32m\"<ipython-input-218-b8d9521ada80>\"\u001b[1;36m, line \u001b[1;32m1\u001b[0m\n\u001b[1;33m    |,&,^\u001b[0m\n\u001b[1;37m    ^\u001b[0m\n\u001b[1;31mSyntaxError\u001b[0m\u001b[1;31m:\u001b[0m invalid syntax\n"
     ]
    }
   ],
   "source": [
    "|,&,^ "
   ]
  },
  {
   "cell_type": "code",
   "execution_count": 219,
   "id": "3d92520f",
   "metadata": {},
   "outputs": [],
   "source": [
    "x=4\n",
    "y=5"
   ]
  },
  {
   "cell_type": "code",
   "execution_count": 220,
   "id": "5b6f5bcb",
   "metadata": {
    "scrolled": true
   },
   "outputs": [
    {
     "name": "stdout",
     "output_type": "stream",
     "text": [
      "0b100\n",
      "0b101\n"
     ]
    }
   ],
   "source": [
    "print(bin(x))\n",
    "print(bin(y))"
   ]
  },
  {
   "cell_type": "markdown",
   "id": "64249be7",
   "metadata": {},
   "source": [
    "if = eğer"
   ]
  },
  {
   "cell_type": "code",
   "execution_count": 230,
   "id": "1a0e6972",
   "metadata": {},
   "outputs": [
    {
     "name": "stdout",
     "output_type": "stream",
     "text": [
      "k nın değeri 10 a eşittir\n"
     ]
    }
   ],
   "source": [
    "k =10 \n",
    "if k == 10:\n",
    "    print(\"k nın değeri 10 a eşittir\")"
   ]
  },
  {
   "cell_type": "code",
   "execution_count": 243,
   "id": "5e6ee10f",
   "metadata": {},
   "outputs": [
    {
     "name": "stdout",
     "output_type": "stream",
     "text": [
      "sayı bölünmüyor\n"
     ]
    }
   ],
   "source": [
    "k = 10\n",
    "if (k & 10) == 0:\n",
    "    print(\"k nın değeri 10 a eşittir\")\n",
    "elif (k & 7) == 0:  \n",
    "    print(\"k nın değeri 7\")\n",
    "else:\n",
    "        print(\"sayı bölünmüyor\")"
   ]
  },
  {
   "cell_type": "raw",
   "id": "04bc49a0",
   "metadata": {},
   "source": [
    "if = eğer\n",
    "elif---> else+if\n",
    "else= aksi halde , yoksa"
   ]
  },
  {
   "cell_type": "code",
   "execution_count": 246,
   "id": "443f5984",
   "metadata": {},
   "outputs": [
    {
     "name": "stdout",
     "output_type": "stream",
     "text": [
      "4 listede mevcuttur\n"
     ]
    }
   ],
   "source": [
    "list1=[1,2,3,4]\n",
    "if 4 in list1:\n",
    "    print(\"4 listede mevcuttur\")"
   ]
  },
  {
   "cell_type": "code",
   "execution_count": 4,
   "id": "d0b2cf4b",
   "metadata": {},
   "outputs": [
    {
     "name": "stdout",
     "output_type": "stream",
     "text": [
      "k ile b aynı bellek adresine işaret ediyor\n"
     ]
    }
   ],
   "source": [
    "k=100\n",
    "b=100\n",
    "if k is b :\n",
    "    print(\"k ile b aynı bellek adresine işaret ediyor\")\n",
    "else:\n",
    "    print(\"bellek adersleri farklı\")\n",
    "    print(object._repr_(k))\n",
    "    print(object._repr_(b))"
   ]
  },
  {
   "cell_type": "code",
   "execution_count": 257,
   "id": "71d9cd0b",
   "metadata": {},
   "outputs": [
    {
     "name": "stdout",
     "output_type": "stream",
     "text": [
      "12 + 2\n"
     ]
    }
   ],
   "source": [
    "#kullanıcaıdan alınan 4 işlemi yapbilecek kod dizisini\n",
    "#en fazla iki sayı ve bir matematik işlemi içerir ve ifadeler arası boşluk vardır. örn: 1 + 2  \n",
    "değer= input()"
   ]
  },
  {
   "cell_type": "code",
   "execution_count": 10,
   "id": "ec5666ce",
   "metadata": {},
   "outputs": [
    {
     "name": "stdout",
     "output_type": "stream",
     "text": [
      "4 + 5\n",
      "['4', '+', '5']\n",
      "9\n"
     ]
    }
   ],
   "source": [
    "# ödev cevabı\n",
    "ifade = input()\n",
    "parça = ifade.split()\n",
    "print(parça)\n",
    "sayı1 = int(parça[0])\n",
    "mat0p = parça[1]\n",
    "sayı2 = int(parça[2])\n",
    "if mat0p == '+':\n",
    "    print(sayı1 + sayı2)\n",
    "elif mat0p == '-':\n",
    "    print(sayı1 - sayı2)\n",
    "elif mat0p == '*':\n",
    "    print(sayı1 * sayı2)\n",
    "elif mat0p == '/':\n",
    "    print(sayı1 / sayı2)\n",
    "else:\n",
    "    print(mat0p, \"operatörü için işlem yapılmaktadır.\")\n",
    "    \n",
    "    \n"
   ]
  },
  {
   "cell_type": "code",
   "execution_count": 9,
   "id": "74a209d7",
   "metadata": {},
   "outputs": [
    {
     "name": "stdout",
     "output_type": "stream",
     "text": [
      "0\n",
      "1\n",
      "2\n",
      "3\n",
      "4\n"
     ]
    }
   ],
   "source": [
    "for x in range(5):\n",
    "    print(x)"
   ]
  },
  {
   "cell_type": "code",
   "execution_count": 10,
   "id": "06f82a56",
   "metadata": {},
   "outputs": [
    {
     "name": "stdout",
     "output_type": "stream",
     "text": [
      "elma.\n",
      "armut.\n",
      "portakal.\n"
     ]
    }
   ],
   "source": [
    "meyveler = ['elma','armut','portakal']\n",
    "for meyve in meyveler:\n",
    "    print(meyve + \".\")"
   ]
  },
  {
   "cell_type": "code",
   "execution_count": 13,
   "id": "b9cad298",
   "metadata": {},
   "outputs": [],
   "source": [
    "chars =['a','b','c','d','k']\n",
    "key = 'k'\n",
    "for ch in chars:\n",
    "    if ch == key:\n",
    "        break\n",
    "else:\n",
    "    print('no object found')"
   ]
  },
  {
   "cell_type": "code",
   "execution_count": 16,
   "id": "30f1c2e3",
   "metadata": {},
   "outputs": [
    {
     "name": "stdout",
     "output_type": "stream",
     "text": [
      "no object found\n"
     ]
    }
   ],
   "source": [
    "chars =['a','b','c','d',]\n",
    "key = 'k'\n",
    "for ch in chars:\n",
    "    if ch == key:\n",
    "        break\n",
    "else:\n",
    "    print('no object found')"
   ]
  },
  {
   "cell_type": "code",
   "execution_count": 17,
   "id": "19a977c6",
   "metadata": {},
   "outputs": [],
   "source": [
    "#ÖDEV\n",
    "#100 e kadar olan sayıları bir liste içerisinde terminale yazdırınız."
   ]
  },
  {
   "cell_type": "code",
   "execution_count": 14,
   "id": "89e5d446",
   "metadata": {},
   "outputs": [],
   "source": [
    "#if for pratiği yap."
   ]
  },
  {
   "cell_type": "code",
   "execution_count": null,
   "id": "86412bbc",
   "metadata": {},
   "outputs": [],
   "source": [
    "#ÖDEV\n",
    "#kullanıcıdan kaç adet fibonacci sayılarını üretebilceği bilgisini aldıktan sonra"
   ]
  }
 ],
 "metadata": {
  "kernelspec": {
   "display_name": "Python 3",
   "language": "python",
   "name": "python3"
  },
  "language_info": {
   "codemirror_mode": {
    "name": "ipython",
    "version": 3
   },
   "file_extension": ".py",
   "mimetype": "text/x-python",
   "name": "python",
   "nbconvert_exporter": "python",
   "pygments_lexer": "ipython3",
   "version": "3.8.8"
  }
 },
 "nbformat": 4,
 "nbformat_minor": 5
}
