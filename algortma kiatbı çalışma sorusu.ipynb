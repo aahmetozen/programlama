{
 "cells": [
  {
   "cell_type": "code",
   "execution_count": null,
   "id": "c2aa20ab",
   "metadata": {},
   "outputs": [
    {
     "name": "stdout",
     "output_type": "stream",
     "text": [
      "vize ve final notunuz giriniz: \n",
      "vize notunuz=45\n",
      "final notunuz=55\n",
      "sıra numarası ve ortalamanız:1    49.0\n",
      "vize ve final notunuz giriniz: \n"
     ]
    }
   ],
   "source": [
    "sn=0\n",
    "i=0\n",
    "for i in range(1,31):\n",
    "    if(i<31):\n",
    "        print(\"vize ve final notunuz giriniz: \")\n",
    "        vize=int(input(\"vize notunuz=\"))\n",
    "        final=int(input(\"final notunuz=\"))\n",
    "        sn= vize*0.6+final*0.4\n",
    "        print(\"sıra numarası ve ortalamanız:{0}    {1}\".format(i,sn))\n",
    "      \n",
    "        \n",
    "        \n"
   ]
  },
  {
   "cell_type": "code",
   "execution_count": null,
   "id": "85199197",
   "metadata": {},
   "outputs": [],
   "source": []
  },
  {
   "cell_type": "code",
   "execution_count": null,
   "id": "3c5866e3",
   "metadata": {},
   "outputs": [],
   "source": []
  }
 ],
 "metadata": {
  "kernelspec": {
   "display_name": "Python 3",
   "language": "python",
   "name": "python3"
  },
  "language_info": {
   "codemirror_mode": {
    "name": "ipython",
    "version": 3
   },
   "file_extension": ".py",
   "mimetype": "text/x-python",
   "name": "python",
   "nbconvert_exporter": "python",
   "pygments_lexer": "ipython3",
   "version": "3.8.8"
  }
 },
 "nbformat": 4,
 "nbformat_minor": 5
}
