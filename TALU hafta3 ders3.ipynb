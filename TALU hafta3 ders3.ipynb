{
 "cells": [
  {
   "cell_type": "code",
   "execution_count": 1,
   "id": "8bbf36b0",
   "metadata": {},
   "outputs": [],
   "source": [
    "#liste kullanmdan girilen 5 sayının ortalamasını bulan program"
   ]
  },
  {
   "cell_type": "code",
   "execution_count": 1,
   "id": "8c71fe91",
   "metadata": {},
   "outputs": [
    {
     "name": "stdout",
     "output_type": "stream",
     "text": [
      "sayı:31\n",
      "sayı:29\n",
      "sayı:25\n",
      "sayı:15\n",
      "sayı:10\n",
      "22.0\n"
     ]
    }
   ],
   "source": [
    "b=0\n",
    "for x in range(5):\n",
    "    a=int(input(\"sayı:\"))\n",
    "    b= b+a\n",
    "print(b/5)    "
   ]
  },
  {
   "cell_type": "code",
   "execution_count": 7,
   "id": "1ff80fc9",
   "metadata": {},
   "outputs": [
    {
     "name": "stdout",
     "output_type": "stream",
     "text": [
      "sayı:5\n",
      "sayı:6\n",
      "sayı:15\n",
      "sayı:23\n",
      "sayı:7\n",
      "maximum= 23       minimum= 0\n"
     ]
    }
   ],
   "source": [
    "min=0\n",
    "max=0\n",
    "for x in range(5):\n",
    "    a=int(input(\"sayı:\"))\n",
    "    if a<min:\n",
    "        min=a\n",
    "    if a>max:\n",
    "        max=a\n",
    "print(\"maximum=\",max,\"      minimum=\",min,)        "
   ]
  },
  {
   "cell_type": "code",
   "execution_count": 11,
   "id": "ac11f077",
   "metadata": {},
   "outputs": [
    {
     "name": "stdout",
     "output_type": "stream",
     "text": [
      "sayı:-5\n",
      "sayı:-7\n",
      "sayı:-9\n",
      "sayı:-10\n",
      "sayı:-47\n",
      "maximum= -5       minimum= -47\n"
     ]
    }
   ],
   "source": [
    "a=int(input(\"sayı:\"))\n",
    "min=a\n",
    "max=a\n",
    "for x in range(4):\n",
    "    a=int(input(\"sayı:\"))\n",
    "    if a<min:\n",
    "        min=a\n",
    "    if a>max:\n",
    "        max=a\n",
    "print(\"maximum=\",max,\"      minimum=\",min,)   "
   ]
  },
  {
   "cell_type": "code",
   "execution_count": 13,
   "id": "86dbc409",
   "metadata": {},
   "outputs": [
    {
     "name": "stdout",
     "output_type": "stream",
     "text": [
      "bir sayı griniz=5\n",
      "1\n",
      "3\n",
      "5\n"
     ]
    }
   ],
   "source": [
    "n=int(input(\"bir sayı griniz=\"))\n",
    "for x in range(1,n+1):\n",
    "    if x%2 ==1:\n",
    "        print(x)"
   ]
  },
  {
   "cell_type": "code",
   "execution_count": 14,
   "id": "336c2b53",
   "metadata": {},
   "outputs": [],
   "source": [
    "#break (döngüden çıakrır)"
   ]
  },
  {
   "cell_type": "code",
   "execution_count": 18,
   "id": "3bd7eb3a",
   "metadata": {},
   "outputs": [
    {
     "name": "stdout",
     "output_type": "stream",
     "text": [
      "p\n",
      "y\n",
      "t\n",
      "program bitti\n"
     ]
    }
   ],
   "source": [
    "for harf in \"python\":\n",
    "    if harf == \"h\":\n",
    "        break\n",
    "    print(harf)\n",
    "print(\"program bitti\")    "
   ]
  },
  {
   "cell_type": "code",
   "execution_count": 19,
   "id": "672de5fb",
   "metadata": {},
   "outputs": [],
   "source": [
    "#continue (kalan kısmı çalıştırmayıp sonraki iterasyona gider)"
   ]
  },
  {
   "cell_type": "code",
   "execution_count": 20,
   "id": "1f5f06a8",
   "metadata": {},
   "outputs": [
    {
     "name": "stdout",
     "output_type": "stream",
     "text": [
      "p\n",
      "y\n",
      "t\n",
      "o\n",
      "n\n",
      "program bitti\n"
     ]
    }
   ],
   "source": [
    "for harf in \"python\":\n",
    "    if harf == \"h\":\n",
    "        continue\n",
    "    print(harf)\n",
    "print(\"program bitti\") "
   ]
  },
  {
   "cell_type": "code",
   "execution_count": null,
   "id": "fdf99c2f",
   "metadata": {},
   "outputs": [],
   "source": []
  }
 ],
 "metadata": {
  "kernelspec": {
   "display_name": "Python 3",
   "language": "python",
   "name": "python3"
  },
  "language_info": {
   "codemirror_mode": {
    "name": "ipython",
    "version": 3
   },
   "file_extension": ".py",
   "mimetype": "text/x-python",
   "name": "python",
   "nbconvert_exporter": "python",
   "pygments_lexer": "ipython3",
   "version": "3.8.8"
  }
 },
 "nbformat": 4,
 "nbformat_minor": 5
}
