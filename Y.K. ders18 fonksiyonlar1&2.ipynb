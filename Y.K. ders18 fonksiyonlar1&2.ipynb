{
 "cells": [
  {
   "cell_type": "markdown",
   "id": "8e9373f3",
   "metadata": {},
   "source": [
    "# Fonkisyonların Yapısı"
   ]
  },
  {
   "cell_type": "raw",
   "id": "959d6634",
   "metadata": {},
   "source": [
    "def:define (tanıtmak)\n",
    "def<fonksiyon_ismi>(<argümanlar>): # snake_case\n",
    "    \"\"\"\n",
    "    bu kod ne işe yarar            #docstring\n",
    "    \"\"\"\n",
    "    ...                            #return/print\n",
    "    "
   ]
  },
  {
   "cell_type": "code",
   "execution_count": 1,
   "id": "fa29d1de",
   "metadata": {},
   "outputs": [],
   "source": [
    "def bes_bastır():\n",
    "    \"\"\" buraya ne yazarsam yazayım # gibi bu kısmı okumaz\n",
    "        sadece kendinize ve kodunuzu okuyana mesaj bırakırsınız\n",
    "    \"\"\"\n",
    "    print(5)"
   ]
  },
  {
   "cell_type": "code",
   "execution_count": 2,
   "id": "db4f693a",
   "metadata": {},
   "outputs": [
    {
     "name": "stdout",
     "output_type": "stream",
     "text": [
      "5\n"
     ]
    }
   ],
   "source": [
    "bes_bastır()"
   ]
  },
  {
   "cell_type": "markdown",
   "id": "edb6e7a9",
   "metadata": {},
   "source": [
    "# fonksiyonlarda return ve print farkı"
   ]
  },
  {
   "cell_type": "code",
   "execution_count": 3,
   "id": "c37ee6b7",
   "metadata": {},
   "outputs": [],
   "source": [
    "def bes_dondur():\n",
    "    return 5"
   ]
  },
  {
   "cell_type": "code",
   "execution_count": 5,
   "id": "b40dbbec",
   "metadata": {},
   "outputs": [
    {
     "data": {
      "text/plain": [
       "5"
      ]
     },
     "execution_count": 5,
     "metadata": {},
     "output_type": "execute_result"
    }
   ],
   "source": [
    "bes_dondur()"
   ]
  },
  {
   "cell_type": "code",
   "execution_count": 7,
   "id": "f50b8652",
   "metadata": {},
   "outputs": [
    {
     "name": "stdout",
     "output_type": "stream",
     "text": [
      "5\n",
      "None\n"
     ]
    }
   ],
   "source": [
    "a = bes_bastır()\n",
    "print(a)"
   ]
  },
  {
   "cell_type": "code",
   "execution_count": 8,
   "id": "944e0739",
   "metadata": {},
   "outputs": [
    {
     "name": "stdout",
     "output_type": "stream",
     "text": [
      "5\n"
     ]
    }
   ],
   "source": [
    "b=bes_dondur()\n",
    "print(b)"
   ]
  },
  {
   "cell_type": "markdown",
   "id": "80ffdc6e",
   "metadata": {},
   "source": [
    "#fonksiyonlarda argümanlar "
   ]
  },
  {
   "cell_type": "code",
   "execution_count": 1,
   "id": "39426338",
   "metadata": {},
   "outputs": [],
   "source": [
    "def sayı_dondur(sayı):\n",
    "    return sayı"
   ]
  },
  {
   "cell_type": "code",
   "execution_count": 11,
   "id": "db083cdb",
   "metadata": {},
   "outputs": [
    {
     "data": {
      "text/plain": [
       "100"
      ]
     },
     "execution_count": 11,
     "metadata": {},
     "output_type": "execute_result"
    }
   ],
   "source": [
    "sayı_dondur(100)"
   ]
  },
  {
   "cell_type": "code",
   "execution_count": 12,
   "id": "62c1ee35",
   "metadata": {},
   "outputs": [
    {
     "data": {
      "text/plain": [
       "'ldfıdsljf'"
      ]
     },
     "execution_count": 12,
     "metadata": {},
     "output_type": "execute_result"
    }
   ],
   "source": [
    "sayı_dondur(\"ldfıdsljf\")"
   ]
  },
  {
   "cell_type": "code",
   "execution_count": 13,
   "id": "ffa71e9a",
   "metadata": {},
   "outputs": [],
   "source": [
    "#fonkisyonlarda default argümanlarda vardır\n",
    "\n",
    "def sayı_dondur(sayı=250):\n",
    "    return sayı\n"
   ]
  },
  {
   "cell_type": "code",
   "execution_count": 14,
   "id": "6b75639a",
   "metadata": {},
   "outputs": [
    {
     "data": {
      "text/plain": [
       "89"
      ]
     },
     "execution_count": 14,
     "metadata": {},
     "output_type": "execute_result"
    }
   ],
   "source": [
    "sayı_dondur(89)"
   ]
  },
  {
   "cell_type": "code",
   "execution_count": 15,
   "id": "353dd88f",
   "metadata": {},
   "outputs": [
    {
     "data": {
      "text/plain": [
       "250"
      ]
     },
     "execution_count": 15,
     "metadata": {},
     "output_type": "execute_result"
    }
   ],
   "source": [
    "sayı_dondur()"
   ]
  },
  {
   "cell_type": "code",
   "execution_count": 5,
   "id": "2df2c6e9",
   "metadata": {},
   "outputs": [],
   "source": [
    "def buyuk_sayı_dondur(a,b):\n",
    "    if a>b:\n",
    "        return a\n",
    "    elif b>a:\n",
    "        return b"
   ]
  },
  {
   "cell_type": "markdown",
   "id": "7b1cddad",
   "metadata": {},
   "source": [
    "# fonksiyonların birbiri ile ilişkisi"
   ]
  },
  {
   "cell_type": "code",
   "execution_count": 6,
   "id": "3312cb7f",
   "metadata": {},
   "outputs": [],
   "source": [
    "def metin_yazdır(a,b):\n",
    "    buyuk_sayı=buyuk_sayı_dondur(a,b)\n",
    "    sablon_metin=\"{} daha büyük sayıdır\".format(buyuk_sayı)\n",
    "    print(sablon_metin)"
   ]
  },
  {
   "cell_type": "code",
   "execution_count": 7,
   "id": "e9b9685b",
   "metadata": {},
   "outputs": [
    {
     "name": "stdout",
     "output_type": "stream",
     "text": [
      "10 daha büyük sayıdır\n"
     ]
    }
   ],
   "source": [
    "metin_yazdır(5,10)"
   ]
  },
  {
   "cell_type": "markdown",
   "id": "8344d228",
   "metadata": {},
   "source": [
    "# fonksiyonlar birden fazla sonuç döndürebilir"
   ]
  },
  {
   "cell_type": "code",
   "execution_count": 8,
   "id": "f26730c5",
   "metadata": {},
   "outputs": [
    {
     "data": {
      "text/plain": [
       "['ahmet', 'özen']"
      ]
     },
     "execution_count": 8,
     "metadata": {},
     "output_type": "execute_result"
    }
   ],
   "source": [
    "\"ahmet özen\".split()"
   ]
  },
  {
   "cell_type": "code",
   "execution_count": 11,
   "id": "f6b9cdb4",
   "metadata": {},
   "outputs": [],
   "source": [
    "def ısım_soyısım_ayırma(isim_soyisim):\n",
    "    isim=isim_soyisim.split()[0]\n",
    "    soyisim=isim_soyisim.split()[1]\n",
    "    return isim,soyisim\n",
    "    "
   ]
  },
  {
   "cell_type": "code",
   "execution_count": 12,
   "id": "5113be5e",
   "metadata": {},
   "outputs": [
    {
     "data": {
      "text/plain": [
       "('ahmet', 'özen')"
      ]
     },
     "execution_count": 12,
     "metadata": {},
     "output_type": "execute_result"
    }
   ],
   "source": [
    "ısım_soyısım_ayırma(\"ahmet özen\")"
   ]
  },
  {
   "cell_type": "markdown",
   "id": "132894bd",
   "metadata": {},
   "source": [
    "# *args Argümanı"
   ]
  },
  {
   "cell_type": "code",
   "execution_count": 14,
   "id": "ae81a475",
   "metadata": {},
   "outputs": [
    {
     "data": {
      "text/plain": [
       "'ahmet-özen'"
      ]
     },
     "execution_count": 14,
     "metadata": {},
     "output_type": "execute_result"
    }
   ],
   "source": [
    "\"-\".join([\"ahmet\",\"özen\"])"
   ]
  },
  {
   "cell_type": "code",
   "execution_count": 15,
   "id": "299e69b0",
   "metadata": {},
   "outputs": [],
   "source": [
    "def isim_soyisim_birleştir(isim,soyisim):\n",
    "    return \" \".join([isim, soyisim])"
   ]
  },
  {
   "cell_type": "code",
   "execution_count": 16,
   "id": "b969ac14",
   "metadata": {},
   "outputs": [
    {
     "data": {
      "text/plain": [
       "'ahmet özen'"
      ]
     },
     "execution_count": 16,
     "metadata": {},
     "output_type": "execute_result"
    }
   ],
   "source": [
    "isim_soyisim_birleştir(\"ahmet\",\"özen\")"
   ]
  },
  {
   "cell_type": "code",
   "execution_count": 17,
   "id": "0ad552c1",
   "metadata": {},
   "outputs": [
    {
     "ename": "TypeError",
     "evalue": "isim_soyisim_birleştir() takes 2 positional arguments but 3 were given",
     "output_type": "error",
     "traceback": [
      "\u001b[1;31m---------------------------------------------------------------------------\u001b[0m",
      "\u001b[1;31mTypeError\u001b[0m                                 Traceback (most recent call last)",
      "\u001b[1;32m<ipython-input-17-81d83ab5da4c>\u001b[0m in \u001b[0;36m<module>\u001b[1;34m\u001b[0m\n\u001b[1;32m----> 1\u001b[1;33m \u001b[0misim_soyisim_birleştir\u001b[0m\u001b[1;33m(\u001b[0m\u001b[1;34m\"baloncu\"\u001b[0m\u001b[1;33m,\u001b[0m\u001b[1;34m\"faruk\"\u001b[0m\u001b[1;33m,\u001b[0m\u001b[1;34m\"abi\"\u001b[0m\u001b[1;33m)\u001b[0m\u001b[1;33m\u001b[0m\u001b[1;33m\u001b[0m\u001b[0m\n\u001b[0m",
      "\u001b[1;31mTypeError\u001b[0m: isim_soyisim_birleştir() takes 2 positional arguments but 3 were given"
     ]
    }
   ],
   "source": [
    "isim_soyisim_birleştir(\"baloncu\",\"faruk\",\"abi\")"
   ]
  },
  {
   "cell_type": "code",
   "execution_count": 20,
   "id": "9a907139",
   "metadata": {},
   "outputs": [],
   "source": [
    "def isim_soyisim_birleştir(*args):\n",
    "    return \" \".join(args)"
   ]
  },
  {
   "cell_type": "code",
   "execution_count": 21,
   "id": "2b8b786b",
   "metadata": {},
   "outputs": [
    {
     "data": {
      "text/plain": [
       "'baloncu faruk abi'"
      ]
     },
     "execution_count": 21,
     "metadata": {},
     "output_type": "execute_result"
    }
   ],
   "source": [
    "isim_soyisim_birleştir(\"baloncu\",\"faruk\",\"abi\")"
   ]
  },
  {
   "cell_type": "code",
   "execution_count": 24,
   "id": "c24e5bdb",
   "metadata": {},
   "outputs": [],
   "source": [
    "def gobek_adi_yazdır(**kwargs):\n",
    "    if 'gobekadi' in kwargs:\n",
    "        print(kwargs['gobekadi'])\n",
    "    else:\n",
    "        print(\"gobekadi yok\")"
   ]
  },
  {
   "cell_type": "code",
   "execution_count": 25,
   "id": "1f29c1a8",
   "metadata": {},
   "outputs": [
    {
     "name": "stdout",
     "output_type": "stream",
     "text": [
      "baloncu\n"
     ]
    }
   ],
   "source": [
    "gobek_adi_yazdır(adi=\"faruk\", gobekadi=\"baloncu\", soyadi=\"abi\")"
   ]
  },
  {
   "cell_type": "code",
   "execution_count": null,
   "id": "893c0d41",
   "metadata": {},
   "outputs": [],
   "source": []
  }
 ],
 "metadata": {
  "kernelspec": {
   "display_name": "Python 3",
   "language": "python",
   "name": "python3"
  },
  "language_info": {
   "codemirror_mode": {
    "name": "ipython",
    "version": 3
   },
   "file_extension": ".py",
   "mimetype": "text/x-python",
   "name": "python",
   "nbconvert_exporter": "python",
   "pygments_lexer": "ipython3",
   "version": "3.8.8"
  }
 },
 "nbformat": 4,
 "nbformat_minor": 5
}
