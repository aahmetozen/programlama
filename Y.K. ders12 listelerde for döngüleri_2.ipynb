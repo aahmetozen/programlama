{
 "cells": [
  {
   "cell_type": "raw",
   "id": "048b36eb",
   "metadata": {},
   "source": [
    "yakın kampüs listelerde for döngüleri part2"
   ]
  },
  {
   "cell_type": "code",
   "execution_count": 26,
   "id": "2cf93585",
   "metadata": {},
   "outputs": [],
   "source": [
    "yorum_birakanlar = [\"ismail aydemir\",\"uygar aydın\",\"naz yağcıoğlu\",\"ferhat ibrik\",\"ulas acil\",\"bilal kuruçay\"]"
   ]
  },
  {
   "cell_type": "code",
   "execution_count": 13,
   "id": "6ed8f64c",
   "metadata": {},
   "outputs": [
    {
     "name": "stdout",
     "output_type": "stream",
     "text": [
      "1 ismail aydemir\n",
      "2 uygar aydın\n",
      "3 naz yağcıoğlu\n",
      "4 ferhat ibrik\n",
      "5 ulas acil\n",
      "6 bilal kuruçay\n"
     ]
    }
   ],
   "source": [
    "kullanici_sayisi=0\n",
    "\n",
    "for kullanici in yorum_birakanlar:\n",
    "    kullanici_sayisi= kullanici_sayisi + 1\n",
    "    print(kullanici_sayisi, kullanici)"
   ]
  },
  {
   "cell_type": "code",
   "execution_count": 23,
   "id": "fae85eb8",
   "metadata": {},
   "outputs": [
    {
     "data": {
      "text/plain": [
       "['ismail', 'aydemir']"
      ]
     },
     "execution_count": 23,
     "metadata": {},
     "output_type": "execute_result"
    }
   ],
   "source": [
    "yorum_birakanlar[0].split()"
   ]
  },
  {
   "cell_type": "code",
   "execution_count": 24,
   "id": "90d659a1",
   "metadata": {},
   "outputs": [
    {
     "name": "stdout",
     "output_type": "stream",
     "text": [
      "ismail\n",
      "aydemir\n"
     ]
    }
   ],
   "source": [
    "ad, soyad = yorum_birakanlar[0].split()[0], yorum_birakanlar[0].split()[1]\n",
    "print(ad)\n",
    "print(soyad)"
   ]
  },
  {
   "cell_type": "code",
   "execution_count": 28,
   "id": "1889b0d0",
   "metadata": {},
   "outputs": [
    {
     "name": "stdout",
     "output_type": "stream",
     "text": [
      "1. kullanıcı adı ismail ve soyadı aydemir\n",
      "2. kullanıcı adı uygar ve soyadı aydın\n",
      "3. kullanıcı adı naz ve soyadı yağcıoğlu\n",
      "4. kullanıcı adı ferhat ve soyadı ibrik\n",
      "5. kullanıcı adı ulas ve soyadı acil\n",
      "6. kullanıcı adı bilal ve soyadı kuruçay\n"
     ]
    }
   ],
   "source": [
    "kullanici_sayisi=0\n",
    "\n",
    "for kullanici in yorum_birakanlar:\n",
    "    kullanici_sayisi= kullanici_sayisi + 1\n",
    "    ad, soyad = kullanici.split()[0], kullanici.split()[1]\n",
    "    print('{0}. kullanıcı adı {1} ve soyadı {2}'.format(kullanici_sayisi, ad, soyad))"
   ]
  },
  {
   "cell_type": "code",
   "execution_count": 30,
   "id": "c5affbc7",
   "metadata": {},
   "outputs": [
    {
     "name": "stdout",
     "output_type": "stream",
     "text": [
      "1. kullanıcı adı ismail ve soyadı aydemir\n",
      "2. kullanıcı adı uygar ve soyadı aydın\n",
      "3. kullanıcı adı naz ve soyadı yağcıoğlu\n",
      "1. moderatörün adı ferhat ve soyadı ibrik\n",
      "4. kullanıcı adı ulas ve soyadı acil\n",
      "5. kullanıcı adı bilal ve soyadı kuruçay\n"
     ]
    }
   ],
   "source": [
    "moderator = \"ferhat ibrik\"\n",
    "\n",
    "kullanici_sayisi=0\n",
    "moderator_sayisi=0\n",
    "\n",
    "for kullanici in yorum_birakanlar:\n",
    "    ad, soyad = kullanici.split()[0], kullanici.split()[1]\n",
    "    if (kullanici == moderator):\n",
    "        moderator_sayisi += 1 # moderatör_sayisi = moderatör_sayisi + 1 ile aynı şey\n",
    "        print('{0}. moderatörün adı {1} ve soyadı {2}'.format(moderator_sayisi, ad, soyad))\n",
    "    else:\n",
    "        kullanici_sayisi += 1\n",
    "        print('{0}. kullanıcı adı {1} ve soyadı {2}'.format(kullanici_sayisi, ad, soyad))"
   ]
  },
  {
   "cell_type": "code",
   "execution_count": null,
   "id": "3d13b82b",
   "metadata": {},
   "outputs": [],
   "source": []
  }
 ],
 "metadata": {
  "kernelspec": {
   "display_name": "Python 3",
   "language": "python",
   "name": "python3"
  },
  "language_info": {
   "codemirror_mode": {
    "name": "ipython",
    "version": 3
   },
   "file_extension": ".py",
   "mimetype": "text/x-python",
   "name": "python",
   "nbconvert_exporter": "python",
   "pygments_lexer": "ipython3",
   "version": "3.8.8"
  }
 },
 "nbformat": 4,
 "nbformat_minor": 5
}
