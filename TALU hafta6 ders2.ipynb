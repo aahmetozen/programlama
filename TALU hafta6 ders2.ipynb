{
 "cells": [
  {
   "cell_type": "code",
   "execution_count": null,
   "id": "f36577db",
   "metadata": {},
   "outputs": [],
   "source": [
    "# n'e kadar ki hardshard(sayının kendisi rakamları toplamına bölünüyor) olanları listeleyen program"
   ]
  },
  {
   "cell_type": "code",
   "execution_count": 6,
   "id": "63d45740",
   "metadata": {},
   "outputs": [
    {
     "name": "stdout",
     "output_type": "stream",
     "text": [
      "n=45\n",
      "i= 1   basamaklartoplamı= 1\n",
      "hardshard\n",
      "i= 2   basamaklartoplamı= 2\n",
      "hardshard\n",
      "i= 3   basamaklartoplamı= 3\n",
      "hardshard\n",
      "i= 4   basamaklartoplamı= 4\n",
      "hardshard\n",
      "i= 5   basamaklartoplamı= 5\n",
      "hardshard\n",
      "i= 6   basamaklartoplamı= 6\n",
      "hardshard\n",
      "i= 7   basamaklartoplamı= 7\n",
      "hardshard\n",
      "i= 8   basamaklartoplamı= 8\n",
      "hardshard\n",
      "i= 9   basamaklartoplamı= 9\n",
      "hardshard\n",
      "i= 10   basamaklartoplamı= 0\n",
      "hardshard değil\n",
      "i= 10   basamaklartoplamı= 1\n",
      "hardshard değil\n",
      "i= 11   basamaklartoplamı= 1\n",
      "hardshard değil\n",
      "i= 11   basamaklartoplamı= 2\n",
      "hardshard değil\n",
      "i= 12   basamaklartoplamı= 2\n",
      "hardshard değil\n",
      "i= 12   basamaklartoplamı= 3\n",
      "hardshard değil\n",
      "i= 13   basamaklartoplamı= 3\n",
      "hardshard değil\n",
      "i= 13   basamaklartoplamı= 4\n",
      "hardshard değil\n",
      "i= 14   basamaklartoplamı= 4\n",
      "hardshard değil\n",
      "i= 14   basamaklartoplamı= 5\n",
      "hardshard değil\n",
      "i= 15   basamaklartoplamı= 5\n",
      "hardshard değil\n",
      "i= 15   basamaklartoplamı= 6\n",
      "hardshard değil\n",
      "i= 16   basamaklartoplamı= 6\n",
      "hardshard değil\n",
      "i= 16   basamaklartoplamı= 7\n",
      "hardshard değil\n",
      "i= 17   basamaklartoplamı= 7\n",
      "hardshard değil\n",
      "i= 17   basamaklartoplamı= 8\n",
      "hardshard değil\n",
      "i= 18   basamaklartoplamı= 8\n",
      "hardshard değil\n",
      "i= 18   basamaklartoplamı= 9\n",
      "hardshard değil\n",
      "i= 19   basamaklartoplamı= 9\n",
      "hardshard değil\n",
      "i= 19   basamaklartoplamı= 10\n",
      "hardshard değil\n",
      "i= 20   basamaklartoplamı= 0\n",
      "hardshard değil\n",
      "i= 20   basamaklartoplamı= 2\n",
      "hardshard değil\n",
      "i= 21   basamaklartoplamı= 1\n",
      "hardshard değil\n",
      "i= 21   basamaklartoplamı= 3\n",
      "hardshard değil\n",
      "i= 22   basamaklartoplamı= 2\n",
      "hardshard değil\n",
      "i= 22   basamaklartoplamı= 4\n",
      "hardshard değil\n",
      "i= 23   basamaklartoplamı= 3\n",
      "hardshard değil\n",
      "i= 23   basamaklartoplamı= 5\n",
      "hardshard değil\n",
      "i= 24   basamaklartoplamı= 4\n",
      "hardshard değil\n",
      "i= 24   basamaklartoplamı= 6\n",
      "hardshard değil\n",
      "i= 25   basamaklartoplamı= 5\n",
      "hardshard değil\n",
      "i= 25   basamaklartoplamı= 7\n",
      "hardshard değil\n",
      "i= 26   basamaklartoplamı= 6\n",
      "hardshard değil\n",
      "i= 26   basamaklartoplamı= 8\n",
      "hardshard değil\n",
      "i= 27   basamaklartoplamı= 7\n",
      "hardshard değil\n",
      "i= 27   basamaklartoplamı= 9\n",
      "hardshard değil\n",
      "i= 28   basamaklartoplamı= 8\n",
      "hardshard değil\n",
      "i= 28   basamaklartoplamı= 10\n",
      "hardshard değil\n",
      "i= 29   basamaklartoplamı= 9\n",
      "hardshard değil\n",
      "i= 29   basamaklartoplamı= 11\n",
      "hardshard değil\n",
      "i= 30   basamaklartoplamı= 0\n",
      "hardshard değil\n",
      "i= 30   basamaklartoplamı= 3\n",
      "hardshard değil\n",
      "i= 31   basamaklartoplamı= 1\n",
      "hardshard değil\n",
      "i= 31   basamaklartoplamı= 4\n",
      "hardshard değil\n",
      "i= 32   basamaklartoplamı= 2\n",
      "hardshard değil\n",
      "i= 32   basamaklartoplamı= 5\n",
      "hardshard değil\n",
      "i= 33   basamaklartoplamı= 3\n",
      "hardshard değil\n",
      "i= 33   basamaklartoplamı= 6\n",
      "hardshard değil\n",
      "i= 34   basamaklartoplamı= 4\n",
      "hardshard değil\n",
      "i= 34   basamaklartoplamı= 7\n",
      "hardshard değil\n",
      "i= 35   basamaklartoplamı= 5\n",
      "hardshard değil\n",
      "i= 35   basamaklartoplamı= 8\n",
      "hardshard değil\n",
      "i= 36   basamaklartoplamı= 6\n",
      "hardshard değil\n",
      "i= 36   basamaklartoplamı= 9\n",
      "hardshard değil\n",
      "i= 37   basamaklartoplamı= 7\n",
      "hardshard değil\n",
      "i= 37   basamaklartoplamı= 10\n",
      "hardshard değil\n",
      "i= 38   basamaklartoplamı= 8\n",
      "hardshard değil\n",
      "i= 38   basamaklartoplamı= 11\n",
      "hardshard değil\n",
      "i= 39   basamaklartoplamı= 9\n",
      "hardshard değil\n",
      "i= 39   basamaklartoplamı= 12\n",
      "hardshard değil\n",
      "i= 40   basamaklartoplamı= 0\n",
      "hardshard değil\n",
      "i= 40   basamaklartoplamı= 4\n",
      "hardshard değil\n",
      "i= 41   basamaklartoplamı= 1\n",
      "hardshard değil\n",
      "i= 41   basamaklartoplamı= 5\n",
      "hardshard değil\n",
      "i= 42   basamaklartoplamı= 2\n",
      "hardshard değil\n",
      "i= 42   basamaklartoplamı= 6\n",
      "hardshard değil\n",
      "i= 43   basamaklartoplamı= 3\n",
      "hardshard değil\n",
      "i= 43   basamaklartoplamı= 7\n",
      "hardshard değil\n",
      "i= 44   basamaklartoplamı= 4\n",
      "hardshard değil\n",
      "i= 44   basamaklartoplamı= 8\n",
      "hardshard değil\n"
     ]
    }
   ],
   "source": [
    "n=int(input(\"n=\"))\n",
    "for i in range(1,n,1):\n",
    "    k= i\n",
    "    basamaklartoplamı=0\n",
    "    while k>0:\n",
    "        sonbasamak= k%10\n",
    "        basamaklartoplamı += sonbasamak\n",
    "        k= (k-sonbasamak)/10\n",
    "        print(\"i=\",i,\"  basamaklartoplamı=\",int(basamaklartoplamı))\n",
    "        \n",
    "        \n",
    "        if (i==basamaklartoplamı):\n",
    "            print(\"hardshard\")\n",
    "        else:\n",
    "            print(\"hardshard değil\")\n",
    "        \n",
    "    "
   ]
  },
  {
   "cell_type": "markdown",
   "id": "36bc1776",
   "metadata": {},
   "source": [
    "# ödevler"
   ]
  },
  {
   "cell_type": "code",
   "execution_count": 7,
   "id": "f333f58f",
   "metadata": {},
   "outputs": [],
   "source": [
    "# girilen sayının pronic(ardışık iki sayının çarpımına eşit) olup olmadığını bulan program"
   ]
  },
  {
   "cell_type": "code",
   "execution_count": 23,
   "id": "c3cc3e51",
   "metadata": {},
   "outputs": [
    {
     "name": "stdout",
     "output_type": "stream",
     "text": [
      "sayı giriniz=45\n",
      "al sana nah\n"
     ]
    }
   ],
   "source": [
    "a=int(input(\"sayı giriniz=\"))\n",
    "for i in range(10):\n",
    "    if a == int(i*(i+1)):\n",
    "        print(\"pronic sayı\")\n",
    "        break\n",
    "else:\n",
    "    print(\"al sana nah\")"
   ]
  },
  {
   "cell_type": "code",
   "execution_count": 22,
   "id": "00a1850e",
   "metadata": {},
   "outputs": [],
   "source": [
    "# girilen sayının jumbled(komşu rakamlar arasındaki fark maksimum 1) olup olmadığını bulan program"
   ]
  },
  {
   "cell_type": "code",
   "execution_count": 7,
   "id": "665a8f72",
   "metadata": {
    "scrolled": true
   },
   "outputs": [
    {
     "name": "stdout",
     "output_type": "stream",
     "text": [
      "sayı giriniz=6\n",
      "sayı giriniz=7\n",
      "jumbled sayı\n"
     ]
    }
   ],
   "source": [
    "a=int(input(\"sayı giriniz=\"))\n",
    "b=int(input(\"sayı giriniz=\"))\n",
    "if a-b <= 1:\n",
    "    print(\"jumbled sayı\")\n",
    "else:\n",
    "    print(\"al sana nah\")"
   ]
  },
  {
   "cell_type": "code",
   "execution_count": 17,
   "id": "91ba36cd",
   "metadata": {},
   "outputs": [],
   "source": [
    "# girilen sayınıların obeb'ini bulan program"
   ]
  },
  {
   "cell_type": "code",
   "execution_count": 6,
   "id": "c8c7ea56",
   "metadata": {},
   "outputs": [
    {
     "name": "stdout",
     "output_type": "stream",
     "text": [
      "sayı 1 girin=20\n",
      "sayı 2 girin=25\n",
      "ebob = 5\n",
      "ekok =  100\n"
     ]
    }
   ],
   "source": [
    "s1=int(input(\"sayı 1 girin=\"))\n",
    "s2=int(input(\"sayı 2 girin=\"))\n",
    "if s1>s2:\n",
    "    kucuksayı=s2\n",
    "else:\n",
    "    kucuksayı= s1\n",
    "for i in range(1,kucuksayı+1,1):\n",
    "    if (s1 % i ==0) and (s2 % i ==0):\n",
    "        ebob=i\n",
    "print(\"ebob =\",ebob)\n",
    "print(\"ekok = \",(s1*s2)//ebob)"
   ]
  },
  {
   "cell_type": "code",
   "execution_count": 2,
   "id": "f1af718e",
   "metadata": {},
   "outputs": [],
   "source": [
    "#girilen sayınıların okek'ini bulan program"
   ]
  },
  {
   "cell_type": "code",
   "execution_count": null,
   "id": "98b4243c",
   "metadata": {},
   "outputs": [],
   "source": []
  },
  {
   "cell_type": "code",
   "execution_count": 16,
   "id": "9ec6b517",
   "metadata": {},
   "outputs": [],
   "source": [
    "# sayı tahmin oyunu"
   ]
  },
  {
   "cell_type": "code",
   "execution_count": null,
   "id": "890b4395",
   "metadata": {},
   "outputs": [],
   "source": [
    "sayımız=60\n",
    "for i in range(1,a):\n",
    "    a=int(input(\"sayı giriniz=\"))\n",
    "    if a>sayımız:\n",
    "        print(\"değerinizi küçültün\")\n",
    "    elif a<sayımız:\n",
    "        print(\"değerinizi büyütün\")\n",
    "    else:\n",
    "        print(\"sayımız=\",sayımız)\n",
    "        break\n",
    "        \n",
    "    \n",
    "    \n",
    "    \n",
    "    \n",
    "        "
   ]
  },
  {
   "cell_type": "code",
   "execution_count": 12,
   "id": "bc2c2fff",
   "metadata": {},
   "outputs": [
    {
     "ename": "KeyboardInterrupt",
     "evalue": "Interrupted by user",
     "output_type": "error",
     "traceback": [
      "\u001b[1;31m---------------------------------------------------------------------------\u001b[0m",
      "\u001b[1;31mKeyboardInterrupt\u001b[0m                         Traceback (most recent call last)",
      "\u001b[1;32m<ipython-input-12-eb032800b3b3>\u001b[0m in \u001b[0;36m<module>\u001b[1;34m\u001b[0m\n\u001b[1;32m----> 1\u001b[1;33m \u001b[0ma\u001b[0m\u001b[1;33m=\u001b[0m\u001b[0mint\u001b[0m\u001b[1;33m(\u001b[0m\u001b[0minput\u001b[0m\u001b[1;33m(\u001b[0m\u001b[1;34m\"a=\"\u001b[0m\u001b[1;33m)\u001b[0m\u001b[1;33m)\u001b[0m\u001b[1;33m\u001b[0m\u001b[1;33m\u001b[0m\u001b[0m\n\u001b[0m\u001b[0;32m      2\u001b[0m \u001b[0mb\u001b[0m\u001b[1;33m=\u001b[0m\u001b[0mint\u001b[0m\u001b[1;33m(\u001b[0m\u001b[0minput\u001b[0m\u001b[1;33m(\u001b[0m\u001b[1;34m\"b=\"\u001b[0m\u001b[1;33m)\u001b[0m\u001b[1;33m)\u001b[0m\u001b[1;33m\u001b[0m\u001b[1;33m\u001b[0m\u001b[0m\n\u001b[0;32m      3\u001b[0m \u001b[1;33m\u001b[0m\u001b[0m\n\u001b[0;32m      4\u001b[0m \u001b[1;32mfor\u001b[0m \u001b[0mi\u001b[0m \u001b[1;32min\u001b[0m \u001b[0mrange\u001b[0m\u001b[1;33m(\u001b[0m\u001b[1;36m1\u001b[0m\u001b[1;33m,\u001b[0m\u001b[0ma\u001b[0m\u001b[1;33m+\u001b[0m\u001b[1;36m1\u001b[0m\u001b[1;33m,\u001b[0m\u001b[1;36m1\u001b[0m\u001b[1;33m)\u001b[0m\u001b[1;33m:\u001b[0m\u001b[1;33m\u001b[0m\u001b[1;33m\u001b[0m\u001b[0m\n\u001b[0;32m      5\u001b[0m     \u001b[1;32mif\u001b[0m \u001b[1;33m(\u001b[0m\u001b[0ma\u001b[0m\u001b[1;33m%\u001b[0m\u001b[0mi\u001b[0m\u001b[1;33m==\u001b[0m\u001b[1;36m0\u001b[0m\u001b[1;33m)\u001b[0m \u001b[1;32mand\u001b[0m\u001b[1;33m(\u001b[0m\u001b[0mb\u001b[0m\u001b[1;33m%\u001b[0m\u001b[0mi\u001b[0m\u001b[1;33m==\u001b[0m\u001b[1;36m0\u001b[0m\u001b[1;33m)\u001b[0m\u001b[1;33m:\u001b[0m\u001b[1;33m\u001b[0m\u001b[1;33m\u001b[0m\u001b[0m\n",
      "\u001b[1;32m~\\anaconda3\\lib\\site-packages\\ipykernel\\kernelbase.py\u001b[0m in \u001b[0;36mraw_input\u001b[1;34m(self, prompt)\u001b[0m\n\u001b[0;32m    858\u001b[0m                 \u001b[1;34m\"raw_input was called, but this frontend does not support input requests.\"\u001b[0m\u001b[1;33m\u001b[0m\u001b[1;33m\u001b[0m\u001b[0m\n\u001b[0;32m    859\u001b[0m             )\n\u001b[1;32m--> 860\u001b[1;33m         return self._input_request(str(prompt),\n\u001b[0m\u001b[0;32m    861\u001b[0m             \u001b[0mself\u001b[0m\u001b[1;33m.\u001b[0m\u001b[0m_parent_ident\u001b[0m\u001b[1;33m,\u001b[0m\u001b[1;33m\u001b[0m\u001b[1;33m\u001b[0m\u001b[0m\n\u001b[0;32m    862\u001b[0m             \u001b[0mself\u001b[0m\u001b[1;33m.\u001b[0m\u001b[0m_parent_header\u001b[0m\u001b[1;33m,\u001b[0m\u001b[1;33m\u001b[0m\u001b[1;33m\u001b[0m\u001b[0m\n",
      "\u001b[1;32m~\\anaconda3\\lib\\site-packages\\ipykernel\\kernelbase.py\u001b[0m in \u001b[0;36m_input_request\u001b[1;34m(self, prompt, ident, parent, password)\u001b[0m\n\u001b[0;32m    902\u001b[0m             \u001b[1;32mexcept\u001b[0m \u001b[0mKeyboardInterrupt\u001b[0m\u001b[1;33m:\u001b[0m\u001b[1;33m\u001b[0m\u001b[1;33m\u001b[0m\u001b[0m\n\u001b[0;32m    903\u001b[0m                 \u001b[1;31m# re-raise KeyboardInterrupt, to truncate traceback\u001b[0m\u001b[1;33m\u001b[0m\u001b[1;33m\u001b[0m\u001b[1;33m\u001b[0m\u001b[0m\n\u001b[1;32m--> 904\u001b[1;33m                 \u001b[1;32mraise\u001b[0m \u001b[0mKeyboardInterrupt\u001b[0m\u001b[1;33m(\u001b[0m\u001b[1;34m\"Interrupted by user\"\u001b[0m\u001b[1;33m)\u001b[0m \u001b[1;32mfrom\u001b[0m \u001b[1;32mNone\u001b[0m\u001b[1;33m\u001b[0m\u001b[1;33m\u001b[0m\u001b[0m\n\u001b[0m\u001b[0;32m    905\u001b[0m             \u001b[1;32mexcept\u001b[0m \u001b[0mException\u001b[0m \u001b[1;32mas\u001b[0m \u001b[0me\u001b[0m\u001b[1;33m:\u001b[0m\u001b[1;33m\u001b[0m\u001b[1;33m\u001b[0m\u001b[0m\n\u001b[0;32m    906\u001b[0m                 \u001b[0mself\u001b[0m\u001b[1;33m.\u001b[0m\u001b[0mlog\u001b[0m\u001b[1;33m.\u001b[0m\u001b[0mwarning\u001b[0m\u001b[1;33m(\u001b[0m\u001b[1;34m\"Invalid Message:\"\u001b[0m\u001b[1;33m,\u001b[0m \u001b[0mexc_info\u001b[0m\u001b[1;33m=\u001b[0m\u001b[1;32mTrue\u001b[0m\u001b[1;33m)\u001b[0m\u001b[1;33m\u001b[0m\u001b[1;33m\u001b[0m\u001b[0m\n",
      "\u001b[1;31mKeyboardInterrupt\u001b[0m: Interrupted by user"
     ]
    }
   ],
   "source": [
    "a=int(input(\"a=\"))\n",
    "b=int(input(\"b=\"))\n",
    "\n",
    "for i in range(1,a+1,1):\n",
    "    if (a%i==0) and(b%i==0):\n",
    "        obeb=i\n",
    "print(\"obeb:\",obeb)    \n",
    "    "
   ]
  },
  {
   "cell_type": "code",
   "execution_count": 48,
   "id": "efe4c98d",
   "metadata": {},
   "outputs": [
    {
     "ename": "KeyboardInterrupt",
     "evalue": "Interrupted by user",
     "output_type": "error",
     "traceback": [
      "\u001b[1;31m---------------------------------------------------------------------------\u001b[0m",
      "\u001b[1;31mKeyboardInterrupt\u001b[0m                         Traceback (most recent call last)",
      "\u001b[1;32m<ipython-input-48-5d55f012cfbf>\u001b[0m in \u001b[0;36m<module>\u001b[1;34m\u001b[0m\n\u001b[0;32m      1\u001b[0m \u001b[1;31m#başka bir çözüm\u001b[0m\u001b[1;33m\u001b[0m\u001b[1;33m\u001b[0m\u001b[1;33m\u001b[0m\u001b[0m\n\u001b[1;32m----> 2\u001b[1;33m \u001b[0ma\u001b[0m\u001b[1;33m=\u001b[0m\u001b[0mint\u001b[0m\u001b[1;33m(\u001b[0m\u001b[0minput\u001b[0m\u001b[1;33m(\u001b[0m\u001b[1;34m\"a=\"\u001b[0m\u001b[1;33m)\u001b[0m\u001b[1;33m)\u001b[0m\u001b[1;33m\u001b[0m\u001b[1;33m\u001b[0m\u001b[0m\n\u001b[0m\u001b[0;32m      3\u001b[0m \u001b[0mb\u001b[0m\u001b[1;33m=\u001b[0m\u001b[0mint\u001b[0m\u001b[1;33m(\u001b[0m\u001b[0minput\u001b[0m\u001b[1;33m(\u001b[0m\u001b[1;34m\"b=\"\u001b[0m\u001b[1;33m)\u001b[0m\u001b[1;33m)\u001b[0m\u001b[1;33m\u001b[0m\u001b[1;33m\u001b[0m\u001b[0m\n\u001b[0;32m      4\u001b[0m \u001b[0mk\u001b[0m\u001b[1;33m=\u001b[0m\u001b[1;36m2\u001b[0m\u001b[1;33m\u001b[0m\u001b[1;33m\u001b[0m\u001b[0m\n\u001b[0;32m      5\u001b[0m \u001b[0mobeb\u001b[0m\u001b[1;33m=\u001b[0m\u001b[1;36m1\u001b[0m\u001b[1;33m\u001b[0m\u001b[1;33m\u001b[0m\u001b[0m\n",
      "\u001b[1;32m~\\anaconda3\\lib\\site-packages\\ipykernel\\kernelbase.py\u001b[0m in \u001b[0;36mraw_input\u001b[1;34m(self, prompt)\u001b[0m\n\u001b[0;32m    858\u001b[0m                 \u001b[1;34m\"raw_input was called, but this frontend does not support input requests.\"\u001b[0m\u001b[1;33m\u001b[0m\u001b[1;33m\u001b[0m\u001b[0m\n\u001b[0;32m    859\u001b[0m             )\n\u001b[1;32m--> 860\u001b[1;33m         return self._input_request(str(prompt),\n\u001b[0m\u001b[0;32m    861\u001b[0m             \u001b[0mself\u001b[0m\u001b[1;33m.\u001b[0m\u001b[0m_parent_ident\u001b[0m\u001b[1;33m,\u001b[0m\u001b[1;33m\u001b[0m\u001b[1;33m\u001b[0m\u001b[0m\n\u001b[0;32m    862\u001b[0m             \u001b[0mself\u001b[0m\u001b[1;33m.\u001b[0m\u001b[0m_parent_header\u001b[0m\u001b[1;33m,\u001b[0m\u001b[1;33m\u001b[0m\u001b[1;33m\u001b[0m\u001b[0m\n",
      "\u001b[1;32m~\\anaconda3\\lib\\site-packages\\ipykernel\\kernelbase.py\u001b[0m in \u001b[0;36m_input_request\u001b[1;34m(self, prompt, ident, parent, password)\u001b[0m\n\u001b[0;32m    902\u001b[0m             \u001b[1;32mexcept\u001b[0m \u001b[0mKeyboardInterrupt\u001b[0m\u001b[1;33m:\u001b[0m\u001b[1;33m\u001b[0m\u001b[1;33m\u001b[0m\u001b[0m\n\u001b[0;32m    903\u001b[0m                 \u001b[1;31m# re-raise KeyboardInterrupt, to truncate traceback\u001b[0m\u001b[1;33m\u001b[0m\u001b[1;33m\u001b[0m\u001b[1;33m\u001b[0m\u001b[0m\n\u001b[1;32m--> 904\u001b[1;33m                 \u001b[1;32mraise\u001b[0m \u001b[0mKeyboardInterrupt\u001b[0m\u001b[1;33m(\u001b[0m\u001b[1;34m\"Interrupted by user\"\u001b[0m\u001b[1;33m)\u001b[0m \u001b[1;32mfrom\u001b[0m \u001b[1;32mNone\u001b[0m\u001b[1;33m\u001b[0m\u001b[1;33m\u001b[0m\u001b[0m\n\u001b[0m\u001b[0;32m    905\u001b[0m             \u001b[1;32mexcept\u001b[0m \u001b[0mException\u001b[0m \u001b[1;32mas\u001b[0m \u001b[0me\u001b[0m\u001b[1;33m:\u001b[0m\u001b[1;33m\u001b[0m\u001b[1;33m\u001b[0m\u001b[0m\n\u001b[0;32m    906\u001b[0m                 \u001b[0mself\u001b[0m\u001b[1;33m.\u001b[0m\u001b[0mlog\u001b[0m\u001b[1;33m.\u001b[0m\u001b[0mwarning\u001b[0m\u001b[1;33m(\u001b[0m\u001b[1;34m\"Invalid Message:\"\u001b[0m\u001b[1;33m,\u001b[0m \u001b[0mexc_info\u001b[0m\u001b[1;33m=\u001b[0m\u001b[1;32mTrue\u001b[0m\u001b[1;33m)\u001b[0m\u001b[1;33m\u001b[0m\u001b[1;33m\u001b[0m\u001b[0m\n",
      "\u001b[1;31mKeyboardInterrupt\u001b[0m: Interrupted by user"
     ]
    }
   ],
   "source": [
    "#başka bir çözüm\n",
    "a=int(input(\"a=\"))\n",
    "b=int(input(\"b=\"))\n",
    "k=2\n",
    "obeb=1\n",
    "while (a>1) or (b>1):\n",
    "    if (a%k==0) and (b%k==0):\n",
    "        obeb*=k\n",
    "        \n",
    "    if (a%k==0):\n",
    "        a =a/k\n",
    "        \n",
    "    if (b%k==0):\n",
    "        b =b%k\n",
    "        \n",
    "    if not (a%k==0) or (b%k==0):    \n",
    "        k+=1\n",
    "    \n",
    "print(\"obeb:\",obeb)    "
   ]
  },
  {
   "cell_type": "code",
   "execution_count": null,
   "id": "93dc51e4",
   "metadata": {},
   "outputs": [],
   "source": []
  }
 ],
 "metadata": {
  "kernelspec": {
   "display_name": "Python 3",
   "language": "python",
   "name": "python3"
  },
  "language_info": {
   "codemirror_mode": {
    "name": "ipython",
    "version": 3
   },
   "file_extension": ".py",
   "mimetype": "text/x-python",
   "name": "python",
   "nbconvert_exporter": "python",
   "pygments_lexer": "ipython3",
   "version": "3.8.8"
  }
 },
 "nbformat": 4,
 "nbformat_minor": 5
}
