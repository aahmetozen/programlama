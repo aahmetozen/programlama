{
 "cells": [
  {
   "cell_type": "code",
   "execution_count": 7,
   "id": "db12817b",
   "metadata": {},
   "outputs": [
    {
     "name": "stdout",
     "output_type": "stream",
     "text": [
      "sayı girin5\n",
      "sayı girin4\n",
      "toplam= 9\n"
     ]
    }
   ],
   "source": [
    "a=int(input(\"sayı girin\"))\n",
    "b=int(input(\"sayı girin\"))\n",
    "toplam=a+b\n",
    "print(\"toplam=\",toplam)"
   ]
  },
  {
   "cell_type": "code",
   "execution_count": null,
   "id": "3de6e589",
   "metadata": {},
   "outputs": [],
   "source": []
  }
 ],
 "metadata": {
  "kernelspec": {
   "display_name": "Python 3",
   "language": "python",
   "name": "python3"
  },
  "language_info": {
   "codemirror_mode": {
    "name": "ipython",
    "version": 3
   },
   "file_extension": ".py",
   "mimetype": "text/x-python",
   "name": "python",
   "nbconvert_exporter": "python",
   "pygments_lexer": "ipython3",
   "version": "3.8.8"
  }
 },
 "nbformat": 4,
 "nbformat_minor": 5
}
