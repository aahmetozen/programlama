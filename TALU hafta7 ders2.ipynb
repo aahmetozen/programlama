{
 "cells": [
  {
   "cell_type": "code",
   "execution_count": 5,
   "id": "b20fe0c6",
   "metadata": {},
   "outputs": [
    {
     "name": "stdout",
     "output_type": "stream",
     "text": [
      "toplam= 32\n",
      "eleman sayısı= 9\n",
      "ortalama= 3.5555555555555554\n"
     ]
    }
   ],
   "source": [
    "L= [4,8,9,-9,6,8,0,6]\n",
    "top=0\n",
    "c=1\n",
    "for x in L:\n",
    "    top+=x\n",
    "    c+=1\n",
    "print(\"toplam=\",top)\n",
    "print(\"eleman sayısı=\",c)\n",
    "print(\"ortalama=\",top/c)    "
   ]
  },
  {
   "cell_type": "code",
   "execution_count": 3,
   "id": "6fcf1eae",
   "metadata": {},
   "outputs": [
    {
     "name": "stdout",
     "output_type": "stream",
     "text": [
      "32\n"
     ]
    }
   ],
   "source": [
    "L= [4,8,9,-9,6,8,0,6]\n",
    "\n",
    "print(sum(L))"
   ]
  },
  {
   "cell_type": "code",
   "execution_count": 6,
   "id": "a3477462",
   "metadata": {},
   "outputs": [
    {
     "name": "stdout",
     "output_type": "stream",
     "text": [
      "True\n"
     ]
    }
   ],
   "source": [
    "print(8 in L)"
   ]
  },
  {
   "cell_type": "code",
   "execution_count": 22,
   "id": "177b3a9f",
   "metadata": {},
   "outputs": [
    {
     "name": "stdout",
     "output_type": "stream",
     "text": [
      "aranan değer=8\n",
      "aranan değer listede var 8\n"
     ]
    }
   ],
   "source": [
    "L= [4,8,9,-9,6]\n",
    "a=int(input(\"aranan değer=\"))\n",
    "if L[0] ==a:\n",
    "    print(\"aranan değer listede var\",a)\n",
    "elif L[1] ==a:\n",
    "    print(\"aranan değer listede var\",a)\n",
    "elif L[2] ==a:\n",
    "    print(\"aranan değer listede var\",a)\n",
    "elif L[3] ==a:\n",
    "    print(\"aranan değer listede var\",a)\n",
    "elif L[4] ==a:\n",
    "    print(\"aranan değer listede var\",a)\n",
    "else:\n",
    "    print(\"aranan değer listede yok\")\n",
    "    \n",
    "    \n",
    "\n",
    "    \n",
    "    \n",
    "    "
   ]
  },
  {
   "cell_type": "code",
   "execution_count": 23,
   "id": "c97b118b",
   "metadata": {},
   "outputs": [],
   "source": [
    "#elemanları sıralayan program"
   ]
  },
  {
   "cell_type": "code",
   "execution_count": 2,
   "id": "a51e4a81",
   "metadata": {},
   "outputs": [
    {
     "name": "stdout",
     "output_type": "stream",
     "text": [
      "sıralı değil: [4, 8, 19, 0, -9, 6, 8, 0, 6]\n",
      "sıralı: [4, 8, 0, -9, 6, 8, 0, 6, 19]\n"
     ]
    }
   ],
   "source": [
    "L = [4,8,19,0,-9,6,8,0,6]\n",
    "print(\"sıralı değil:\",L)\n",
    "for j in range(0,len(L)-1):\n",
    "    for i in range(0,len(L)-1):\n",
    "        if L[i]>L[i+1]:\n",
    "            tmp= L[i+1]\n",
    "            L[i+1] = L[i]\n",
    "            L[i] = tmp\n",
    "            \n",
    "print(\"sıralı:\",L)        "
   ]
  },
  {
   "cell_type": "code",
   "execution_count": null,
   "id": "268ad5a8",
   "metadata": {},
   "outputs": [],
   "source": []
  }
 ],
 "metadata": {
  "kernelspec": {
   "display_name": "Python 3",
   "language": "python",
   "name": "python3"
  },
  "language_info": {
   "codemirror_mode": {
    "name": "ipython",
    "version": 3
   },
   "file_extension": ".py",
   "mimetype": "text/x-python",
   "name": "python",
   "nbconvert_exporter": "python",
   "pygments_lexer": "ipython3",
   "version": "3.8.8"
  }
 },
 "nbformat": 4,
 "nbformat_minor": 5
}
