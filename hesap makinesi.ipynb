{
 "cells": [
  {
   "cell_type": "code",
   "execution_count": 22,
   "id": "24fc618d",
   "metadata": {},
   "outputs": [
    {
     "name": "stdout",
     "output_type": "stream",
     "text": [
      "birinci değer=15\n",
      "ikinci değer=3\n",
      "lütfen işlem seçin\n",
      "1_toplama\n",
      "2_çıkarma\n",
      "3_çarpma\n",
      "4_bölme\n",
      "seçmek istedğiniz işlem tuşuna basın3\n",
      "45\n"
     ]
    }
   ],
   "source": [
    "b=int(input(\"birinci değer=\"))\n",
    "c=int(input(\"ikinci değer=\"))\n",
    "print(\"lütfen işlem seçin\")\n",
    "print(\"1_toplama\")\n",
    "print(\"2_çıkarma\")\n",
    "print(\"3_çarpma\")\n",
    "print(\"4_bölme\")\n",
    "a=str(input(\"seçmek istedğiniz işlem tuşuna basın\"))\n",
    "if a==\"1\":\n",
    "    x=b+c\n",
    "    print(x)\n",
    "elif a==\"2\":\n",
    "        x=b-c\n",
    "        print(x)\n",
    "elif a==\"3\":\n",
    "    x=b*c\n",
    "    print(x)\n",
    "elif a==\"4\":\n",
    "    x=b/c\n",
    "    print(x)\n",
    "\n",
    "    \n",
    "    \n",
    "\n"
   ]
  },
  {
   "cell_type": "code",
   "execution_count": null,
   "id": "c353b884",
   "metadata": {},
   "outputs": [],
   "source": []
  },
  {
   "cell_type": "code",
   "execution_count": null,
   "id": "59504554",
   "metadata": {},
   "outputs": [],
   "source": []
  }
 ],
 "metadata": {
  "kernelspec": {
   "display_name": "Python 3",
   "language": "python",
   "name": "python3"
  },
  "language_info": {
   "codemirror_mode": {
    "name": "ipython",
    "version": 3
   },
   "file_extension": ".py",
   "mimetype": "text/x-python",
   "name": "python",
   "nbconvert_exporter": "python",
   "pygments_lexer": "ipython3",
   "version": "3.8.8"
  }
 },
 "nbformat": 4,
 "nbformat_minor": 5
}
