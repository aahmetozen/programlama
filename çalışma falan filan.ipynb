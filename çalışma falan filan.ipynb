{
 "cells": [
  {
   "cell_type": "code",
   "execution_count": 2,
   "id": "777aad34",
   "metadata": {},
   "outputs": [
    {
     "name": "stdout",
     "output_type": "stream",
     "text": [
      "vize notunu giriniz15\n",
      "final notunu giriniz87\n",
      "kaldınız\n"
     ]
    }
   ],
   "source": [
    "v=int(input(\"vize notunu giriniz\"))\n",
    "f=int(input(\"final notunu giriniz\"))\n",
    "bn=(v*40)/100+(f*60)/100\n",
    "if bn >= 60:\n",
    "    print(\"geçtiniz\")\n",
    "else:\n",
    "    print(\"kaldınız\")\n"
   ]
  },
  {
   "cell_type": "code",
   "execution_count": null,
   "id": "0e039784",
   "metadata": {},
   "outputs": [],
   "source": [
    "# algoritma kitabı çalışma sorusu\n",
    "sira=1\n",
    "öğrenci=0\n",
    "öğrenci=input(\"isim girin=\")\n",
    "for isim in range(10):\n",
    "    \n",
    "    \n",
    "    "
   ]
  },
  {
   "cell_type": "code",
   "execution_count": null,
   "id": "5bd4f3a6",
   "metadata": {},
   "outputs": [],
   "source": []
  },
  {
   "cell_type": "code",
   "execution_count": null,
   "id": "3e3edf4b",
   "metadata": {},
   "outputs": [],
   "source": []
  }
 ],
 "metadata": {
  "kernelspec": {
   "display_name": "Python 3",
   "language": "python",
   "name": "python3"
  },
  "language_info": {
   "codemirror_mode": {
    "name": "ipython",
    "version": 3
   },
   "file_extension": ".py",
   "mimetype": "text/x-python",
   "name": "python",
   "nbconvert_exporter": "python",
   "pygments_lexer": "ipython3",
   "version": "3.8.8"
  }
 },
 "nbformat": 4,
 "nbformat_minor": 5
}
