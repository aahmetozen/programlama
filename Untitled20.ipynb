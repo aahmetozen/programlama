{
 "cells": [
  {
   "cell_type": "code",
   "execution_count": 5,
   "id": "b596567b",
   "metadata": {},
   "outputs": [
    {
     "ename": "SyntaxError",
     "evalue": "invalid syntax (<ipython-input-5-7d4c210e51ba>, line 1)",
     "output_type": "error",
     "traceback": [
      "\u001b[1;36m  File \u001b[1;32m\"<ipython-input-5-7d4c210e51ba>\"\u001b[1;36m, line \u001b[1;32m1\u001b[0m\n\u001b[1;33m    toplam =\u001b[0m\n\u001b[1;37m             ^\u001b[0m\n\u001b[1;31mSyntaxError\u001b[0m\u001b[1;31m:\u001b[0m invalid syntax\n"
     ]
    }
   ],
   "source": [
    "toplam = \n",
    "\n",
    "while True:\n",
    "    \n",
    "    print(\"Programdan çıkmak için input olarak -99 giriniz.\")\n",
    "    \n",
    "    x = int(input(\"Bir sayı giriniz.\"))\n",
    "    \n",
    "    if x == -99:\n",
    "        print(\"Programdan çıkış yapılıyor.\")\n",
    "        break\n",
    "    \n",
    "    if x < 0 or x > 100:\n",
    "        print(\"1 ile 100 arasında bir tam sayı giriniz.\")\n",
    "        \n",
    "        continue\n",
    "    \n",
    "    toplam += x\n",
    "    \n",
    "print(\"Girilen sayıların toplamı : {}\".format(toplam))\n",
    "kelimesayisi+=1\n",
    "\n",
    "print(kelimesayisi)"
   ]
  },
  {
   "cell_type": "code",
   "execution_count": null,
   "id": "2fb4dac9",
   "metadata": {},
   "outputs": [],
   "source": []
  }
 ],
 "metadata": {
  "kernelspec": {
   "display_name": "Python 3",
   "language": "python",
   "name": "python3"
  },
  "language_info": {
   "codemirror_mode": {
    "name": "ipython",
    "version": 3
   },
   "file_extension": ".py",
   "mimetype": "text/x-python",
   "name": "python",
   "nbconvert_exporter": "python",
   "pygments_lexer": "ipython3",
   "version": "3.8.8"
  }
 },
 "nbformat": 4,
 "nbformat_minor": 5
}
