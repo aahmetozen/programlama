{
 "cells": [
  {
   "cell_type": "code",
   "execution_count": 19,
   "id": "40655ca7",
   "metadata": {},
   "outputs": [],
   "source": [
    "# exception:istisna"
   ]
  },
  {
   "cell_type": "code",
   "execution_count": 30,
   "id": "2cbc6b45",
   "metadata": {},
   "outputs": [
    {
     "data": {
      "text/plain": [
       "2"
      ]
     },
     "execution_count": 30,
     "metadata": {},
     "output_type": "execute_result"
    }
   ],
   "source": [
    "round(1.5)"
   ]
  },
  {
   "cell_type": "code",
   "execution_count": 31,
   "id": "b6cfe923",
   "metadata": {},
   "outputs": [],
   "source": [
    "def tam_sayiya_cevir():\n",
    "    girdi=input(\"ondalık sayı giriniz\")\n",
    "    \n",
    "    print(\"yuvarlama işleminin sonucu: {}\".format(round(float(girdi))))"
   ]
  },
  {
   "cell_type": "code",
   "execution_count": 32,
   "id": "0328a1a1",
   "metadata": {},
   "outputs": [
    {
     "name": "stdout",
     "output_type": "stream",
     "text": [
      "ondalık sayı giriniz1.2\n",
      "yuvarlama işleminin sonucu: 1\n"
     ]
    }
   ],
   "source": [
    "tam_sayiya_cevir()"
   ]
  },
  {
   "cell_type": "code",
   "execution_count": 33,
   "id": "4c4d1cff",
   "metadata": {},
   "outputs": [],
   "source": [
    "def tam_sayiya_cevir():\n",
    "    girdi=input(\"ondalık sayı giriniz\")\n",
    "    \n",
    "    #print(\"yuvarlama işleminin sonucu: {}\".format(round(float(girdi))))\n",
    "    \n",
    "    try:\n",
    "        girdi=float(girdi)\n",
    "        print(\"yuvarlama işleminin sonucu: {}\".format(round(float(girdi))))\n",
    "    except:\n",
    "        print(\"{} girdiisi ondalık tipe çevrilemiyor\".format(girdi))"
   ]
  },
  {
   "cell_type": "code",
   "execution_count": 34,
   "id": "97a1282e",
   "metadata": {},
   "outputs": [],
   "source": [
    "def tam_sayiya_cevir():\n",
    "    girdi=input(\"ondalık sayı giriniz\")\n",
    "    \n",
    "    #print(\"yuvarlama işleminin sonucu: {}\".format(round(float(girdi))))\n",
    "    \n",
    "    try:\n",
    "        girdi=float(girdi)\n",
    "    except:\n",
    "        print(\"{} girdiisi ondalık tipe çevrilemiyor\".format(girdi))\n",
    "    else:\n",
    "         print(\"yuvarlama işleminin sonucu: {}\".format(round(float(girdi))))"
   ]
  },
  {
   "cell_type": "code",
   "execution_count": 35,
   "id": "309aa4fe",
   "metadata": {},
   "outputs": [
    {
     "name": "stdout",
     "output_type": "stream",
     "text": [
      "ondalık sayı giriniza\n",
      "a girdiisi ondalık tipe çevrilemiyor\n"
     ]
    }
   ],
   "source": [
    "tam_sayiya_cevir()"
   ]
  },
  {
   "cell_type": "code",
   "execution_count": 36,
   "id": "d73ac468",
   "metadata": {},
   "outputs": [],
   "source": [
    "def tam_sayiya_cevir():\n",
    "    girdi=input(\"ondalık sayı giriniz\")\n",
    "    \n",
    "    status = ''\n",
    "    try:\n",
    "        girdi=float(girdi)\n",
    "        print(\"yuvarlama işleminin sonucu: {}\".format(round(float(girdi))))\n",
    "        status='basarılı'\n",
    "    except:\n",
    "        print(\"{} girdiisi ondalık tipe çevrilemiyor\".format(girdi))\n",
    "        status='basarısız'\n",
    "    finally:\n",
    "        print(\"tam sayıya çevirme işlemi {} olarak tamamlandı!\".format(status))\n",
    "        "
   ]
  },
  {
   "cell_type": "code",
   "execution_count": 37,
   "id": "cd087333",
   "metadata": {},
   "outputs": [],
   "source": [
    "def tam_sayiya_cevir_dondu():\n",
    "    \n",
    "    while True:\n",
    "        \n",
    "        girdi=input(\"ondalık sayı giriniz\")\n",
    "\n",
    "        try:\n",
    "            girdi=float(girdi)\n",
    "            print(\"yuvarlama işleminin sonucu: {}\".format(round(float(girdi))))\n",
    "            break\n",
    "        except:\n",
    "            print(\"{} girdiisi ondalık tipe çevrilemiyor\".format(girdi))"
   ]
  },
  {
   "cell_type": "code",
   "execution_count": 38,
   "id": "f0a18850",
   "metadata": {},
   "outputs": [
    {
     "name": "stdout",
     "output_type": "stream",
     "text": [
      "ondalık sayı giriniza\n",
      "a girdiisi ondalık tipe çevrilemiyor\n",
      "ondalık sayı girinizb\n",
      "b girdiisi ondalık tipe çevrilemiyor\n",
      "ondalık sayı girinizc\n",
      "c girdiisi ondalık tipe çevrilemiyor\n",
      "ondalık sayı girinizs\n",
      "s girdiisi ondalık tipe çevrilemiyor\n",
      "ondalık sayı giriniz4\n",
      "yuvarlama işleminin sonucu: 4\n"
     ]
    }
   ],
   "source": [
    "tam_sayiya_cevir_dondu()"
   ]
  },
  {
   "cell_type": "code",
   "execution_count": 39,
   "id": "329c6d7f",
   "metadata": {},
   "outputs": [
    {
     "ename": "TypeError",
     "evalue": "unsupported operand type(s) for +: 'int' and 'str'",
     "output_type": "error",
     "traceback": [
      "\u001b[1;31m---------------------------------------------------------------------------\u001b[0m",
      "\u001b[1;31mTypeError\u001b[0m                                 Traceback (most recent call last)",
      "\u001b[1;32m<ipython-input-39-f2c23ab0a5e1>\u001b[0m in \u001b[0;36m<module>\u001b[1;34m\u001b[0m\n\u001b[1;32m----> 1\u001b[1;33m \u001b[1;36m5\u001b[0m \u001b[1;33m+\u001b[0m \u001b[1;34m'a'\u001b[0m\u001b[1;33m\u001b[0m\u001b[1;33m\u001b[0m\u001b[0m\n\u001b[0m",
      "\u001b[1;31mTypeError\u001b[0m: unsupported operand type(s) for +: 'int' and 'str'"
     ]
    }
   ],
   "source": [
    "5 + 'a'"
   ]
  },
  {
   "cell_type": "code",
   "execution_count": 40,
   "id": "3e6ad74f",
   "metadata": {},
   "outputs": [
    {
     "name": "stdout",
     "output_type": "stream",
     "text": [
      "girilen verilerle işlem yapılamıyor\n"
     ]
    }
   ],
   "source": [
    "try:\n",
    "    5 + 'a'\n",
    "except TypeError:\n",
    "    print(\"girilen verilerle işlem yapılamıyor\")\n",
    "    "
   ]
  },
  {
   "cell_type": "code",
   "execution_count": 41,
   "id": "fc32a692",
   "metadata": {},
   "outputs": [
    {
     "name": "stdout",
     "output_type": "stream",
     "text": [
      "girilen verilerle işlem yapılamıyor\n"
     ]
    }
   ],
   "source": [
    "try:\n",
    "    5 + 'a'\n",
    "except:\n",
    "    print(\"girilen verilerle işlem yapılamıyor\")\n",
    "    "
   ]
  },
  {
   "cell_type": "code",
   "execution_count": null,
   "id": "062a255f",
   "metadata": {},
   "outputs": [],
   "source": []
  }
 ],
 "metadata": {
  "kernelspec": {
   "display_name": "Python 3",
   "language": "python",
   "name": "python3"
  },
  "language_info": {
   "codemirror_mode": {
    "name": "ipython",
    "version": 3
   },
   "file_extension": ".py",
   "mimetype": "text/x-python",
   "name": "python",
   "nbconvert_exporter": "python",
   "pygments_lexer": "ipython3",
   "version": "3.8.8"
  }
 },
 "nbformat": 4,
 "nbformat_minor": 5
}
