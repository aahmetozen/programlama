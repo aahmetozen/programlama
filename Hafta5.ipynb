{
 "cells": [
  {
   "cell_type": "code",
   "execution_count": 1,
   "id": "c79516a3",
   "metadata": {},
   "outputs": [],
   "source": [
    "#for\n",
    "#if\n",
    "#input\n",
    "#print"
   ]
  },
  {
   "cell_type": "code",
   "execution_count": 6,
   "id": "2a5e5473",
   "metadata": {},
   "outputs": [
    {
     "name": "stdout",
     "output_type": "stream",
     "text": [
      "n=11\n",
      "11 sayısı asaldır\n"
     ]
    }
   ],
   "source": [
    "#girdiğimiz sayının asal olup olmadığını yazdıran program\n",
    "n=int(input(\"n=\"))\n",
    "asal=1          \n",
    "for i in range(2,n,1):\n",
    "    if n%i == 0:\n",
    "        asal=0\n",
    "        \n",
    "if asal==0:\n",
    "    print(n,\"sayısı asal değildir\")\n",
    "else:\n",
    "    print(n,\"sayısı asaldır\")\n",
    "    \n"
   ]
  },
  {
   "cell_type": "code",
   "execution_count": 18,
   "id": "888ab7e2",
   "metadata": {},
   "outputs": [
    {
     "name": "stdout",
     "output_type": "stream",
     "text": [
      "n=64\n",
      "2\n",
      "2\n",
      "2\n",
      "2\n",
      "2\n",
      "2\n"
     ]
    }
   ],
   "source": [
    "#girilen sayının asal çarpanlarını bulan program\n",
    "n=int(input(\"n=\"))\n",
    "Acarpan=2\n",
    "\n",
    "while n>1:\n",
    "    if n%Acarpan == 0:\n",
    "        \n",
    "        n = n / Acarpan\n",
    "        print(Acarpan)\n",
    "    else:\n",
    "        Acarpan = Acarpan + 1"
   ]
  },
  {
   "cell_type": "code",
   "execution_count": null,
   "id": "aecea739",
   "metadata": {},
   "outputs": [],
   "source": []
  },
  {
   "cell_type": "code",
   "execution_count": null,
   "id": "e177d71f",
   "metadata": {},
   "outputs": [],
   "source": []
  }
 ],
 "metadata": {
  "kernelspec": {
   "display_name": "Python 3",
   "language": "python",
   "name": "python3"
  },
  "language_info": {
   "codemirror_mode": {
    "name": "ipython",
    "version": 3
   },
   "file_extension": ".py",
   "mimetype": "text/x-python",
   "name": "python",
   "nbconvert_exporter": "python",
   "pygments_lexer": "ipython3",
   "version": "3.8.8"
  }
 },
 "nbformat": 4,
 "nbformat_minor": 5
}
