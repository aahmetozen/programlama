{
 "cells": [
  {
   "cell_type": "code",
   "execution_count": 1,
   "id": "7d16b4c4",
   "metadata": {},
   "outputs": [],
   "source": [
    "#girilen sayının basamak değerlerinin çarpımı tek haneye düşene kadar çarpmaya devam eden ve çıkanları yazan program"
   ]
  },
  {
   "cell_type": "code",
   "execution_count": 11,
   "id": "fcb01477",
   "metadata": {},
   "outputs": [
    {
     "name": "stdout",
     "output_type": "stream",
     "text": [
      "n=382\n",
      "    2     2\n",
      "    8     16\n",
      "    3     48\n",
      "48\n",
      "    8     8\n",
      "    4     32\n",
      "32\n",
      "    2     2\n",
      "    3     6\n",
      "6\n"
     ]
    }
   ],
   "source": [
    "n=int(input(\"n=\"))\n",
    "while n>9:     #tek handedn büyükse\n",
    "    carpım=1\n",
    "    while n>0:\n",
    "        sonhane= int(n%10)\n",
    "        carpım=carpım*sonhane\n",
    "        print(\"   \",sonhane,\"   \",  carpım)\n",
    "        n=(n-sonhane)/10\n",
    "    print(carpım)\n",
    "    n=carpım"
   ]
  },
  {
   "cell_type": "code",
   "execution_count": 12,
   "id": "a94d90cb",
   "metadata": {},
   "outputs": [],
   "source": []
  },
  {
   "cell_type": "code",
   "execution_count": null,
   "id": "194c2ffb",
   "metadata": {},
   "outputs": [],
   "source": []
  }
 ],
 "metadata": {
  "kernelspec": {
   "display_name": "Python 3",
   "language": "python",
   "name": "python3"
  },
  "language_info": {
   "codemirror_mode": {
    "name": "ipython",
    "version": 3
   },
   "file_extension": ".py",
   "mimetype": "text/x-python",
   "name": "python",
   "nbconvert_exporter": "python",
   "pygments_lexer": "ipython3",
   "version": "3.8.8"
  }
 },
 "nbformat": 4,
 "nbformat_minor": 5
}
