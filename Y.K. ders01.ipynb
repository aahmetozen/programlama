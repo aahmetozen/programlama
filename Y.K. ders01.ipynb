{
 "cells": [
  {
   "cell_type": "code",
   "execution_count": 4,
   "id": "9aa41a75",
   "metadata": {},
   "outputs": [
    {
     "name": "stdout",
     "output_type": "stream",
     "text": [
      "selam\n",
      "merhaba yakın kampüs\n",
      "benim adım \tahmet\n"
     ]
    }
   ],
   "source": [
    "print(\"selam\")\n",
    "print(\"merhaba yakın kampüs\")\n",
    "print(\"benim adım \\tahmet\")"
   ]
  },
  {
   "cell_type": "code",
   "execution_count": 10,
   "id": "3d5f3735",
   "metadata": {},
   "outputs": [
    {
     "name": "stdout",
     "output_type": "stream",
     "text": [
      "benim adım qura, yaşım 31\n",
      "benim adım qura, yaşım 31\n",
      "benim adım qura, yaşım 31\n"
     ]
    }
   ],
   "source": [
    "print(\"benim adım {}, yaşım {}\".format('qura',31))\n",
    "print(\"benim adım {0}, yaşım {1}\".format('qura',31))\n",
    "print(\"benim adım {ad}, yaşım {yaş}\".format(ad='qura',yaş=31))"
   ]
  },
  {
   "cell_type": "code",
   "execution_count": null,
   "id": "4e4cca9d",
   "metadata": {},
   "outputs": [],
   "source": []
  }
 ],
 "metadata": {
  "kernelspec": {
   "display_name": "Python 3",
   "language": "python",
   "name": "python3"
  },
  "language_info": {
   "codemirror_mode": {
    "name": "ipython",
    "version": 3
   },
   "file_extension": ".py",
   "mimetype": "text/x-python",
   "name": "python",
   "nbconvert_exporter": "python",
   "pygments_lexer": "ipython3",
   "version": "3.8.8"
  }
 },
 "nbformat": 4,
 "nbformat_minor": 5
}
