{
 "cells": [
  {
   "cell_type": "code",
   "execution_count": 97,
   "id": "a5d4281b",
   "metadata": {},
   "outputs": [
    {
     "name": "stdout",
     "output_type": "stream",
     "text": [
      "Python\n"
     ]
    }
   ],
   "source": [
    "strvar = \"Python\"\n",
    "print(strvar)"
   ]
  },
  {
   "cell_type": "raw",
   "id": "cf88ffd2",
   "metadata": {},
   "source": [
    "metin = \"bilgisayar saymaya 0 dan başlar\"\n",
    "        P   |  Y   |  T  |  H  |  O  |  N  \n",
    "        0   |  1   |  2  |  3  |  4  |  5\n",
    "        0   |  -5  |  -4 |  -3 |  -2 |  -1"
   ]
  },
  {
   "cell_type": "code",
   "execution_count": 98,
   "id": "732cd84c",
   "metadata": {},
   "outputs": [
    {
     "data": {
      "text/plain": [
       "'h'"
      ]
     },
     "execution_count": 98,
     "metadata": {},
     "output_type": "execute_result"
    }
   ],
   "source": [
    "strvar[3]"
   ]
  },
  {
   "cell_type": "code",
   "execution_count": 99,
   "id": "cf0b79d9",
   "metadata": {},
   "outputs": [
    {
     "data": {
      "text/plain": [
       "'thon'"
      ]
     },
     "execution_count": 99,
     "metadata": {},
     "output_type": "execute_result"
    }
   ],
   "source": [
    "strvar[2:]"
   ]
  },
  {
   "cell_type": "code",
   "execution_count": 100,
   "id": "4810493c",
   "metadata": {},
   "outputs": [
    {
     "data": {
      "text/plain": [
       "'tho'"
      ]
     },
     "execution_count": 100,
     "metadata": {},
     "output_type": "execute_result"
    }
   ],
   "source": [
    "strvar[2:5]"
   ]
  },
  {
   "cell_type": "code",
   "execution_count": 101,
   "id": "290e3ff1",
   "metadata": {},
   "outputs": [
    {
     "data": {
      "text/plain": [
       "'Pyt'"
      ]
     },
     "execution_count": 101,
     "metadata": {},
     "output_type": "execute_result"
    }
   ],
   "source": [
    "strvar[:3]"
   ]
  },
  {
   "cell_type": "code",
   "execution_count": 102,
   "id": "e16dde06",
   "metadata": {},
   "outputs": [
    {
     "data": {
      "text/plain": [
       "'y'"
      ]
     },
     "execution_count": 102,
     "metadata": {},
     "output_type": "execute_result"
    }
   ],
   "source": [
    "strvar[1:3:2 ] "
   ]
  },
  {
   "cell_type": "code",
   "execution_count": 103,
   "id": "0885c0df",
   "metadata": {},
   "outputs": [
    {
     "data": {
      "text/plain": [
       "6"
      ]
     },
     "execution_count": 103,
     "metadata": {},
     "output_type": "execute_result"
    }
   ],
   "source": [
    "len(strvar)"
   ]
  },
  {
   "cell_type": "code",
   "execution_count": 104,
   "id": "eeeb6f8a",
   "metadata": {},
   "outputs": [
    {
     "data": {
      "text/plain": [
       "'Pythonöğren'"
      ]
     },
     "execution_count": 104,
     "metadata": {},
     "output_type": "execute_result"
    }
   ],
   "source": [
    "strvar = strvar + \"öğren\"\n",
    "strvar"
   ]
  },
  {
   "cell_type": "code",
   "execution_count": 112,
   "id": "118146b4",
   "metadata": {},
   "outputs": [
    {
     "name": "stdout",
     "output_type": "stream",
     "text": [
      "PYTHONÖĞREN\n",
      "pythonöğren\n",
      "['Pythonöğren']\n",
      "['Pythonöğren']\n"
     ]
    },
    {
     "data": {
      "text/plain": [
       "['Pythonöğren']"
      ]
     },
     "execution_count": 112,
     "metadata": {},
     "output_type": "execute_result"
    }
   ],
   "source": [
    "print(strvar.upper())\n",
    "print(strvar.lower())\n",
    "print(strvar.split())\n",
    "print(strvar.split(\"!\"))\n",
    "strvar.split()"
   ]
  },
  {
   "cell_type": "raw",
   "id": "550b36c4",
   "metadata": {},
   "source": [
    "shift+tab------> kodun açıklamasını verir"
   ]
  },
  {
   "cell_type": "code",
   "execution_count": null,
   "id": "a84e3e0e",
   "metadata": {},
   "outputs": [],
   "source": []
  }
 ],
 "metadata": {
  "kernelspec": {
   "display_name": "Python 3",
   "language": "python",
   "name": "python3"
  },
  "language_info": {
   "codemirror_mode": {
    "name": "ipython",
    "version": 3
   },
   "file_extension": ".py",
   "mimetype": "text/x-python",
   "name": "python",
   "nbconvert_exporter": "python",
   "pygments_lexer": "ipython3",
   "version": "3.8.8"
  }
 },
 "nbformat": 4,
 "nbformat_minor": 5
}
