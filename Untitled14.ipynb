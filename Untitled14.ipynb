{
 "cells": [
  {
   "cell_type": "code",
   "execution_count": 8,
   "id": "6435ee43",
   "metadata": {},
   "outputs": [],
   "source": [
    "a=2000\n",
    "\n",
    "while sayi == 500:\n",
    "    sayi=a-(2000*10)/100\n",
    "    print(\"sayi\")"
   ]
  },
  {
   "cell_type": "code",
   "execution_count": 17,
   "id": "3cc19578",
   "metadata": {},
   "outputs": [],
   "source": [
    "x = 2000\n",
    "while x==500:\n",
    "    print(x, end=\" \")\n",
    "    x = x - 5"
   ]
  },
  {
   "cell_type": "code",
   "execution_count": 22,
   "id": "b6a18614",
   "metadata": {},
   "outputs": [
    {
     "name": "stdout",
     "output_type": "stream",
     "text": [
      "2000 1800.0 1620.0 1458.0 1312.2 1180.98 1062.882 956.5938000000001 860.93442 774.8409780000001 697.3568802000001 627.6211921800001 564.859072962 508.3731656658 "
     ]
    }
   ],
   "source": [
    "x = 2000\n",
    "while x>=500:\n",
    "    print(x, end=\" \")\n",
    "    x = x - x*10/100\n",
    "    "
   ]
  },
  {
   "cell_type": "code",
   "execution_count": null,
   "id": "06ef59d2",
   "metadata": {},
   "outputs": [],
   "source": []
  },
  {
   "cell_type": "code",
   "execution_count": null,
   "id": "23830104",
   "metadata": {},
   "outputs": [],
   "source": []
  },
  {
   "cell_type": "code",
   "execution_count": null,
   "id": "d7287990",
   "metadata": {},
   "outputs": [],
   "source": []
  }
 ],
 "metadata": {
  "kernelspec": {
   "display_name": "Python 3",
   "language": "python",
   "name": "python3"
  },
  "language_info": {
   "codemirror_mode": {
    "name": "ipython",
    "version": 3
   },
   "file_extension": ".py",
   "mimetype": "text/x-python",
   "name": "python",
   "nbconvert_exporter": "python",
   "pygments_lexer": "ipython3",
   "version": "3.8.8"
  }
 },
 "nbformat": 4,
 "nbformat_minor": 5
}
