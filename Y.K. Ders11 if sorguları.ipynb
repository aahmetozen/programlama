{
 "cells": [
  {
   "cell_type": "markdown",
   "id": "d7dc485f",
   "metadata": {},
   "source": [
    "KULLANIM SENARYOLARI"
   ]
  },
  {
   "cell_type": "raw",
   "id": "8644cea8",
   "metadata": {},
   "source": [
    "1_\n",
    "if <koşul sağlanıyorsa>:\n",
    "   <burada yazılanı yap>"
   ]
  },
  {
   "cell_type": "code",
   "execution_count": 3,
   "id": "4fb26829",
   "metadata": {},
   "outputs": [
    {
     "name": "stdout",
     "output_type": "stream",
     "text": [
      "şemsiyeni al\n"
     ]
    }
   ],
   "source": [
    "hava_durumu = \"yağışlı\"\n",
    "\n",
    "if hava_durumu == 'yağışlı':\n",
    "    print(\"şemsiyeni al\")\n"
   ]
  },
  {
   "cell_type": "raw",
   "id": "48379b67",
   "metadata": {},
   "source": [
    "2_\n",
    "if <koşul sağlanıyorsa>:\n",
    "   <burada yazılanı yap>\n",
    "else:\n",
    "   < burada yazılanı yap>\n",
    "   "
   ]
  },
  {
   "cell_type": "code",
   "execution_count": 4,
   "id": "2a6f481c",
   "metadata": {},
   "outputs": [
    {
     "name": "stdout",
     "output_type": "stream",
     "text": [
      "sorun yok\n"
     ]
    }
   ],
   "source": [
    "hava_durumu = \"güneşli\"\n",
    "\n",
    "if hava_durumu == 'yağışlı':\n",
    "    print(\"şemsiyeni al\")\n",
    "else:\n",
    "    print(\"sorun yok\")\n"
   ]
  },
  {
   "cell_type": "raw",
   "id": "e4dc99d0",
   "metadata": {},
   "source": [
    "3_\n",
    "if <koşul sağlanıyorsa>:\n",
    "   <burada yazılanı yap>\n",
    "elif < alternatif koşul sağlanıyorsa> \n",
    "    < buarada yazılanı yap>\n",
    "else:\n",
    "   < burada yazılanı yap>\n",
    "   "
   ]
  },
  {
   "cell_type": "code",
   "execution_count": 8,
   "id": "81a044eb",
   "metadata": {},
   "outputs": [
    {
     "name": "stdout",
     "output_type": "stream",
     "text": [
      "atkını al\n"
     ]
    }
   ],
   "source": [
    "hava_durumu = \"karlı\"\n",
    "\n",
    "if hava_durumu == 'yağışlı':\n",
    "    print(\"şemsiyeni al\")\n",
    "elif hava_durumu == 'karlı':\n",
    "    print('atkını al')\n",
    "else:\n",
    "    print(\"sorun yok\")\n"
   ]
  },
  {
   "cell_type": "code",
   "execution_count": 11,
   "id": "34ad1cf4",
   "metadata": {},
   "outputs": [
    {
     "name": "stdout",
     "output_type": "stream",
     "text": [
      "sen buraya ait değilsin\n"
     ]
    }
   ],
   "source": [
    "yas = 17\n",
    "if yas > 18:\n",
    "    print('selam')\n",
    "else:\n",
    "    print('sen buraya ait değilsin')"
   ]
  },
  {
   "cell_type": "code",
   "execution_count": 12,
   "id": "a56748b7",
   "metadata": {},
   "outputs": [
    {
     "name": "stdout",
     "output_type": "stream",
     "text": [
      "selam\n"
     ]
    }
   ],
   "source": [
    "yas = 24\n",
    "if yas > 18:\n",
    "    print('selam')\n",
    "else:\n",
    "    print('sen buraya ait değilsin')"
   ]
  },
  {
   "cell_type": "code",
   "execution_count": 1,
   "id": "86e1a292",
   "metadata": {},
   "outputs": [
    {
     "name": "stdout",
     "output_type": "stream",
     "text": [
      "mevcut değil\n"
     ]
    }
   ],
   "source": [
    "liste=['a','b','c']\n",
    "\n",
    "hedef_harf='d'\n",
    "if hedef_harf in liste:\n",
    "    print('buldum')\n",
    "else:\n",
    "    print('mevcut değil')"
   ]
  },
  {
   "cell_type": "code",
   "execution_count": 2,
   "id": "d586a682",
   "metadata": {},
   "outputs": [
    {
     "name": "stdout",
     "output_type": "stream",
     "text": [
      "listeye ekledim\n",
      "güncel liste ['a', 'b', 'c', 'd']\n"
     ]
    }
   ],
   "source": [
    "liste=['a','b','c']\n",
    "\n",
    "hedef_harf='d'\n",
    "if hedef_harf in liste:\n",
    "    print('buldum')\n",
    "else:\n",
    "    liste.append(hedef_harf)\n",
    "    \n",
    "    print('listeye ekledim')\n",
    "    print('güncel liste {}'.format(liste))"
   ]
  },
  {
   "cell_type": "code",
   "execution_count": 5,
   "id": "17f7feb1",
   "metadata": {},
   "outputs": [
    {
     "name": "stdout",
     "output_type": "stream",
     "text": [
      "buldum ama ilk konumda değil\n"
     ]
    }
   ],
   "source": [
    "if (hedef_harf in liste) and (hedef_harf == liste[0]):\n",
    "    print('buldum ve ilk harf konumunda')\n",
    "elif hedef_harf in liste:\n",
    "    print('buldum ama ilk konumda değil')\n",
    "else:\n",
    "    liste.append(hedef_harf)\n",
    "    \n",
    "    print('listeye ekledim')\n",
    "    print('güncel liste {}'.format(liste))"
   ]
  },
  {
   "cell_type": "code",
   "execution_count": 7,
   "id": "d0e18ac4",
   "metadata": {},
   "outputs": [
    {
     "name": "stdout",
     "output_type": "stream",
     "text": [
      "buldum ve ilk harf konumunda\n"
     ]
    }
   ],
   "source": [
    "if hedef_harf in liste:\n",
    "    print('buldum ve ilk harf konumunda')\n",
    "elif (hedef_harf in liste) and (hedef_harf == liste[0]):\n",
    "    print('buldum ama ilk konumda değil')\n",
    "else:\n",
    "    liste.append(hedef_harf)\n",
    "    \n",
    "    print('listeye ekledim')\n",
    "    print('güncel liste {}'.format(liste))\n",
    "    #python'da sorgulamaların sıralaması da önemlidir. Mesela bu durumda en üst satırı uygular ve çıkar."
   ]
  },
  {
   "cell_type": "code",
   "execution_count": null,
   "id": "7e583835",
   "metadata": {},
   "outputs": [],
   "source": []
  }
 ],
 "metadata": {
  "kernelspec": {
   "display_name": "Python 3",
   "language": "python",
   "name": "python3"
  },
  "language_info": {
   "codemirror_mode": {
    "name": "ipython",
    "version": 3
   },
   "file_extension": ".py",
   "mimetype": "text/x-python",
   "name": "python",
   "nbconvert_exporter": "python",
   "pygments_lexer": "ipython3",
   "version": "3.8.8"
  }
 },
 "nbformat": 4,
 "nbformat_minor": 5
}
