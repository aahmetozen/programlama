{
 "cells": [
  {
   "cell_type": "raw",
   "id": "bab05e0c",
   "metadata": {},
   "source": [
    "kod yazarken kodun içeriği gibi kodun okunaklılığı yani göze hoş gelmesi de önemlidir mesela aşşadaki iki hücreye bakalım"
   ]
  },
  {
   "cell_type": "code",
   "execution_count": 20,
   "id": "20e036f7",
   "metadata": {},
   "outputs": [
    {
     "data": {
      "text/plain": [
       "{'isim': 'mesut', 'yaş': 32, 'lokasyon': 'berlin'}"
      ]
     },
     "execution_count": 20,
     "metadata": {},
     "output_type": "execute_result"
    }
   ],
   "source": [
    "dict1= {'isim': 'mesut','yaş':32, 'lokasyon': 'berlin'}\n",
    "dict1"
   ]
  },
  {
   "cell_type": "code",
   "execution_count": 24,
   "id": "53075649",
   "metadata": {},
   "outputs": [
    {
     "data": {
      "text/plain": [
       "{'isim': 'mesut',\n",
       " 'yas': 32,\n",
       " 'doğduğu_şehir': 'istanbul',\n",
       " 'yaşadığı_şehir': 'berlin'}"
      ]
     },
     "execution_count": 24,
     "metadata": {},
     "output_type": "execute_result"
    }
   ],
   "source": [
    "dict2 = {\n",
    "    'isim': 'mesut',\n",
    "    'yas': 32,\n",
    "    'doğduğu_şehir': 'istanbul',\n",
    "    'yaşadığı_şehir': 'berlin'\n",
    "}\n",
    "dict2"
   ]
  },
  {
   "cell_type": "code",
   "execution_count": 26,
   "id": "36cf1a2d",
   "metadata": {},
   "outputs": [
    {
     "data": {
      "text/plain": [
       "{'isim': 'mesut',\n",
       " 'yas': 32,\n",
       " 'lokasyon': {'doğduğu_şehir': 'istanbul', 'yaşadığı_şehir': 'berlin'}}"
      ]
     },
     "execution_count": 26,
     "metadata": {},
     "output_type": "execute_result"
    }
   ],
   "source": [
    "dict3 = {\n",
    "    'isim': 'mesut',\n",
    "    'yas': 32,\n",
    "    'lokasyon': {\n",
    "        'doğduğu_şehir': 'istanbul',\n",
    "        'yaşadığı_şehir': 'berlin'\n",
    "    }               \n",
    "}\n",
    "dict3"
   ]
  },
  {
   "cell_type": "code",
   "execution_count": 29,
   "id": "195cc3f8",
   "metadata": {},
   "outputs": [
    {
     "data": {
      "text/plain": [
       "32"
      ]
     },
     "execution_count": 29,
     "metadata": {},
     "output_type": "execute_result"
    }
   ],
   "source": [
    "dict2['yas']"
   ]
  },
  {
   "cell_type": "code",
   "execution_count": 32,
   "id": "e7ca7f7b",
   "metadata": {},
   "outputs": [
    {
     "data": {
      "text/plain": [
       "'berlin'"
      ]
     },
     "execution_count": 32,
     "metadata": {},
     "output_type": "execute_result"
    }
   ],
   "source": [
    "dict3['lokasyon']['yaşadığı_şehir']"
   ]
  },
  {
   "cell_type": "code",
   "execution_count": 36,
   "id": "05f9100a",
   "metadata": {},
   "outputs": [
    {
     "data": {
      "text/plain": [
       "'berlin'"
      ]
     },
     "execution_count": 36,
     "metadata": {},
     "output_type": "execute_result"
    }
   ],
   "source": [
    "dict3.get('lokasyon').get('yaşadığı_şehir')"
   ]
  },
  {
   "cell_type": "code",
   "execution_count": 38,
   "id": "472db444",
   "metadata": {},
   "outputs": [
    {
     "data": {
      "text/plain": [
       "dict_keys(['isim', 'yas', 'lokasyon'])"
      ]
     },
     "execution_count": 38,
     "metadata": {},
     "output_type": "execute_result"
    }
   ],
   "source": [
    "dict3.keys() #anahtarları görüntüleriz."
   ]
  },
  {
   "cell_type": "code",
   "execution_count": 40,
   "id": "5e2fe6fc",
   "metadata": {},
   "outputs": [
    {
     "data": {
      "text/plain": [
       "dict_values(['mesut', 32, 'istanbul', 'berlin'])"
      ]
     },
     "execution_count": 40,
     "metadata": {},
     "output_type": "execute_result"
    }
   ],
   "source": [
    "dict2.values() #değerleri görüntüleriz."
   ]
  },
  {
   "cell_type": "code",
   "execution_count": 42,
   "id": "774864d4",
   "metadata": {},
   "outputs": [
    {
     "data": {
      "text/plain": [
       "dict_items([('isim', 'mesut'), ('yas', 32), ('doğduğu_şehir', 'istanbul'), ('yaşadığı_şehir', 'berlin')])"
      ]
     },
     "execution_count": 42,
     "metadata": {},
     "output_type": "execute_result"
    }
   ],
   "source": [
    "dict2.items() #hem anahtarları hem değerleri görüntüleriz."
   ]
  }
 ],
 "metadata": {
  "kernelspec": {
   "display_name": "Python 3",
   "language": "python",
   "name": "python3"
  },
  "language_info": {
   "codemirror_mode": {
    "name": "ipython",
    "version": 3
   },
   "file_extension": ".py",
   "mimetype": "text/x-python",
   "name": "python",
   "nbconvert_exporter": "python",
   "pygments_lexer": "ipython3",
   "version": "3.8.8"
  }
 },
 "nbformat": 4,
 "nbformat_minor": 5
}
