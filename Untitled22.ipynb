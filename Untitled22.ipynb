{
 "cells": [
  {
   "cell_type": "code",
   "execution_count": 38,
   "id": "2ef09ee7",
   "metadata": {},
   "outputs": [
    {
     "name": "stdout",
     "output_type": "stream",
     "text": [
      "1=n\n",
      "2=o\n",
      "3=l\n",
      "4=u\n",
      "5=y\n",
      "6=o\n",
      "7=l\n",
      "8=a\n",
      "9=n\n",
      "10=h\n",
      "11=e\n",
      "12=a\n",
      "13=k\n",
      "14=l\n",
      "15=s\n",
      "16=j\n",
      "17=d\n",
      "18=l\n",
      "19=a\n",
      "20=s\n",
      "21=j\n",
      "22=d\n",
      "23=a\n",
      "24=s\n"
     ]
    }
   ],
   "source": [
    "n=\"noluyolanheaklsjdlasjdas\"\n",
    "a=0\n",
    "for ch in n:\n",
    "    a+=1\n",
    "    print(str(a) + \"=\"+str(ch) )\n",
    "\n",
    "    "
   ]
  },
  {
   "cell_type": "code",
   "execution_count": 35,
   "id": "12343135",
   "metadata": {},
   "outputs": [
    {
     "name": "stdout",
     "output_type": "stream",
     "text": [
      "n\n",
      "o\n",
      "l\n",
      "u\n",
      "y\n",
      "o\n",
      "l\n",
      "a\n",
      "n\n",
      "h\n",
      "e\n",
      "a\n",
      "k\n",
      "l\n",
      "s\n",
      "j\n",
      "d\n",
      "l\n",
      "a\n",
      "s\n",
      "j\n",
      "d\n",
      "a\n",
      "s\n"
     ]
    }
   ],
   "source": [
    "n=\"noluyolanheaklsjdlasjdas\"\n",
    "for ch in n:\n",
    "    print(ch)"
   ]
  },
  {
   "cell_type": "code",
   "execution_count": 51,
   "id": "caba16cd",
   "metadata": {},
   "outputs": [
    {
     "name": "stdout",
     "output_type": "stream",
     "text": [
      "sayı giriniz=13\n",
      "2\n",
      "3\n",
      "4\n",
      "5\n",
      "6\n",
      "7\n",
      "8\n",
      "9\n",
      "10\n",
      "11\n",
      "12\n",
      "13\n",
      "sayı asal değil \n"
     ]
    }
   ],
   "source": [
    "n=int(input(\"sayı giriniz=\"))\n",
    "asal=1\n",
    "for i in range(2,n+1,1):\n",
    "    print(i)\n",
    "    if i%n==0:\n",
    "        asal=0\n",
    "\n",
    "if asal==0:        \n",
    "    print(\"sayı asal değil \")\n",
    "else:\n",
    "    print(\"sayı asal \")\n",
    "        "
   ]
  },
  {
   "cell_type": "code",
   "execution_count": null,
   "id": "eb448569",
   "metadata": {},
   "outputs": [],
   "source": []
  },
  {
   "cell_type": "code",
   "execution_count": null,
   "id": "4d1c8a91",
   "metadata": {},
   "outputs": [],
   "source": []
  }
 ],
 "metadata": {
  "kernelspec": {
   "display_name": "Python 3",
   "language": "python",
   "name": "python3"
  },
  "language_info": {
   "codemirror_mode": {
    "name": "ipython",
    "version": 3
   },
   "file_extension": ".py",
   "mimetype": "text/x-python",
   "name": "python",
   "nbconvert_exporter": "python",
   "pygments_lexer": "ipython3",
   "version": "3.8.8"
  }
 },
 "nbformat": 4,
 "nbformat_minor": 5
}
