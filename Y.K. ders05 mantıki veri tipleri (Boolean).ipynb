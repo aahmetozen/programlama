{
 "cells": [
  {
   "cell_type": "markdown",
   "id": "61a920a3",
   "metadata": {},
   "source": [
    "# boolean"
   ]
  },
  {
   "cell_type": "code",
   "execution_count": 5,
   "id": "feca6aaf",
   "metadata": {},
   "outputs": [
    {
     "name": "stdout",
     "output_type": "stream",
     "text": [
      "<class 'bool'>\n",
      "True\n",
      "False\n",
      "<class 'str'>\n"
     ]
    }
   ],
   "source": [
    "a = True\n",
    "print(type(a))\n",
    "b = False\n",
    "print(a)\n",
    "print(b)\n",
    "c = 'true'\n",
    "print(type(c))"
   ]
  },
  {
   "cell_type": "raw",
   "id": "59ab79f1",
   "metadata": {},
   "source": [
    "!! tırnak içerisinde yazdığımızda yazı tipi değişiyor \n",
    "mesaela yukarıda gördüğümüz gibi a=true yazısının tipi bool iken c='true' yazısının tipi str"
   ]
  },
  {
   "cell_type": "code",
   "execution_count": 7,
   "id": "acc73889",
   "metadata": {},
   "outputs": [
    {
     "name": "stdout",
     "output_type": "stream",
     "text": [
      "True\n"
     ]
    }
   ],
   "source": [
    "yaş1 = 20\n",
    "yaş2 = 18\n",
    "print(yaş1 > 18)"
   ]
  },
  {
   "cell_type": "code",
   "execution_count": 9,
   "id": "708ad852",
   "metadata": {},
   "outputs": [
    {
     "name": "stdout",
     "output_type": "stream",
     "text": [
      "False\n"
     ]
    }
   ],
   "source": [
    "yaş1 = 20\n",
    "yaş2 = 18\n",
    "print(yaş2 > 18)"
   ]
  },
  {
   "cell_type": "raw",
   "id": "ead1cb01",
   "metadata": {},
   "source": [
    "eşit midir diye sormak için == yazmalıyız"
   ]
  },
  {
   "cell_type": "code",
   "execution_count": 12,
   "id": "f4f15592",
   "metadata": {},
   "outputs": [
    {
     "data": {
      "text/plain": [
       "True"
      ]
     },
     "execution_count": 12,
     "metadata": {},
     "output_type": "execute_result"
    }
   ],
   "source": [
    "yaş2 == 18\n"
   ]
  },
  {
   "cell_type": "raw",
   "id": "6109dc40",
   "metadata": {},
   "source": [
    "! sonucu tesine döndürür mesela false ise true true ise false olur\n",
    "not da aynı işi yapar.\n",
    "!= (eşit değil midir)\n",
    "ancak !> veya !< diye bir ifade yoktur."
   ]
  }
 ],
 "metadata": {
  "kernelspec": {
   "display_name": "Python 3",
   "language": "python",
   "name": "python3"
  },
  "language_info": {
   "codemirror_mode": {
    "name": "ipython",
    "version": 3
   },
   "file_extension": ".py",
   "mimetype": "text/x-python",
   "name": "python",
   "nbconvert_exporter": "python",
   "pygments_lexer": "ipython3",
   "version": "3.8.8"
  }
 },
 "nbformat": 4,
 "nbformat_minor": 5
}
