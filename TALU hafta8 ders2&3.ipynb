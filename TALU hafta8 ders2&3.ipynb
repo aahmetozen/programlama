{
 "cells": [
  {
   "cell_type": "code",
   "execution_count": 1,
   "id": "7d52c5e0",
   "metadata": {},
   "outputs": [],
   "source": [
    "# A blok alt kattaki labaratuar sahab 8 akşam 5 açık zemin "
   ]
  },
  {
   "cell_type": "code",
   "execution_count": 13,
   "id": "cb2d1675",
   "metadata": {},
   "outputs": [
    {
     "name": "stdout",
     "output_type": "stream",
     "text": [
      "karakter giriniz=PC lab da 43 bilgisayar olacak.  İnternet de olacak\n",
      "kelime= 9\n",
      "rakam= 2\n",
      "karakter= 51\n"
     ]
    }
   ],
   "source": [
    "# girilen yazıda kelime,karakter ve rakam sayısını bulan program\n",
    "yazı=input(\"karakter giriniz=\")\n",
    "if len(yazı)>0:\n",
    "    kelime=1\n",
    "    rakam=0\n",
    "    for i in range(len(yazı)):\n",
    "        if yazı[i]==' ' and yazı[i-1]!=' ' and i!=0:\n",
    "            kelime+=1\n",
    "        if yazı[i] in ['0','1','2','3','4','5','6','7','8','9']:\n",
    "            rakam+=1\n",
    "    print(\"kelime=\",kelime)\n",
    "    print(\"rakam=\",rakam)\n",
    "    print(\"karakter=\",len(yazı))\n",
    "else:\n",
    "    print(\"karakter girmediniz\")\n",
    "            \n",
    "    "
   ]
  },
  {
   "cell_type": "code",
   "execution_count": 14,
   "id": "948f60eb",
   "metadata": {},
   "outputs": [],
   "source": [
    "# girilen yazıdaki aranan kelimenin önüne ve arkasına TIRNAK sembolü ekleyen program"
   ]
  },
  {
   "cell_type": "code",
   "execution_count": null,
   "id": "6398545f",
   "metadata": {},
   "outputs": [],
   "source": []
  }
 ],
 "metadata": {
  "kernelspec": {
   "display_name": "Python 3",
   "language": "python",
   "name": "python3"
  },
  "language_info": {
   "codemirror_mode": {
    "name": "ipython",
    "version": 3
   },
   "file_extension": ".py",
   "mimetype": "text/x-python",
   "name": "python",
   "nbconvert_exporter": "python",
   "pygments_lexer": "ipython3",
   "version": "3.8.8"
  }
 },
 "nbformat": 4,
 "nbformat_minor": 5
}
