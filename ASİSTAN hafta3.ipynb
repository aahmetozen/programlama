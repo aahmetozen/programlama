{
 "cells": [
  {
   "cell_type": "code",
   "execution_count": 2,
   "id": "9f05760c",
   "metadata": {},
   "outputs": [
    {
     "name": "stdout",
     "output_type": "stream",
     "text": [
      "kalem kırmızı\n",
      "kalem mavi\n",
      "kalem sarı\n",
      "masa kırmızı\n",
      "masa mavi\n",
      "masa sarı\n",
      "kitap kırmızı\n",
      "kitap mavi\n",
      "kitap sarı\n"
     ]
    }
   ],
   "source": [
    "renk=['kırmızı','mavi','sarı']\n",
    "malz=['kalem','masa','kitap']\n",
    "for malzeme in malz:\n",
    "    for renkler in renk:\n",
    "        print(malzeme,renkler)"
   ]
  },
  {
   "cell_type": "code",
   "execution_count": 4,
   "id": "695f1c67",
   "metadata": {},
   "outputs": [
    {
     "name": "stdout",
     "output_type": "stream",
     "text": [
      "son\n"
     ]
    }
   ],
   "source": [
    "for x in [1,2,3,4,5]:\n",
    "    pass\n",
    "print('son')"
   ]
  },
  {
   "cell_type": "code",
   "execution_count": 5,
   "id": "9aacebb2",
   "metadata": {},
   "outputs": [
    {
     "ename": "IndentationError",
     "evalue": "expected an indented block (<ipython-input-5-9fd3d2888487>, line 2)",
     "output_type": "error",
     "traceback": [
      "\u001b[1;36m  File \u001b[1;32m\"<ipython-input-5-9fd3d2888487>\"\u001b[1;36m, line \u001b[1;32m2\u001b[0m\n\u001b[1;33m    print('son')\u001b[0m\n\u001b[1;37m    ^\u001b[0m\n\u001b[1;31mIndentationError\u001b[0m\u001b[1;31m:\u001b[0m expected an indented block\n"
     ]
    }
   ],
   "source": [
    "for x in [1,2,3,4,5]:\n",
    "print('son')"
   ]
  },
  {
   "cell_type": "code",
   "execution_count": 8,
   "id": "75c56fb2",
   "metadata": {},
   "outputs": [
    {
     "data": {
      "text/plain": [
       "'kalem'"
      ]
     },
     "execution_count": 8,
     "metadata": {},
     "output_type": "execute_result"
    }
   ],
   "source": [
    "#iter() iterable (yinelenebilir)\n",
    "malz=['kalem','masa','kitap']\n",
    "itr=iter(malz)\n"
   ]
  },
  {
   "cell_type": "code",
   "execution_count": 10,
   "id": "2e77f91a",
   "metadata": {},
   "outputs": [
    {
     "data": {
      "text/plain": [
       "'kitap'"
      ]
     },
     "execution_count": 10,
     "metadata": {},
     "output_type": "execute_result"
    }
   ],
   "source": [
    "next(itr)"
   ]
  },
  {
   "cell_type": "code",
   "execution_count": 12,
   "id": "564cd5c3",
   "metadata": {},
   "outputs": [
    {
     "name": "stdout",
     "output_type": "stream",
     "text": [
      "1 2 3 4 5 6 7 8 9 10 11 12 13 14 15 16 17 18 19 20 21 22 23 24 25 26 27 28 29 30 31 32 33 34 35 36 37 38 39 40 41 42 43 44 45 46 47 48 49 50 51 52 53 54 55 56 57 58 59 60 61 62 63 64 65 66 67 68 69 70 71 72 73 74 75 76 77 78 79 80 81 82 83 84 85 86 87 88 89 90 91 92 93 94 95 96 97 98 99 100 "
     ]
    }
   ],
   "source": [
    "# 100'e kadar olan sayıları terminale yazdıran program\n",
    "for i in range(1,101,1):\n",
    "    print(i,end=' ')"
   ]
  },
  {
   "cell_type": "code",
   "execution_count": null,
   "id": "4357c4d3",
   "metadata": {},
   "outputs": [],
   "source": []
  }
 ],
 "metadata": {
  "kernelspec": {
   "display_name": "Python 3",
   "language": "python",
   "name": "python3"
  },
  "language_info": {
   "codemirror_mode": {
    "name": "ipython",
    "version": 3
   },
   "file_extension": ".py",
   "mimetype": "text/x-python",
   "name": "python",
   "nbconvert_exporter": "python",
   "pygments_lexer": "ipython3",
   "version": "3.8.8"
  }
 },
 "nbformat": 4,
 "nbformat_minor": 5
}
