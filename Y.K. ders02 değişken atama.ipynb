{
 "cells": [
  {
   "cell_type": "code",
   "execution_count": 5,
   "id": "c4eb1226",
   "metadata": {},
   "outputs": [
    {
     "name": "stdout",
     "output_type": "stream",
     "text": [
      "10\n"
     ]
    }
   ],
   "source": [
    "sayı = 10\n",
    "print(sayı)"
   ]
  },
  {
   "cell_type": "code",
   "execution_count": 7,
   "id": "a5eeef1f",
   "metadata": {},
   "outputs": [
    {
     "name": "stdout",
     "output_type": "stream",
     "text": [
      "11\n"
     ]
    }
   ],
   "source": [
    "sayı = 11\n",
    "print(sayı)"
   ]
  },
  {
   "cell_type": "code",
   "execution_count": 10,
   "id": "09a882c7",
   "metadata": {
    "scrolled": true
   },
   "outputs": [
    {
     "name": "stdout",
     "output_type": "stream",
     "text": [
      "14\n",
      "15\n"
     ]
    }
   ],
   "source": [
    "sayı = sayı + 1\n",
    "print(sayı)\n",
    "print(sayı + 1)"
   ]
  },
  {
   "cell_type": "code",
   "execution_count": 27,
   "id": "459e0483",
   "metadata": {},
   "outputs": [],
   "source": [
    "metin = \"kabul edilmeyen değişken seneryoları:   *sayı ile başlamak *boşluk içermek */( gibi ifadeler içermek *rezerve edilmiş isimleri kullanmak,print gibi\"\n",
    "    \n",
    "=> _ (alt çizgi)ye değer atayabiliriz. alt çizginin pyhtonda bir karşılığı yok"
   ]
  },
  {
   "cell_type": "code",
   "execution_count": 34,
   "id": "d28bbb93",
   "metadata": {},
   "outputs": [
    {
     "name": "stdout",
     "output_type": "stream",
     "text": [
      "10\n"
     ]
    }
   ],
   "source": [
    "sayi_ilk = 10\n",
    "print(sayi_ilk)"
   ]
  },
  {
   "cell_type": "code",
   "execution_count": 35,
   "id": "3a7775f3",
   "metadata": {},
   "outputs": [
    {
     "name": "stdout",
     "output_type": "stream",
     "text": [
      "20\n"
     ]
    }
   ],
   "source": [
    "sayı1 = 20\n",
    "print(sayı1)"
   ]
  }
 ],
 "metadata": {
  "kernelspec": {
   "display_name": "Python 3",
   "language": "python",
   "name": "python3"
  },
  "language_info": {
   "codemirror_mode": {
    "name": "ipython",
    "version": 3
   },
   "file_extension": ".py",
   "mimetype": "text/x-python",
   "name": "python",
   "nbconvert_exporter": "python",
   "pygments_lexer": "ipython3",
   "version": "3.8.8"
  }
 },
 "nbformat": 4,
 "nbformat_minor": 5
}
