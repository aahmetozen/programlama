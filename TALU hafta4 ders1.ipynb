{
 "cells": [
  {
   "cell_type": "code",
   "execution_count": 1,
   "id": "0eb4d69d",
   "metadata": {},
   "outputs": [],
   "source": [
    "#girilen n değerine göre fibonacci serisinin ilk n terimini hesaplayan program"
   ]
  },
  {
   "cell_type": "code",
   "execution_count": 3,
   "id": "06ed2445",
   "metadata": {},
   "outputs": [
    {
     "name": "stdout",
     "output_type": "stream",
     "text": [
      "fibonaccinin ilk n terimi için n=6\n",
      "0  1  1  2  3  5  8  13  "
     ]
    }
   ],
   "source": [
    "n=int(input(\"fibonaccinin ilk n terimi için n=\"))\n",
    "\n",
    "#fibonacci serisi önceki iki elemanın toplamıyla bulunur\n",
    "#F(n)= F(n-1)+F(n-2)\n",
    "#n=6\n",
    "#0 1 2 3 4 5 6 7  8 ...\n",
    "#0 1 1 2 3 5 8 13 21 \n",
    "\n",
    "a=0\n",
    "print(a,end=\"  \")\n",
    "b=1\n",
    "print(b,end=\"  \")\n",
    "for i in range(n):\n",
    "    f=a+b\n",
    "    print(f,end=\"  \")\n",
    "    a=b\n",
    "    b=f"
   ]
  },
  {
   "cell_type": "code",
   "execution_count": 5,
   "id": "b75d264f",
   "metadata": {},
   "outputs": [
    {
     "name": "stdout",
     "output_type": "stream",
     "text": [
      "sayı giriniz=5\n",
      "sayı giriniz=4\n",
      "sayı giriniz=8\n",
      "sayı giriniz=6\n",
      "sayı giriniz=0\n",
      "sayı giriniz=0\n",
      "sayı giriniz=-8\n",
      "sayı giriniz=-7\n",
      "sayı giriniz=-9\n",
      "p= 4\n",
      "n= 3\n",
      "s= 2\n"
     ]
    }
   ],
   "source": [
    "p=0\n",
    "n=0\n",
    "s=0\n",
    "for i in range(9) :\n",
    "    sayı=int(input(\"sayı giriniz=\"))\n",
    "    if sayı>0:\n",
    "        p=p+1\n",
    "    else:\n",
    "        if sayı<0:\n",
    "            n=n+1\n",
    "        else:\n",
    "            s=s+1\n",
    "print(\"p=\",p)\n",
    "print(\"n=\",n)\n",
    "print(\"s=\",s)\n",
    "\n",
    "            \n"
   ]
  },
  {
   "cell_type": "code",
   "execution_count": null,
   "id": "3ffd40d1",
   "metadata": {},
   "outputs": [],
   "source": []
  }
 ],
 "metadata": {
  "kernelspec": {
   "display_name": "Python 3",
   "language": "python",
   "name": "python3"
  },
  "language_info": {
   "codemirror_mode": {
    "name": "ipython",
    "version": 3
   },
   "file_extension": ".py",
   "mimetype": "text/x-python",
   "name": "python",
   "nbconvert_exporter": "python",
   "pygments_lexer": "ipython3",
   "version": "3.8.8"
  }
 },
 "nbformat": 4,
 "nbformat_minor": 5
}
