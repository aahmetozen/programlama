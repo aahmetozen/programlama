{
 "cells": [
  {
   "cell_type": "code",
   "execution_count": 9,
   "id": "c7393f20",
   "metadata": {},
   "outputs": [
    {
     "name": "stdout",
     "output_type": "stream",
     "text": [
      "maximum= 9       minimum= -8\n"
     ]
    }
   ],
   "source": [
    "l=[15,,9,-8,0,7,-4]\n",
    "min=0\n",
    "max=0\n",
    "for x in l:\n",
    "    if x<min:\n",
    "        min=x\n",
    "    if x>max:\n",
    "        max=x\n",
    "print(\"maximum=\",max,\"      minimum=\",min,)        \n",
    "   "
   ]
  },
  {
   "cell_type": "code",
   "execution_count": 6,
   "id": "354acde9",
   "metadata": {
    "scrolled": true
   },
   "outputs": [
    {
     "name": "stdout",
     "output_type": "stream",
     "text": [
      "[1, 5, 9, -8, 0, 7, -4]\n",
      "[1, 5, 9, -8, 0, 7, -4]\n",
      "[1, 5, 9, -8, 0, 7, -4]\n",
      "[1, 5, 9, -8, 0, 7, -4]\n",
      "[1, 5, 9, -8, 0, 7, -4]\n",
      "[1, 5, 9, -8, 0, 7, -4]\n",
      "[1, 5, 9, -8, 0, 7, -4]\n"
     ]
    }
   ],
   "source": [
    " l=[1,5,9,-8,0,7,-4]\n",
    "min=0\n",
    "max=0\n",
    "for x in l:\n",
    "    print(l)"
   ]
  },
  {
   "cell_type": "code",
   "execution_count": null,
   "id": "21f61db7",
   "metadata": {},
   "outputs": [],
   "source": []
  }
 ],
 "metadata": {
  "kernelspec": {
   "display_name": "Python 3",
   "language": "python",
   "name": "python3"
  },
  "language_info": {
   "codemirror_mode": {
    "name": "ipython",
    "version": 3
   },
   "file_extension": ".py",
   "mimetype": "text/x-python",
   "name": "python",
   "nbconvert_exporter": "python",
   "pygments_lexer": "ipython3",
   "version": "3.8.8"
  }
 },
 "nbformat": 4,
 "nbformat_minor": 5
}
