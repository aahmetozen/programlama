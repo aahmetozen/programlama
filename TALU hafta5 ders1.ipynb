{
 "cells": [
  {
   "cell_type": "code",
   "execution_count": 1,
   "id": "b90ea314",
   "metadata": {},
   "outputs": [],
   "source": [
    "#girilen sayının asal olup olmadığını bulan program"
   ]
  },
  {
   "cell_type": "code",
   "execution_count": 3,
   "id": "cd2e94d9",
   "metadata": {},
   "outputs": [
    {
     "name": "stdout",
     "output_type": "stream",
     "text": [
      "sayı giriniz=13\n",
      "2\n",
      "3\n",
      "4\n",
      "5\n",
      "6\n",
      "7\n",
      "8\n",
      "9\n",
      "10\n",
      "13 sayısı asal \n"
     ]
    }
   ],
   "source": [
    "n=int(input(\"sayı giriniz=\"))\n",
    "asal=1\n",
    "for i in range(2,n-2,1):\n",
    "    print(i)\n",
    "    if n%i==0:\n",
    "        asal=0\n",
    "    \n",
    "if asal==0:\n",
    "    print(n,\"sayısı asal değil\")\n",
    "else:\n",
    "    print(n,\"sayısı asal \")\n",
    "    \n"
   ]
  },
  {
   "cell_type": "code",
   "execution_count": 4,
   "id": "d4582e3c",
   "metadata": {},
   "outputs": [
    {
     "name": "stdout",
     "output_type": "stream",
     "text": [
      "sayı giriniz=360\n",
      "2\n",
      "2\n",
      "2\n",
      "3\n",
      "3\n",
      "5\n"
     ]
    }
   ],
   "source": [
    "x=int(input(\"sayı giriniz=\"))\n",
    "acarpan=2\n",
    "\n",
    "while x>1:\n",
    "    if x%acarpan == 0:\n",
    "        x=x/acarpan\n",
    "        print(acarpan)\n",
    "    else:\n",
    "        acarpan=acarpan+1\n",
    "    \n"
   ]
  },
  {
   "cell_type": "code",
   "execution_count": null,
   "id": "3163e3d7",
   "metadata": {},
   "outputs": [],
   "source": []
  }
 ],
 "metadata": {
  "kernelspec": {
   "display_name": "Python 3",
   "language": "python",
   "name": "python3"
  },
  "language_info": {
   "codemirror_mode": {
    "name": "ipython",
    "version": 3
   },
   "file_extension": ".py",
   "mimetype": "text/x-python",
   "name": "python",
   "nbconvert_exporter": "python",
   "pygments_lexer": "ipython3",
   "version": "3.8.8"
  }
 },
 "nbformat": 4,
 "nbformat_minor": 5
}
