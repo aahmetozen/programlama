{
 "cells": [
  {
   "cell_type": "code",
   "execution_count": null,
   "id": "e7b6fe2a",
   "metadata": {},
   "outputs": [],
   "source": [
    "#kullanım yapısı\n",
    "# while <şart doğruyken>:\n",
    "#    <burada yazilani yap>"
   ]
  },
  {
   "cell_type": "code",
   "execution_count": 1,
   "id": "12a8fcc6",
   "metadata": {},
   "outputs": [
    {
     "name": "stdout",
     "output_type": "stream",
     "text": [
      "0 degeri 10'dan küçüktür\n",
      "1 degeri 10'dan küçüktür\n",
      "2 degeri 10'dan küçüktür\n",
      "3 degeri 10'dan küçüktür\n",
      "4 degeri 10'dan küçüktür\n",
      "5 degeri 10'dan küçüktür\n",
      "6 degeri 10'dan küçüktür\n",
      "7 degeri 10'dan küçüktür\n",
      "8 degeri 10'dan küçüktür\n",
      "9 degeri 10'dan küçüktür\n"
     ]
    }
   ],
   "source": [
    "x = 0\n",
    "\n",
    "while x < 10:\n",
    "    print(\"{} degeri 10'dan küçüktür\".format(x))\n",
    "    x += 1"
   ]
  },
  {
   "cell_type": "code",
   "execution_count": null,
   "id": "017fb0b6",
   "metadata": {},
   "outputs": [],
   "source": [
    "#kullanım yapısı\n",
    "# while <şart doğruyken> \n",
    "#     <burada yazılanı yap>\n",
    "#else:\n",
    "#     <burada yazılanı yap>"
   ]
  },
  {
   "cell_type": "code",
   "execution_count": 2,
   "id": "d32ad14e",
   "metadata": {},
   "outputs": [
    {
     "name": "stdout",
     "output_type": "stream",
     "text": [
      "0 degeri 10'dan küçüktür\n",
      "1 degeri 10'dan küçüktür\n",
      "2 degeri 10'dan küçüktür\n",
      "3 degeri 10'dan küçüktür\n",
      "4 degeri 10'dan küçüktür\n",
      "5 degeri 10'dan küçüktür\n",
      "6 degeri 10'dan küçüktür\n",
      "7 degeri 10'dan küçüktür\n",
      "8 degeri 10'dan küçüktür\n",
      "9 degeri 10'dan küçüktür\n",
      "10 degeri 10'dan küçük değil\n"
     ]
    }
   ],
   "source": [
    "x = 0\n",
    "\n",
    "while x < 10:\n",
    "    print(\"{} degeri 10'dan küçüktür\".format(x))\n",
    "    x += 1\n",
    "else:\n",
    "    print(\"{} degeri 10'dan küçük değil\".format(x))"
   ]
  },
  {
   "cell_type": "code",
   "execution_count": 3,
   "id": "9c7777e2",
   "metadata": {},
   "outputs": [
    {
     "name": "stdout",
     "output_type": "stream",
     "text": [
      "720\n"
     ]
    }
   ],
   "source": [
    "sayi = 6\n",
    "sonuc= 1\n",
    "\n",
    "while sayi >0:\n",
    "    sonuc = sonuc * sayi\n",
    "    sayi -= 1\n",
    "print(sonuc)    "
   ]
  },
  {
   "cell_type": "code",
   "execution_count": 4,
   "id": "b5ac49e8",
   "metadata": {},
   "outputs": [
    {
     "name": "stdout",
     "output_type": "stream",
     "text": [
      "6\n",
      "30\n",
      "120\n",
      "360\n",
      "720\n",
      "720\n"
     ]
    }
   ],
   "source": [
    "sayi = 6\n",
    "sonuc= 1\n",
    "\n",
    "while sayi >0:\n",
    "    sonuc = sonuc * sayi\n",
    "    sayi -= 1\n",
    "    print(sonuc)    "
   ]
  },
  {
   "cell_type": "code",
   "execution_count": null,
   "id": "e254a60f",
   "metadata": {},
   "outputs": [],
   "source": []
  }
 ],
 "metadata": {
  "kernelspec": {
   "display_name": "Python 3",
   "language": "python",
   "name": "python3"
  },
  "language_info": {
   "codemirror_mode": {
    "name": "ipython",
    "version": 3
   },
   "file_extension": ".py",
   "mimetype": "text/x-python",
   "name": "python",
   "nbconvert_exporter": "python",
   "pygments_lexer": "ipython3",
   "version": "3.8.8"
  }
 },
 "nbformat": 4,
 "nbformat_minor": 5
}
