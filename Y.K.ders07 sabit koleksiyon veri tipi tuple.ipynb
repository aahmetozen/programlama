{
 "cells": [
  {
   "cell_type": "raw",
   "id": "947f8902",
   "metadata": {},
   "source": [
    "[a  ,  b  ,  c,  d  ,  e  ,  a]\n",
    "0  |  1  |  2  |  3  |  4  |  5 \n",
    "0  |  -5 |  -4 |  -3  | -2  | -1"
   ]
  },
  {
   "cell_type": "code",
   "execution_count": 2,
   "id": "88e6b391",
   "metadata": {},
   "outputs": [
    {
     "name": "stdout",
     "output_type": "stream",
     "text": [
      "['a', 'b', 'c', 'd', 'e', 'a']\n",
      "('a', 'b', 'c', 'd', 'e', 'a')\n"
     ]
    }
   ],
   "source": [
    "liste = ['a','b','c','d','e','a']\n",
    "print(liste)\n",
    "tup= ('a','b','c','d','e','a')\n",
    "print(tup)"
   ]
  },
  {
   "cell_type": "code",
   "execution_count": 4,
   "id": "bf017bc8",
   "metadata": {},
   "outputs": [
    {
     "data": {
      "text/plain": [
       "[12312, 'b', 'c', 'd', 'e', 'a']"
      ]
     },
     "execution_count": 4,
     "metadata": {},
     "output_type": "execute_result"
    }
   ],
   "source": [
    "liste[0]=12312\n",
    "liste"
   ]
  },
  {
   "cell_type": "code",
   "execution_count": 8,
   "id": "e9d6fcfb",
   "metadata": {},
   "outputs": [
    {
     "ename": "TypeError",
     "evalue": "'tuple' object does not support item assignment",
     "output_type": "error",
     "traceback": [
      "\u001b[1;31m---------------------------------------------------------------------------\u001b[0m",
      "\u001b[1;31mTypeError\u001b[0m                                 Traceback (most recent call last)",
      "\u001b[1;32m<ipython-input-8-44ebd9c41a5f>\u001b[0m in \u001b[0;36m<module>\u001b[1;34m\u001b[0m\n\u001b[1;32m----> 1\u001b[1;33m \u001b[0mtup\u001b[0m\u001b[1;33m[\u001b[0m\u001b[1;36m0\u001b[0m\u001b[1;33m]\u001b[0m\u001b[1;33m=\u001b[0m\u001b[1;36m12312\u001b[0m\u001b[1;33m\u001b[0m\u001b[1;33m\u001b[0m\u001b[0m\n\u001b[0m\u001b[0;32m      2\u001b[0m \u001b[0mtup\u001b[0m\u001b[1;33m\u001b[0m\u001b[1;33m\u001b[0m\u001b[0m\n",
      "\u001b[1;31mTypeError\u001b[0m: 'tuple' object does not support item assignment"
     ]
    }
   ],
   "source": [
    "tup[0]=12312\n",
    "tup"
   ]
  },
  {
   "cell_type": "raw",
   "id": "7a1b890f",
   "metadata": {},
   "source": [
    "tuple ler listeden farklı olarak değişitirilmez yukarda o yüzden uyarı verdi\n",
    "verileri saklamak isteyebileceğimiz durumlarda kullanabliriz\n",
    "mesela serverler arasında tuple kullanılabilir"
   ]
  },
  {
   "cell_type": "code",
   "execution_count": 13,
   "id": "c03621bf",
   "metadata": {},
   "outputs": [
    {
     "data": {
      "text/plain": [
       "2"
      ]
     },
     "execution_count": 13,
     "metadata": {},
     "output_type": "execute_result"
    }
   ],
   "source": [
    "#count listede elemanın kaç kez tekrar ettiğini yazar\n",
    "tup.count('a')"
   ]
  },
  {
   "cell_type": "code",
   "execution_count": 14,
   "id": "6378ba54",
   "metadata": {},
   "outputs": [
    {
     "data": {
      "text/plain": [
       "0"
      ]
     },
     "execution_count": 14,
     "metadata": {},
     "output_type": "execute_result"
    }
   ],
   "source": [
    "tup.count(True)"
   ]
  },
  {
   "cell_type": "code",
   "execution_count": 16,
   "id": "6546b9c9",
   "metadata": {},
   "outputs": [
    {
     "data": {
      "text/plain": [
       "1"
      ]
     },
     "execution_count": 16,
     "metadata": {},
     "output_type": "execute_result"
    }
   ],
   "source": [
    "#index ilk nerde gözüküyorsa orayı gösterir\n",
    "tup.index('b')"
   ]
  },
  {
   "cell_type": "code",
   "execution_count": 18,
   "id": "c64c1589",
   "metadata": {},
   "outputs": [
    {
     "data": {
      "text/plain": [
       "0"
      ]
     },
     "execution_count": 18,
     "metadata": {},
     "output_type": "execute_result"
    }
   ],
   "source": [
    "tup.index('a')"
   ]
  },
  {
   "cell_type": "code",
   "execution_count": null,
   "id": "f9cc0ace",
   "metadata": {},
   "outputs": [],
   "source": []
  }
 ],
 "metadata": {
  "kernelspec": {
   "display_name": "Python 3",
   "language": "python",
   "name": "python3"
  },
  "language_info": {
   "codemirror_mode": {
    "name": "ipython",
    "version": 3
   },
   "file_extension": ".py",
   "mimetype": "text/x-python",
   "name": "python",
   "nbconvert_exporter": "python",
   "pygments_lexer": "ipython3",
   "version": "3.8.8"
  }
 },
 "nbformat": 4,
 "nbformat_minor": 5
}
