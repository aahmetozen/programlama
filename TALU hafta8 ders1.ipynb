{
 "cells": [
  {
   "cell_type": "markdown",
   "id": "125b9de5",
   "metadata": {},
   "source": [
    "# yazı (string) proplemleri"
   ]
  },
  {
   "cell_type": "code",
   "execution_count": 2,
   "id": "2dfdfe07",
   "metadata": {},
   "outputs": [],
   "source": [
    "#girilen sayıdaki boşluk karekterini bulan program"
   ]
  },
  {
   "cell_type": "code",
   "execution_count": 12,
   "id": "b434105f",
   "metadata": {},
   "outputs": [],
   "source": [
    "# aslında string de bir listedir\n",
    "a = 'ahmet özen bir bilgisayar mühendisi öğrencisidir'\n"
   ]
  },
  {
   "cell_type": "code",
   "execution_count": 13,
   "id": "e5266a06",
   "metadata": {},
   "outputs": [
    {
     "name": "stdout",
     "output_type": "stream",
     "text": [
      "48\n"
     ]
    }
   ],
   "source": [
    "print(len(a))"
   ]
  },
  {
   "cell_type": "code",
   "execution_count": 14,
   "id": "a2b8efb3",
   "metadata": {},
   "outputs": [
    {
     "name": "stdout",
     "output_type": "stream",
     "text": [
      "boşluk sayısı: 5\n"
     ]
    }
   ],
   "source": [
    "c=0\n",
    "for x in a:\n",
    "    if x==' ':\n",
    "        c+=1\n",
    "print(\"boşluk sayısı:\",c)"
   ]
  },
  {
   "cell_type": "code",
   "execution_count": 15,
   "id": "a008b33e",
   "metadata": {},
   "outputs": [],
   "source": [
    "# girilen iki sayıyı karşılaştıran (eşit olup olmadığını bulan ) program"
   ]
  },
  {
   "cell_type": "code",
   "execution_count": 19,
   "id": "e100481e",
   "metadata": {},
   "outputs": [
    {
     "name": "stdout",
     "output_type": "stream",
     "text": [
      "s1=asdf\n",
      "s2=dfhh\n",
      "girdiğiniz kelimler eşit değildir\n"
     ]
    }
   ],
   "source": [
    "s1=str(input(\"s1=\"))\n",
    "s2=str(input(\"s2=\"))\n",
    "if s1==s2:\n",
    "    print(\"girdiğiniz kelimeler eşittir\")\n",
    "else:\n",
    "    print(\"girdiğiniz kelimler eşit değildir\")"
   ]
  },
  {
   "cell_type": "code",
   "execution_count": null,
   "id": "09020551",
   "metadata": {},
   "outputs": [
    {
     "name": "stdout",
     "output_type": "stream",
     "text": [
      "s1=fatih\n"
     ]
    }
   ],
   "source": [
    "#yukarıdaki kadar basit değil biz aslında listeleri karşılaştrdık\n",
    "s1=str(input(\"s1=\"))\n",
    "s2=str(input(\"s2=\"))\n",
    "c=0\n",
    "if len(s1)==len(s2):  # karakter uzunluğu karşılaştırılması\n",
    "    for i in range(len(s1)):\n",
    "        if s1[i]!=s2[i]:\n",
    "            c+=1\n",
    "            break\n",
    "else:\n",
    "    c=1\n",
    "        \n",
    "if c==0:\n",
    "    print(\"cümleler eşit\")\n",
    "else:\n",
    "    print(\"cümler eşit değil\")"
   ]
  },
  {
   "cell_type": "code",
   "execution_count": null,
   "id": "19f3af78",
   "metadata": {},
   "outputs": [],
   "source": []
  }
 ],
 "metadata": {
  "kernelspec": {
   "display_name": "Python 3",
   "language": "python",
   "name": "python3"
  },
  "language_info": {
   "codemirror_mode": {
    "name": "ipython",
    "version": 3
   },
   "file_extension": ".py",
   "mimetype": "text/x-python",
   "name": "python",
   "nbconvert_exporter": "python",
   "pygments_lexer": "ipython3",
   "version": "3.8.8"
  }
 },
 "nbformat": 4,
 "nbformat_minor": 5
}
