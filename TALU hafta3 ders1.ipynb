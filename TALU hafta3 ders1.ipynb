{
 "cells": [
  {
   "cell_type": "code",
   "execution_count": 1,
   "id": "8a88ce27",
   "metadata": {},
   "outputs": [
    {
     "name": "stdout",
     "output_type": "stream",
     "text": [
      "sayı giriniz15\n",
      "sayı giriniz14\n",
      "sayı giriniz16\n",
      "en büyük sayı=16\n"
     ]
    }
   ],
   "source": [
    "s1=int(input(\"sayı giriniz\"))\n",
    "s2=int(input(\"sayı giriniz\"))\n",
    "s3=int(input(\"sayı giriniz\"))\n",
    "if s1>s2 and s1>s3:\n",
    "    print(\"en büyük sayı={0}\".format(s1))\n",
    "elif s2>s3:\n",
    "    print(\"en büyük sayı={0}\".format(s2))\n",
    "else:\n",
    "    print(\"en büyük sayı={0}\".format(s3))"
   ]
  },
  {
   "cell_type": "code",
   "execution_count": 8,
   "id": "6d2fb7dd",
   "metadata": {},
   "outputs": [
    {
     "name": "stdout",
     "output_type": "stream",
     "text": [
      "maaşınızı girin=100\n",
      "çocuk sayısı girin=0\n",
      "100\n"
     ]
    }
   ],
   "source": [
    "ıscınıneskımaası=int(input(\"maaşınızı girin=\"))\n",
    "cocuksayısı=int(input(\"çocuk sayısı girin=\"))\n",
    "ıscınıneskımaası=ıscınıneskımaası;\n",
    "print(ıscınıneskımaası)\n",
    "if cocuksayısı==1:\n",
    "    ıscınıneskımaası=ıscınıneskımaası*1.05\n",
    "    print(ıscınıneskımaası)\n",
    "elif cocuksayısı==2:\n",
    "    ıscınıneskımaası=ıscınıneskımaası*1.10\n",
    "    print(ıscınıneskımaası)\n",
    "elif cocuksayısı==3:\n",
    "    ıscınıneskımaası=ıscınıneskımaası*1.15\n",
    "    print(ıscınıneskımaası)"
   ]
  },
  {
   "cell_type": "code",
   "execution_count": null,
   "id": "f93a0f79",
   "metadata": {},
   "outputs": [],
   "source": []
  },
  {
   "cell_type": "code",
   "execution_count": null,
   "id": "b97855c9",
   "metadata": {},
   "outputs": [],
   "source": []
  }
 ],
 "metadata": {
  "kernelspec": {
   "display_name": "Python 3",
   "language": "python",
   "name": "python3"
  },
  "language_info": {
   "codemirror_mode": {
    "name": "ipython",
    "version": 3
   },
   "file_extension": ".py",
   "mimetype": "text/x-python",
   "name": "python",
   "nbconvert_exporter": "python",
   "pygments_lexer": "ipython3",
   "version": "3.8.8"
  }
 },
 "nbformat": 4,
 "nbformat_minor": 5
}
