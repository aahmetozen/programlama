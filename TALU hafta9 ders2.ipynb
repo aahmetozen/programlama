{
 "cells": [
  {
   "cell_type": "code",
   "execution_count": 4,
   "id": "849d334a",
   "metadata": {},
   "outputs": [],
   "source": [
    "# ilk n asal sayısını listeleyen program\n"
   ]
  },
  {
   "cell_type": "code",
   "execution_count": 11,
   "id": "7b3f7dc8",
   "metadata": {},
   "outputs": [],
   "source": [
    "def asalmi(sayi):\n",
    "    sonuc=1\n",
    "    for i in range(2,sayi):\n",
    "        if sayi % i == 0:\n",
    "            sonuc=0\n",
    "            break\n",
    "    return sonuc             "
   ]
  },
  {
   "cell_type": "code",
   "execution_count": 12,
   "id": "de3940d1",
   "metadata": {},
   "outputs": [
    {
     "name": "stdout",
     "output_type": "stream",
     "text": [
      "kaç asal sayı bulayım:5\n",
      "2\n",
      "3\n",
      "5\n",
      "7\n",
      "11\n"
     ]
    }
   ],
   "source": [
    "c=0\n",
    "n=int(input(\"kaç asal sayı bulayım:\"))\n",
    "sayi=2\n",
    "while n>c:\n",
    "    if asalmi(sayi) == 1:\n",
    "        print(sayi)\n",
    "        c+=1\n",
    "    sayi+=1    "
   ]
  },
  {
   "cell_type": "code",
   "execution_count": 13,
   "id": "1874ab9b",
   "metadata": {},
   "outputs": [],
   "source": [
    "# girilen sayının kaç faktoriyel olduğunu bulan program"
   ]
  },
  {
   "cell_type": "code",
   "execution_count": 40,
   "id": "38b854c2",
   "metadata": {},
   "outputs": [],
   "source": [
    "def fak(n):\n",
    "    sonuc = 1\n",
    "    for i in range(n,1,-1):\n",
    "        sonuc*=i\n",
    "    return (sonuc)    "
   ]
  },
  {
   "cell_type": "code",
   "execution_count": 41,
   "id": "8e9a5b4a",
   "metadata": {},
   "outputs": [
    {
     "name": "stdout",
     "output_type": "stream",
     "text": [
      "bir sayı giriniz:5\n",
      "2!-3!\n"
     ]
    }
   ],
   "source": [
    "n=int(input(\"bir sayı giriniz:\"))\n",
    "c=2\n",
    "while c<n:\n",
    "    if n == fak(c):\n",
    "        print(str(c)+'!')\n",
    "        break\n",
    "    else:\n",
    "        if n<fak(c):\n",
    "            print(str(c-1)+'!-'+str(c)+'!')\n",
    "            break\n",
    "    c+=1        "
   ]
  },
  {
   "cell_type": "code",
   "execution_count": null,
   "id": "4e263277",
   "metadata": {},
   "outputs": [],
   "source": []
  },
  {
   "cell_type": "code",
   "execution_count": 28,
   "id": "6a695c11",
   "metadata": {},
   "outputs": [],
   "source": [
    "def faktoriyel(sayi):\n",
    "    sonuc=1\n",
    "    for i in range(sayi,1,-1):\n",
    "        sonuc=sonuc*i\n",
    "    return(sonuc)        "
   ]
  },
  {
   "cell_type": "code",
   "execution_count": 38,
   "id": "3d4cb297",
   "metadata": {},
   "outputs": [
    {
     "name": "stdout",
     "output_type": "stream",
     "text": [
      "sayı giriniz:4\n",
      "4 != 24\n"
     ]
    }
   ],
   "source": [
    "sayi=int(input(\"sayı giriniz:\"))\n",
    "print(sayi,\"!=\",faktoriyel(sayi))"
   ]
  }
 ],
 "metadata": {
  "kernelspec": {
   "display_name": "Python 3",
   "language": "python",
   "name": "python3"
  },
  "language_info": {
   "codemirror_mode": {
    "name": "ipython",
    "version": 3
   },
   "file_extension": ".py",
   "mimetype": "text/x-python",
   "name": "python",
   "nbconvert_exporter": "python",
   "pygments_lexer": "ipython3",
   "version": "3.8.8"
  }
 },
 "nbformat": 4,
 "nbformat_minor": 5
}
