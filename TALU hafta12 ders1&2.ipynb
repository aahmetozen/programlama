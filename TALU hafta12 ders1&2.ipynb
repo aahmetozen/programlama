{
 "cells": [
  {
   "cell_type": "code",
   "execution_count": 3,
   "id": "50d93dbb",
   "metadata": {},
   "outputs": [],
   "source": [
    "# matrislerde toplama\n",
    "def zeros_matrix(rows, cols):\n",
    "    M=[]\n",
    "    while len(M) < rows:\n",
    "        M.append([])\n",
    "        while len(M[-1]) < cols:\n",
    "            M[-1].append(0.0)\n",
    "            \n",
    "    return M        "
   ]
  },
  {
   "cell_type": "code",
   "execution_count": 6,
   "id": "39fc3042",
   "metadata": {},
   "outputs": [
    {
     "name": "stdout",
     "output_type": "stream",
     "text": [
      "[[0.0, 0.0, 0.0, 0.0], [0.0, 0.0, 0.0, 0.0], [0.0, 0.0, 0.0, 0.0], [0.0, 0.0, 0.0, 0.0], [0.0, 0.0, 0.0, 0.0]]\n"
     ]
    }
   ],
   "source": [
    "print(zeros_matrix(5,4))"
   ]
  },
  {
   "cell_type": "code",
   "execution_count": 7,
   "id": "50bb6bfc",
   "metadata": {},
   "outputs": [],
   "source": [
    "import random"
   ]
  },
  {
   "cell_type": "code",
   "execution_count": 8,
   "id": "cee12c9d",
   "metadata": {},
   "outputs": [
    {
     "data": {
      "text/plain": [
       "0.7273435793888215"
      ]
     },
     "execution_count": 8,
     "metadata": {},
     "output_type": "execute_result"
    }
   ],
   "source": [
    "random.random() #rastgele sayılar verir"
   ]
  },
  {
   "cell_type": "code",
   "execution_count": 15,
   "id": "60b36678",
   "metadata": {},
   "outputs": [
    {
     "data": {
      "text/plain": [
       "10"
      ]
     },
     "execution_count": 15,
     "metadata": {},
     "output_type": "execute_result"
    }
   ],
   "source": [
    "round(random.random()*10) #rastgele tam sayılar verir (0 ile 10 arasında)"
   ]
  },
  {
   "cell_type": "code",
   "execution_count": 18,
   "id": "f3511a25",
   "metadata": {},
   "outputs": [
    {
     "name": "stdout",
     "output_type": "stream",
     "text": [
      "[[6, 6, 8], [1, 7, 7]]\n"
     ]
    }
   ],
   "source": [
    "N=2\n",
    "M=3\n",
    "A=[[round(random.random()*10) for i in range (M)] for j in range (N)]\n",
    "print(A)\n"
   ]
  },
  {
   "cell_type": "code",
   "execution_count": null,
   "id": "5462b685",
   "metadata": {},
   "outputs": [],
   "source": []
  }
 ],
 "metadata": {
  "kernelspec": {
   "display_name": "Python 3",
   "language": "python",
   "name": "python3"
  },
  "language_info": {
   "codemirror_mode": {
    "name": "ipython",
    "version": 3
   },
   "file_extension": ".py",
   "mimetype": "text/x-python",
   "name": "python",
   "nbconvert_exporter": "python",
   "pygments_lexer": "ipython3",
   "version": "3.8.8"
  }
 },
 "nbformat": 4,
 "nbformat_minor": 5
}
