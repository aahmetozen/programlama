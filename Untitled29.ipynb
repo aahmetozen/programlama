{
 "cells": [
  {
   "cell_type": "code",
   "execution_count": 2,
   "id": "8de29dba",
   "metadata": {},
   "outputs": [],
   "source": [
    "#fonksiyonlar"
   ]
  },
  {
   "cell_type": "code",
   "execution_count": 8,
   "id": "12783f1d",
   "metadata": {},
   "outputs": [],
   "source": [
    "def bes_bastır():\n",
    "    \"\"\"\n",
    "    kime ne ettin amk \n",
    "\n",
    "\n",
    "    \"\"\"\n",
    "    print(5)"
   ]
  },
  {
   "cell_type": "code",
   "execution_count": 9,
   "id": "ba4506bf",
   "metadata": {},
   "outputs": [
    {
     "name": "stdout",
     "output_type": "stream",
     "text": [
      "5\n"
     ]
    }
   ],
   "source": [
    "bes_bastır()"
   ]
  },
  {
   "cell_type": "code",
   "execution_count": 11,
   "id": "e1177792",
   "metadata": {},
   "outputs": [],
   "source": [
    "def buyuk_sayı_döndür(a,b):\n",
    "    if a>b:\n",
    "        return a\n",
    "    else:\n",
    "        if a==b:\n",
    "            print(\"sayılar eşit\")\n",
    "        else:\n",
    "            return b"
   ]
  },
  {
   "cell_type": "code",
   "execution_count": 14,
   "id": "e796c558",
   "metadata": {},
   "outputs": [
    {
     "data": {
      "text/plain": [
       "50"
      ]
     },
     "execution_count": 14,
     "metadata": {},
     "output_type": "execute_result"
    }
   ],
   "source": [
    "buyuk_sayı_döndür(50,41)"
   ]
  },
  {
   "cell_type": "code",
   "execution_count": 24,
   "id": "a8f04e10",
   "metadata": {},
   "outputs": [
    {
     "name": "stdout",
     "output_type": "stream",
     "text": [
      "bir sayı giriniz45\n",
      "bir sayı giriniz55\n"
     ]
    }
   ],
   "source": [
    "a=str(input(\"bir sayı giriniz\"))\n",
    "b=str(input(\"bir sayı giriniz\"))"
   ]
  },
  {
   "cell_type": "code",
   "execution_count": 25,
   "id": "0ec02334",
   "metadata": {},
   "outputs": [
    {
     "ename": "TypeError",
     "evalue": "buyuk_sayı_döndür() missing 2 required positional arguments: 'a' and 'b'",
     "output_type": "error",
     "traceback": [
      "\u001b[1;31m---------------------------------------------------------------------------\u001b[0m",
      "\u001b[1;31mTypeError\u001b[0m                                 Traceback (most recent call last)",
      "\u001b[1;32m<ipython-input-25-fe8cb930d3f5>\u001b[0m in \u001b[0;36m<module>\u001b[1;34m\u001b[0m\n\u001b[1;32m----> 1\u001b[1;33m \u001b[0mbuyuk_sayı_döndür\u001b[0m\u001b[1;33m(\u001b[0m\u001b[1;33m)\u001b[0m\u001b[1;33m\u001b[0m\u001b[1;33m\u001b[0m\u001b[0m\n\u001b[0m",
      "\u001b[1;31mTypeError\u001b[0m: buyuk_sayı_döndür() missing 2 required positional arguments: 'a' and 'b'"
     ]
    }
   ],
   "source": [
    "buyuk_sayı_döndür()"
   ]
  },
  {
   "cell_type": "code",
   "execution_count": null,
   "id": "c4748455",
   "metadata": {},
   "outputs": [],
   "source": []
  }
 ],
 "metadata": {
  "kernelspec": {
   "display_name": "Python 3",
   "language": "python",
   "name": "python3"
  },
  "language_info": {
   "codemirror_mode": {
    "name": "ipython",
    "version": 3
   },
   "file_extension": ".py",
   "mimetype": "text/x-python",
   "name": "python",
   "nbconvert_exporter": "python",
   "pygments_lexer": "ipython3",
   "version": "3.8.8"
  }
 },
 "nbformat": 4,
 "nbformat_minor": 5
}
