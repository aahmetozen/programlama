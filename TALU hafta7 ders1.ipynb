{
 "cells": [
  {
   "cell_type": "markdown",
   "id": "0d4d7600",
   "metadata": {},
   "source": [
    "# liste (dizi) işlemleri"
   ]
  },
  {
   "cell_type": "code",
   "execution_count": 8,
   "id": "26e2ec3f",
   "metadata": {},
   "outputs": [
    {
     "name": "stdout",
     "output_type": "stream",
     "text": [
      "ahmet özen\n",
      "19\n",
      "turgay\n",
      "1.78\n"
     ]
    }
   ],
   "source": [
    "isim='ahmet özen'\n",
    "yas=19\n",
    "babaadı='turgay'\n",
    "boy=1.78\n",
    "\n",
    "liste=['ahmet özen',19,'turgay',1.78]\n",
    "for i in range(0,4):\n",
    "    print(liste[i])"
   ]
  },
  {
   "cell_type": "code",
   "execution_count": 9,
   "id": "c6fb742a",
   "metadata": {},
   "outputs": [
    {
     "name": "stdout",
     "output_type": "stream",
     "text": [
      "ahmet özen\n",
      "19\n",
      "turgay\n",
      "1.78\n"
     ]
    }
   ],
   "source": [
    "print(isim)\n",
    "print(yas)\n",
    "print(babaadı)\n",
    "print(boy)"
   ]
  },
  {
   "cell_type": "code",
   "execution_count": 10,
   "id": "0e6e848b",
   "metadata": {},
   "outputs": [
    {
     "name": "stdout",
     "output_type": "stream",
     "text": [
      "silmeden önce: ['ahmet', 78, 'noluyo lan he', 35]\n",
      "silmeden sonra: ['ahmet', 78, 35]\n"
     ]
    }
   ],
   "source": [
    "list=['ahmet',78,'noluyo lan he',35]\n",
    "print(\"silmeden önce:\",list)\n",
    "\n",
    "del list[2]\n",
    "print(\"silmeden sonra:\", list)"
   ]
  },
  {
   "cell_type": "code",
   "execution_count": 12,
   "id": "12644939",
   "metadata": {},
   "outputs": [
    {
     "name": "stdout",
     "output_type": "stream",
     "text": [
      "False\n"
     ]
    }
   ],
   "source": [
    "print('noluyo lan he' in list)"
   ]
  },
  {
   "cell_type": "code",
   "execution_count": 14,
   "id": "eb0ccdb9",
   "metadata": {},
   "outputs": [
    {
     "name": "stdout",
     "output_type": "stream",
     "text": [
      "1.78\n",
      "turgay\n",
      "19\n",
      "ahmet özen\n"
     ]
    }
   ],
   "source": [
    "liste=['ahmet özen',19,'turgay',1.78]\n",
    "for i in range(1,5):\n",
    "    print(liste[-i])"
   ]
  },
  {
   "cell_type": "code",
   "execution_count": 15,
   "id": "4a12bd4e",
   "metadata": {},
   "outputs": [
    {
     "name": "stdout",
     "output_type": "stream",
     "text": [
      "3\n"
     ]
    }
   ],
   "source": [
    "print(len(list))"
   ]
  },
  {
   "cell_type": "code",
   "execution_count": 27,
   "id": "1f5edddf",
   "metadata": {},
   "outputs": [
    {
     "name": "stdout",
     "output_type": "stream",
     "text": [
      "-78\n",
      "55\n"
     ]
    }
   ],
   "source": [
    "list=[1,55,44,-78]\n",
    "print(min(list))\n",
    "print(max(list))"
   ]
  },
  {
   "cell_type": "code",
   "execution_count": 28,
   "id": "10375c49",
   "metadata": {},
   "outputs": [
    {
     "name": "stdout",
     "output_type": "stream",
     "text": [
      "[1, 55, 44, -78, 48]\n"
     ]
    }
   ],
   "source": [
    "list.append(48)\n",
    "print(list)"
   ]
  },
  {
   "cell_type": "code",
   "execution_count": 29,
   "id": "aa387114",
   "metadata": {},
   "outputs": [
    {
     "data": {
      "text/plain": [
       "1"
      ]
     },
     "execution_count": 29,
     "metadata": {},
     "output_type": "execute_result"
    }
   ],
   "source": [
    "list.count(44) #listede elemandan kaç tane olduğunu gösterir"
   ]
  },
  {
   "cell_type": "code",
   "execution_count": 30,
   "id": "1d9340f3",
   "metadata": {},
   "outputs": [
    {
     "data": {
      "text/plain": [
       "2"
      ]
     },
     "execution_count": 30,
     "metadata": {},
     "output_type": "execute_result"
    }
   ],
   "source": [
    "list.index(44)"
   ]
  },
  {
   "cell_type": "code",
   "execution_count": 39,
   "id": "ea774ed1",
   "metadata": {},
   "outputs": [
    {
     "name": "stdout",
     "output_type": "stream",
     "text": [
      "-78\n",
      "1\n",
      "44\n",
      "55\n"
     ]
    }
   ],
   "source": [
    "i=iter(list)\n",
    "print(next(i))\n",
    "print(next(i))\n",
    "print(next(i))\n",
    "print(next(i))"
   ]
  },
  {
   "cell_type": "code",
   "execution_count": 44,
   "id": "241c4bb4",
   "metadata": {},
   "outputs": [
    {
     "name": "stdout",
     "output_type": "stream",
     "text": [
      "1 55 44 -78 "
     ]
    }
   ],
   "source": [
    "list=[1,55,44,-78]\n",
    "i=iter(list)\n",
    "for x in i:\n",
    "    print(x,end=\" \")"
   ]
  },
  {
   "cell_type": "code",
   "execution_count": null,
   "id": "d08adaa1",
   "metadata": {},
   "outputs": [],
   "source": []
  }
 ],
 "metadata": {
  "kernelspec": {
   "display_name": "Python 3",
   "language": "python",
   "name": "python3"
  },
  "language_info": {
   "codemirror_mode": {
    "name": "ipython",
    "version": 3
   },
   "file_extension": ".py",
   "mimetype": "text/x-python",
   "name": "python",
   "nbconvert_exporter": "python",
   "pygments_lexer": "ipython3",
   "version": "3.8.8"
  }
 },
 "nbformat": 4,
 "nbformat_minor": 5
}
