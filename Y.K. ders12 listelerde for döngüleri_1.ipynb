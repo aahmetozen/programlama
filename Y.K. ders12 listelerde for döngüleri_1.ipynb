{
 "cells": [
  {
   "cell_type": "raw",
   "id": "eda71c74",
   "metadata": {},
   "source": [
    "Kullanım yapısı\n",
    "\n",
    "for <değişken> in <iterable>:\n",
    "    <buraya yazılanı yap>"
   ]
  },
  {
   "cell_type": "code",
   "execution_count": 3,
   "id": "fe189230",
   "metadata": {},
   "outputs": [],
   "source": [
    "hackerler=[\"ahmet\",\"buğra\",\"barış\",\"yakup\",\"zehra\",\"elvan\"]"
   ]
  },
  {
   "cell_type": "code",
   "execution_count": 4,
   "id": "2b4d581d",
   "metadata": {},
   "outputs": [
    {
     "name": "stdout",
     "output_type": "stream",
     "text": [
      "ahmet\n",
      "buğra\n",
      "barış\n",
      "yakup\n",
      "zehra\n",
      "elvan\n"
     ]
    }
   ],
   "source": [
    "for kullanici in hackerler:\n",
    "    print(kullanici)"
   ]
  },
  {
   "cell_type": "code",
   "execution_count": 5,
   "id": "9a3cc35d",
   "metadata": {},
   "outputs": [
    {
     "name": "stdout",
     "output_type": "stream",
     "text": [
      "1 ahmet\n",
      "2 buğra\n",
      "3 barış\n",
      "4 yakup\n",
      "5 zehra\n",
      "6 elvan\n"
     ]
    }
   ],
   "source": [
    "kullanici_sayisi=0\n",
    "for kullanici in hackerler:\n",
    "    kullanici_sayisi = kullanici_sayisi + 1\n",
    "    print(kullanici_sayisi, kullanici)"
   ]
  },
  {
   "cell_type": "code",
   "execution_count": 6,
   "id": "5226282c",
   "metadata": {},
   "outputs": [
    {
     "name": "stdout",
     "output_type": "stream",
     "text": [
      "0 ahmet\n",
      "1 buğra\n",
      "2 barış\n",
      "3 yakup\n",
      "4 zehra\n",
      "5 elvan\n"
     ]
    }
   ],
   "source": [
    "kullanici_sayisi=0\n",
    "for kullanici in hackerler:\n",
    "   \n",
    "    print(kullanici_sayisi, kullanici)\n",
    "    kullanici_sayisi = kullanici_sayisi + 1"
   ]
  },
  {
   "cell_type": "code",
   "execution_count": 7,
   "id": "696a2008",
   "metadata": {},
   "outputs": [
    {
     "data": {
      "text/plain": [
       "['ahmet']"
      ]
     },
     "execution_count": 7,
     "metadata": {},
     "output_type": "execute_result"
    }
   ],
   "source": [
    "hackerler[0].split()"
   ]
  },
  {
   "cell_type": "code",
   "execution_count": null,
   "id": "2774900e",
   "metadata": {},
   "outputs": [],
   "source": [
    "kullanici_sayisi=0\n",
    "\n",
    "for kullanici in hackerler:\n",
    "    kullanici_sayisi = kullanici_sayisi + 1\n",
    "    \n",
    "    print(kullanici_sayisi, kullanici)"
   ]
  }
 ],
 "metadata": {
  "kernelspec": {
   "display_name": "Python 3",
   "language": "python",
   "name": "python3"
  },
  "language_info": {
   "codemirror_mode": {
    "name": "ipython",
    "version": 3
   },
   "file_extension": ".py",
   "mimetype": "text/x-python",
   "name": "python",
   "nbconvert_exporter": "python",
   "pygments_lexer": "ipython3",
   "version": "3.8.8"
  }
 },
 "nbformat": 4,
 "nbformat_minor": 5
}
