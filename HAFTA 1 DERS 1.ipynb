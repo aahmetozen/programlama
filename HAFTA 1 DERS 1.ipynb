{
 "cells": [
  {
   "cell_type": "markdown",
   "id": "4d0e35cb",
   "metadata": {},
   "source": [
    "HAFTA 1 DERS 1"
   ]
  },
  {
   "cell_type": "raw",
   "id": "e6c6b8a7",
   "metadata": {},
   "source": [
    "muhammed fatih özdemir hoca email\n",
    "mfatih.ozdemir@inönü.edu.tr"
   ]
  },
  {
   "cell_type": "code",
   "execution_count": 3,
   "id": "bd3863c1",
   "metadata": {},
   "outputs": [
    {
     "name": "stdout",
     "output_type": "stream",
     "text": [
      "hello world inönü üniversitesi\n"
     ]
    }
   ],
   "source": [
    "print(\"hello\",\"world\",\"inönü\",\"üniversitesi\",sep=' ')"
   ]
  },
  {
   "cell_type": "code",
   "execution_count": 5,
   "id": "6f2d1758",
   "metadata": {},
   "outputs": [
    {
     "name": "stdout",
     "output_type": "stream",
     "text": [
      "12345\n",
      "<class 'int'>\n"
     ]
    }
   ],
   "source": [
    "number=12345\n",
    "print(number)\n",
    "print(type(number))"
   ]
  },
  {
   "cell_type": "raw",
   "id": "df8f2ae6",
   "metadata": {},
   "source": [
    "integer--->tam sayılar\n",
    "string---->harf"
   ]
  },
  {
   "cell_type": "code",
   "execution_count": 13,
   "id": "4353f1a3",
   "metadata": {},
   "outputs": [
    {
     "name": "stdout",
     "output_type": "stream",
     "text": [
      "hello world1\n",
      "hello world2\n"
     ]
    }
   ],
   "source": [
    "print(\"hello\",\"world1\",end='\\n')\n",
    "print(\"hello\",\"world2\",end='\\n')"
   ]
  },
  {
   "cell_type": "code",
   "execution_count": 12,
   "id": "99accd44",
   "metadata": {},
   "outputs": [
    {
     "name": "stdout",
     "output_type": "stream",
     "text": [
      "hello world1hello world2\n"
     ]
    }
   ],
   "source": [
    "print(\"hello\",\"world1\",end='')\n",
    "print(\"hello\",\"world2\",end='\\n')"
   ]
  },
  {
   "cell_type": "code",
   "execution_count": 14,
   "id": "9f24040e",
   "metadata": {},
   "outputs": [
    {
     "name": "stdout",
     "output_type": "stream",
     "text": [
      "9.5\n"
     ]
    }
   ],
   "source": [
    "print(4+5.5)"
   ]
  },
  {
   "cell_type": "code",
   "execution_count": 16,
   "id": "7e424098",
   "metadata": {},
   "outputs": [
    {
     "name": "stdout",
     "output_type": "stream",
     "text": [
      "65\n"
     ]
    }
   ],
   "source": [
    "print(ord('A'))\n",
    "#ASCII tablosundaki karşılığı "
   ]
  },
  {
   "cell_type": "code",
   "execution_count": 18,
   "id": "08f958e0",
   "metadata": {},
   "outputs": [],
   "source": [
    "import math"
   ]
  },
  {
   "cell_type": "code",
   "execution_count": 19,
   "id": "eaec097b",
   "metadata": {},
   "outputs": [
    {
     "name": "stdout",
     "output_type": "stream",
     "text": [
      "24\n"
     ]
    }
   ],
   "source": [
    "print(math.ceil(23.43))\n",
    "#ceil sayıyı yuvarlar"
   ]
  },
  {
   "cell_type": "code",
   "execution_count": 20,
   "id": "3826839c",
   "metadata": {},
   "outputs": [
    {
     "name": "stdout",
     "output_type": "stream",
     "text": [
      "26\n"
     ]
    }
   ],
   "source": [
    "print(abs(-26))\n",
    "#abs mutlak değerini alır"
   ]
  },
  {
   "cell_type": "code",
   "execution_count": 22,
   "id": "070d89fa",
   "metadata": {},
   "outputs": [
    {
     "data": {
      "text/plain": [
       "1024.0"
      ]
     },
     "execution_count": 22,
     "metadata": {},
     "output_type": "execute_result"
    }
   ],
   "source": [
    "math.pow(2,10)\n",
    "# yazdığımız değerin üslü kuvvetini alır."
   ]
  },
  {
   "cell_type": "code",
   "execution_count": 24,
   "id": "04406fd9",
   "metadata": {},
   "outputs": [
    {
     "data": {
      "text/plain": [
       "1024"
      ]
     },
     "execution_count": 24,
     "metadata": {},
     "output_type": "execute_result"
    }
   ],
   "source": [
    "2**10\n",
    "#bu ifade de yazdığımız değerin üssünü alır."
   ]
  },
  {
   "cell_type": "code",
   "execution_count": 25,
   "id": "bddee928",
   "metadata": {},
   "outputs": [],
   "source": [
    "import random\n"
   ]
  },
  {
   "cell_type": "code",
   "execution_count": 26,
   "id": "4afc4131",
   "metadata": {},
   "outputs": [
    {
     "name": "stdout",
     "output_type": "stream",
     "text": [
      "['BPF', 'LOG4', 'NV_MAGICCONST', 'RECIP_BPF', 'Random', 'SG_MAGICCONST', 'SystemRandom', 'TWOPI', '_Sequence', '_Set', '__all__', '__builtins__', '__cached__', '__doc__', '__file__', '__loader__', '__name__', '__package__', '__spec__', '_accumulate', '_acos', '_bisect', '_ceil', '_cos', '_e', '_exp', '_inst', '_log', '_os', '_pi', '_random', '_repeat', '_sha512', '_sin', '_sqrt', '_test', '_test_generator', '_urandom', '_warn', 'betavariate', 'choice', 'choices', 'expovariate', 'gammavariate', 'gauss', 'getrandbits', 'getstate', 'lognormvariate', 'normalvariate', 'paretovariate', 'randint', 'random', 'randrange', 'sample', 'seed', 'setstate', 'shuffle', 'triangular', 'uniform', 'vonmisesvariate', 'weibullvariate']\n"
     ]
    }
   ],
   "source": [
    "print(dir(random))"
   ]
  },
  {
   "cell_type": "code",
   "execution_count": 34,
   "id": "0b481359",
   "metadata": {},
   "outputs": [
    {
     "data": {
      "text/plain": [
       "0.16234500506317207"
      ]
     },
     "execution_count": 34,
     "metadata": {},
     "output_type": "execute_result"
    }
   ],
   "source": [
    "random.random()\n",
    "#her sfereinde rastgele sayılar oluşturur."
   ]
  },
  {
   "cell_type": "code",
   "execution_count": 35,
   "id": "f05af8b7",
   "metadata": {},
   "outputs": [
    {
     "data": {
      "text/plain": [
       "6"
      ]
     },
     "execution_count": 35,
     "metadata": {},
     "output_type": "execute_result"
    }
   ],
   "source": [
    "random.choice([1,2,3,4,5,6])\n",
    "#oluşturduğum liste içinden rastgele ifadeler verir."
   ]
  },
  {
   "cell_type": "raw",
   "id": "a3454046",
   "metadata": {},
   "source": []
  }
 ],
 "metadata": {
  "kernelspec": {
   "display_name": "Python 3",
   "language": "python",
   "name": "python3"
  },
  "language_info": {
   "codemirror_mode": {
    "name": "ipython",
    "version": 3
   },
   "file_extension": ".py",
   "mimetype": "text/x-python",
   "name": "python",
   "nbconvert_exporter": "python",
   "pygments_lexer": "ipython3",
   "version": "3.8.8"
  }
 },
 "nbformat": 4,
 "nbformat_minor": 5
}
