{
 "cells": [
  {
   "cell_type": "code",
   "execution_count": 1,
   "id": "51c7e372",
   "metadata": {},
   "outputs": [],
   "source": [
    "# kullanıcı tarafından girilen tam sayı değerinden küçük pozitif tam sayıların\n",
    "# karesini bulan program"
   ]
  },
  {
   "cell_type": "code",
   "execution_count": 1,
   "id": "d47193fb",
   "metadata": {},
   "outputs": [
    {
     "name": "stdout",
     "output_type": "stream",
     "text": [
      "sayı giriniz=6\n",
      "[1, 4, 9, 16, 25]\n"
     ]
    }
   ],
   "source": [
    "sayı=int(input(\"sayı giriniz=\"))\n",
    "sayıkarelist=[]\n",
    "for x in range(1,sayı,1):\n",
    "    sayıkarelist.append(x**2)\n",
    "print(sayıkarelist)    \n",
    "    \n",
    "    "
   ]
  },
  {
   "cell_type": "code",
   "execution_count": 6,
   "id": "41c5afd9",
   "metadata": {},
   "outputs": [
    {
     "name": "stdout",
     "output_type": "stream",
     "text": [
      "1.puan giriniz45\n",
      "2.puan giriniz40\n",
      "3.puan giriniz25\n",
      "4.puan giriniz1\n",
      "birinci: 45 ikinci: 40 üçüncü: 25 dördüncü: 1\n",
      "brinici ile ikinci arasındaki fark 5\n"
     ]
    }
   ],
   "source": [
    "birinci=int(input(\"1.puan giriniz\"))\n",
    "ikinci=int(input(\"2.puan giriniz\"))\n",
    "üçüncü=int(input(\"3.puan giriniz\"))\n",
    "dördüncü=int(input(\"4.puan giriniz\"))\n",
    "print(\"birinci:\",birinci,\"ikinci:\",ikinci,\"üçüncü:\",üçüncü,\"dördüncü:\",dördüncü)\n",
    "print(\"brinici ile ikinci arasındaki fark\",birinci-ikinci)"
   ]
  },
  {
   "cell_type": "code",
   "execution_count": 8,
   "id": "f3297ea3",
   "metadata": {},
   "outputs": [],
   "source": [
    "# kullanıcıdan alınan ilk girdi liste sayısını ifade etmektedir. Liste alındıktan sonra kullanıcı\n",
    "# son olarak hangi isme ait aritmetik ortalamayı hesaplayacağını girecektir."
   ]
  },
  {
   "cell_type": "code",
   "execution_count": 12,
   "id": "7c7e0fb5",
   "metadata": {},
   "outputs": [
    {
     "ename": "SyntaxError",
     "evalue": "invalid syntax (<ipython-input-12-c0a82c759d55>, line 5)",
     "output_type": "error",
     "traceback": [
      "\u001b[1;36m  File \u001b[1;32m\"<ipython-input-12-c0a82c759d55>\"\u001b[1;36m, line \u001b[1;32m5\u001b[0m\n\u001b[1;33m    list=[a]\u001b[0m\n\u001b[1;37m    ^\u001b[0m\n\u001b[1;31mSyntaxError\u001b[0m\u001b[1;31m:\u001b[0m invalid syntax\n"
     ]
    }
   ],
   "source": [
    "a=int(input(\"oluşturulcak liste sayısı=\")\n",
    "for i in range(1,a)\n",
    "    if i==a+1\n",
    "      \n",
    "    list=[a]\n",
    "b=int(input(\"kişi sayısı=\"))      \n",
    "for j in range(1,(b+1)):\n",
    "       if j<=b:\n",
    "       =int(input(\"{0}.puan giriniz\".format(j)))\n"
   ]
  },
  {
   "cell_type": "code",
   "execution_count": 13,
   "id": "0b4c4793",
   "metadata": {},
   "outputs": [
    {
     "data": {
      "text/plain": [
       "'noluyo♥lan♥he♥anasını♥satim'"
      ]
     },
     "execution_count": 13,
     "metadata": {},
     "output_type": "execute_result"
    }
   ],
   "source": [
    "a=\"noluyo lan he anasını satim\"\n",
    "liste= a.split(\" \")\n",
    "\"♥\".join(liste)"
   ]
  },
  {
   "cell_type": "code",
   "execution_count": null,
   "id": "7dd562ac",
   "metadata": {},
   "outputs": [],
   "source": []
  },
  {
   "cell_type": "code",
   "execution_count": null,
   "id": "df9b9dcb",
   "metadata": {},
   "outputs": [],
   "source": []
  }
 ],
 "metadata": {
  "kernelspec": {
   "display_name": "Python 3",
   "language": "python",
   "name": "python3"
  },
  "language_info": {
   "codemirror_mode": {
    "name": "ipython",
    "version": 3
   },
   "file_extension": ".py",
   "mimetype": "text/x-python",
   "name": "python",
   "nbconvert_exporter": "python",
   "pygments_lexer": "ipython3",
   "version": "3.8.8"
  }
 },
 "nbformat": 4,
 "nbformat_minor": 5
}
