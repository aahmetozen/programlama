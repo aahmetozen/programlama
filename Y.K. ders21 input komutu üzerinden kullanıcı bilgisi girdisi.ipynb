{
 "cells": [
  {
   "cell_type": "markdown",
   "id": "20dbe4d6",
   "metadata": {},
   "source": [
    "# Kullanıcı Bilgisi"
   ]
  },
  {
   "cell_type": "code",
   "execution_count": 1,
   "id": "b599d4f8",
   "metadata": {},
   "outputs": [
    {
     "name": "stdout",
     "output_type": "stream",
     "text": [
      "bir sayı giriniz:15\n"
     ]
    },
    {
     "data": {
      "text/plain": [
       "'15'"
      ]
     },
     "execution_count": 1,
     "metadata": {},
     "output_type": "execute_result"
    }
   ],
   "source": [
    "input(\"bir sayı giriniz:\")"
   ]
  },
  {
   "cell_type": "code",
   "execution_count": 2,
   "id": "97d76368",
   "metadata": {},
   "outputs": [
    {
     "name": "stdout",
     "output_type": "stream",
     "text": [
      "bir sayı giriniz:15\n"
     ]
    },
    {
     "data": {
      "text/plain": [
       "str"
      ]
     },
     "execution_count": 2,
     "metadata": {},
     "output_type": "execute_result"
    }
   ],
   "source": [
    "girdi= input(\"bir sayı giriniz:\")\n",
    "type(girdi)"
   ]
  },
  {
   "cell_type": "code",
   "execution_count": 5,
   "id": "41fef6c4",
   "metadata": {},
   "outputs": [],
   "source": [
    "def uygulama():\n",
    "    girdi= input(\"bir sayı giriniz:\")\n",
    "    islem= input(\"verinin tek mi çift mi lduğunu sorgula:\")\n",
    "    \n",
    "    if islem=='çift':\n",
    "        if int(girdi)%2==0:\n",
    "            return 'evet {} sayısı çift sayıdır'.format(girdi)\n",
    "        else:\n",
    "            return 'hayır bu çift sayı değildir'\n",
    "    \n",
    "    elif islem=='tek':\n",
    "        if int(girdi)%2==1:\n",
    "            return 'evet bu tek sayıdır'\n",
    "        else:\n",
    "            return 'hayır bu tek sayı değildir'"
   ]
  },
  {
   "cell_type": "code",
   "execution_count": 6,
   "id": "db81f0ee",
   "metadata": {},
   "outputs": [
    {
     "name": "stdout",
     "output_type": "stream",
     "text": [
      "bir sayı giriniz:5\n",
      "verinin tek mi çift mi lduğunu sorgula:tek\n"
     ]
    },
    {
     "data": {
      "text/plain": [
       "'evet bu tek sayıdır'"
      ]
     },
     "execution_count": 6,
     "metadata": {},
     "output_type": "execute_result"
    }
   ],
   "source": [
    "uygulama()"
   ]
  },
  {
   "cell_type": "code",
   "execution_count": null,
   "id": "a89a34a5",
   "metadata": {},
   "outputs": [],
   "source": []
  }
 ],
 "metadata": {
  "kernelspec": {
   "display_name": "Python 3",
   "language": "python",
   "name": "python3"
  },
  "language_info": {
   "codemirror_mode": {
    "name": "ipython",
    "version": 3
   },
   "file_extension": ".py",
   "mimetype": "text/x-python",
   "name": "python",
   "nbconvert_exporter": "python",
   "pygments_lexer": "ipython3",
   "version": "3.8.8"
  }
 },
 "nbformat": 4,
 "nbformat_minor": 5
}
