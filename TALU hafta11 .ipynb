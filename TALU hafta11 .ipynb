{
 "cells": [
  {
   "cell_type": "code",
   "execution_count": 1,
   "id": "8d31069e",
   "metadata": {},
   "outputs": [],
   "source": [
    "# talunu önerdiği siteler"
   ]
  },
  {
   "cell_type": "raw",
   "id": "acdb1474",
   "metadata": {},
   "source": [
    "www.geeksforgeeks.org/\n",
    "\n",
    "www.hackerearth.com/\n",
    "\n",
    "www.interviewbit.com\n",
    "\n",
    "leetcode.com/problemset/all/\n",
    "\n",
    "www.practicepython.org/"
   ]
  }
 ],
 "metadata": {
  "kernelspec": {
   "display_name": "Python 3",
   "language": "python",
   "name": "python3"
  },
  "language_info": {
   "codemirror_mode": {
    "name": "ipython",
    "version": 3
   },
   "file_extension": ".py",
   "mimetype": "text/x-python",
   "name": "python",
   "nbconvert_exporter": "python",
   "pygments_lexer": "ipython3",
   "version": "3.8.8"
  }
 },
 "nbformat": 4,
 "nbformat_minor": 5
}
