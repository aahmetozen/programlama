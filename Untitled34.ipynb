{
 "cells": [
  {
   "cell_type": "code",
   "execution_count": 1,
   "id": "8a98df6e",
   "metadata": {},
   "outputs": [
    {
     "name": "stdout",
     "output_type": "stream",
     "text": [
      "hello world\n"
     ]
    }
   ],
   "source": [
    "# print(\"hello world\")\n",
    "# print(\"hello world\")\n",
    "# print(\"hello world\")\n",
    "# print(\"hello world\")"
   ]
  },
  {
   "cell_type": "code",
   "execution_count": 2,
   "id": "4e81f822",
   "metadata": {},
   "outputs": [
    {
     "name": "stdout",
     "output_type": "stream",
     "text": [
      "merhaba merhaba merhaba \n"
     ]
    }
   ],
   "source": [
    "#dksfnsdöf\n",
    "#dksfnsdöf\n",
    "#dksfnsdöf\n",
    "#dksfnsdöf\n",
    "print(\"merhaba \" *3)"
   ]
  },
  {
   "cell_type": "code",
   "execution_count": 18,
   "id": "3a65872f",
   "metadata": {},
   "outputs": [
    {
     "name": "stdout",
     "output_type": "stream",
     "text": [
      "pc markası: exaclibur\n",
      "ekran kartı: 3050\n",
      "işlemci: i5\n"
     ]
    }
   ],
   "source": [
    "Marka=\"exaclibur\"\n",
    "Ekran_kartı=3050\n",
    "İşlemci=\"i5\"\n",
    "print(\"pc markası: {}\\nekran kartı: {}\\nişlemci: {}\".format(Marka,Ekran_kartı,İşlemci))"
   ]
  },
  {
   "cell_type": "code",
   "execution_count": null,
   "id": "f5c7151c",
   "metadata": {},
   "outputs": [],
   "source": []
  }
 ],
 "metadata": {
  "kernelspec": {
   "display_name": "Python 3",
   "language": "python",
   "name": "python3"
  },
  "language_info": {
   "codemirror_mode": {
    "name": "ipython",
    "version": 3
   },
   "file_extension": ".py",
   "mimetype": "text/x-python",
   "name": "python",
   "nbconvert_exporter": "python",
   "pygments_lexer": "ipython3",
   "version": "3.8.8"
  }
 },
 "nbformat": 4,
 "nbformat_minor": 5
}
