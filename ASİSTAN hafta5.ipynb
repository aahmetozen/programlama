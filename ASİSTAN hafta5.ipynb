{
 "cells": [
  {
   "cell_type": "code",
   "execution_count": 1,
   "id": "ae3aa4da",
   "metadata": {},
   "outputs": [],
   "source": [
    "# kullanıcıdan alınan string değerin uzunluğunu tespit eden kodu yazınız."
   ]
  },
  {
   "cell_type": "code",
   "execution_count": 2,
   "id": "3181cada",
   "metadata": {},
   "outputs": [
    {
     "name": "stdout",
     "output_type": "stream",
     "text": [
      "ahmet özen\n",
      "toplam karakter sayısı 10 dir\n"
     ]
    }
   ],
   "source": [
    "val=input()\n",
    "deger=0\n",
    "for ch in val:\n",
    "    deger+=1\n",
    "print(\"toplam karakter sayısı {0} dir\".format(deger))"
   ]
  },
  {
   "cell_type": "code",
   "execution_count": 3,
   "id": "b004ccdf",
   "metadata": {},
   "outputs": [],
   "source": [
    "# kullanıcıdan alınan değerin sayı,alfabe,alfanumerik, hangi sınıfa ait olduğunu bulan programı kodlayınız."
   ]
  },
  {
   "cell_type": "code",
   "execution_count": 22,
   "id": "52d4e321",
   "metadata": {},
   "outputs": [
    {
     "name": "stdout",
     "output_type": "stream",
     "text": [
      "132a1sd\n",
      "alfanumerik\n"
     ]
    }
   ],
   "source": [
    "val=input()\n",
    "num_lıst=['0','1','2','3','4','5','6','7','8','9']\n",
    "char_lıst=['a','b','c','d','e','f','g','k','l','m','n','o','p','r','s','ş','t','ı','i','o','ö','u','ü','c','v']\n",
    "is_num = False\n",
    "is_alpha = False\n",
    "is_other = False\n",
    "for ch in val:\n",
    "    if ch in num_lıst:\n",
    "        is_num=True\n",
    "    elif ch in char_lıst:\n",
    "        is_alpha=True\n",
    "    else:\n",
    "        is_other=True\n",
    "if is_other:\n",
    "    print(\"diğer\")\n",
    "elif is_num and is_alpha:\n",
    "    print(\"alfanumerik\")\n",
    "elif is_num:\n",
    "    print(\"sayı\")\n",
    "elif is_alpha:\n",
    "    print(\"harf\")\n",
    "else:\n",
    "    print(\"tespit edilemedi\")\n",
    "        \n",
    "   "
   ]
  },
  {
   "cell_type": "code",
   "execution_count": 23,
   "id": "603ffa80",
   "metadata": {},
   "outputs": [
    {
     "name": "stdout",
     "output_type": "stream",
     "text": [
      "1321\n",
      "sayı\n"
     ]
    }
   ],
   "source": [
    "val=input()\n",
    "is_num = False\n",
    "is_alpha = False\n",
    "is_other = False\n",
    "for ch in val:\n",
    "    asci = ord(ch)\n",
    "    if asci >= ord('0') and asci <= ord('9'):\n",
    "        is_num=True\n",
    "    elif(asci >= ord('A') and asci <= ord('Z')) or (asci >= ord('a') and asci <= ord('z')):\n",
    "        is_alpha=True\n",
    "    else:\n",
    "        is_other=True\n",
    "if is_other:\n",
    "    print(\"diğer\")\n",
    "elif is_num and is_alpha:\n",
    "    print(\"alfanumerik\")\n",
    "elif is_num:\n",
    "    print(\"sayı\")\n",
    "elif is_alpha:\n",
    "    print(\"harf\")\n",
    "else:\n",
    "    print(\"tespit edilemedi\")\n",
    "        \n",
    "   "
   ]
  },
  {
   "cell_type": "code",
   "execution_count": 24,
   "id": "cbad8278",
   "metadata": {},
   "outputs": [],
   "source": [
    "# verilen pozitif sayı kadar yıldız yazdıran program"
   ]
  },
  {
   "cell_type": "code",
   "execution_count": 33,
   "id": "74ee7577",
   "metadata": {},
   "outputs": [
    {
     "name": "stdout",
     "output_type": "stream",
     "text": [
      "5\n",
      "*\n",
      "**\n",
      "***\n",
      "****\n",
      "*****\n"
     ]
    }
   ],
   "source": [
    "val=int(input())\n",
    "for i in range(1,val+1):\n",
    "    for j in range(i):\n",
    "        print('*',end='')\n",
    "    print('\\n',end='')    "
   ]
  },
  {
   "cell_type": "code",
   "execution_count": 42,
   "id": "7801221d",
   "metadata": {},
   "outputs": [
    {
     "name": "stdout",
     "output_type": "stream",
     "text": [
      "5\n",
      "*\n",
      "**\n",
      "***\n",
      "****\n",
      "*****\n"
     ]
    }
   ],
   "source": [
    "val=int(input())\n",
    "for i in range(1,val+1):\n",
    "    print(\"*\"*i)"
   ]
  },
  {
   "cell_type": "code",
   "execution_count": 44,
   "id": "7370fa7c",
   "metadata": {},
   "outputs": [
    {
     "name": "stdout",
     "output_type": "stream",
     "text": [
      "5\n",
      "*\n",
      "**\n",
      "***\n",
      "****\n",
      "*****\n",
      "*****\n",
      "****\n",
      "***\n",
      "**\n",
      "*\n"
     ]
    }
   ],
   "source": [
    "val=int(input())\n",
    "for i in range(1,val+1):\n",
    "    print(\"*\"*i)    \n",
    "\n",
    "\n",
    "\n",
    "\n",
    "for i in range(val,0,-1):\n",
    "    print(\"*\"*i)\n",
    "    \n"
   ]
  },
  {
   "cell_type": "code",
   "execution_count": 45,
   "id": "4c00017d",
   "metadata": {},
   "outputs": [],
   "source": [
    "# 1 havuzu farklı kullanıcıdan alınan verilere göre doldurulmaktadır veya boşaltılmaktadır. A:12 B:18 C:-9 saatde\n",
    "# verilen musluklar birlikte çalıştığında havuz kaç saatde dolar."
   ]
  },
  {
   "cell_type": "code",
   "execution_count": 49,
   "id": "fd735294",
   "metadata": {},
   "outputs": [
    {
     "name": "stdout",
     "output_type": "stream",
     "text": [
      "A:12 B:18 C:-9\n",
      "['A', '12']\n",
      "['B', '18']\n",
      "['C', '-9']\n",
      "36\n"
     ]
    }
   ],
   "source": [
    "val=input()\n",
    "muslukdeger=val.split()\n",
    "sonuc=0.0\n",
    "for md in muslukdeger:\n",
    "    tmd=md.split(\":\")\n",
    "    print(tmd)\n",
    "    sonuc+=1/int(tmd[1])\n",
    "sonuc=1/sonuc\n",
    "print(round(sonuc))"
   ]
  },
  {
   "cell_type": "code",
   "execution_count": null,
   "id": "d8aac83d",
   "metadata": {},
   "outputs": [],
   "source": []
  }
 ],
 "metadata": {
  "kernelspec": {
   "display_name": "Python 3",
   "language": "python",
   "name": "python3"
  },
  "language_info": {
   "codemirror_mode": {
    "name": "ipython",
    "version": 3
   },
   "file_extension": ".py",
   "mimetype": "text/x-python",
   "name": "python",
   "nbconvert_exporter": "python",
   "pygments_lexer": "ipython3",
   "version": "3.8.8"
  }
 },
 "nbformat": 4,
 "nbformat_minor": 5
}
